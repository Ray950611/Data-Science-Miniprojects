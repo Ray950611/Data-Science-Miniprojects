{
 "cells": [
  {
   "cell_type": "code",
   "execution_count": 59,
   "metadata": {
    "collapsed": true
   },
   "outputs": [],
   "source": [
    "%matplotlib inline\n",
    "import matplotlib\n",
    "import seaborn as sns\n",
    "matplotlib.rcParams['savefig.dpi'] = 144"
   ]
  },
  {
   "cell_type": "code",
   "execution_count": 60,
   "metadata": {
    "collapsed": true
   },
   "outputs": [],
   "source": [
    "import grader"
   ]
  },
  {
   "cell_type": "markdown",
   "metadata": {},
   "source": [
    "# SQL Miniproject\n",
    "\n",
    "## Introduction\n",
    "\n",
    "The city of New York does restaurant inspections and assigns a grade. Inspections data for the last 4 years are available on s3 as an SQLite database, which you can import in the next few cells. These were extracted from a set of csv files and an xls file, as described in the <b>How we loaded the data</b> section\n",
    "\n",
    "\n",
    "The raw data can be found [here](s3://dataincubator-course/coursedata/nyc_inspection_data.zip) and can be useful to look at. The file `RI_Webextract_BigApps_Latest.xls` contains a description of each of the datafiles and what the columns mean."
   ]
  },
  {
   "cell_type": "code",
   "execution_count": 3,
   "metadata": {
    "collapsed": true
   },
   "outputs": [],
   "source": [
    "!aws s3 sync s3://dataincubator-course/coursedata/ . --exclude '*' --include 'nyc_inspection.db'"
   ]
  },
  {
   "cell_type": "code",
   "execution_count": 4,
   "metadata": {},
   "outputs": [
    {
     "name": "stderr",
     "output_type": "stream",
     "text": [
      "/opt/conda/lib/python2.7/site-packages/IPython/config.py:13: ShimWarning: The `IPython.config` package has been deprecated since IPython 4.0. You should import from traitlets.config instead.\n",
      "  \"You should import from traitlets.config instead.\", ShimWarning)\n",
      "/opt/conda/lib/python2.7/site-packages/IPython/utils/traitlets.py:5: UserWarning: IPython.utils.traitlets has moved to a top-level traitlets package.\n",
      "  warn(\"IPython.utils.traitlets has moved to a top-level traitlets package.\")\n"
     ]
    },
    {
     "data": {
      "text/plain": [
       "u'Connected: None@nyc_inspection.db'"
      ]
     },
     "execution_count": 4,
     "metadata": {},
     "output_type": "execute_result"
    }
   ],
   "source": [
    "#This will load the pre-existing tables\n",
    "%load_ext sql\n",
    "%sql sqlite:///nyc_inspection.db"
   ]
  },
  {
   "cell_type": "markdown",
   "metadata": {},
   "source": [
    "To see what tables are in the database:"
   ]
  },
  {
   "cell_type": "code",
   "execution_count": 61,
   "metadata": {},
   "outputs": [
    {
     "name": "stdout",
     "output_type": "stream",
     "text": [
      "Done.\n"
     ]
    },
    {
     "data": {
      "text/html": [
       "<table>\n",
       "    <tr>\n",
       "        <th>type</th>\n",
       "        <th>name</th>\n",
       "        <th>tbl_name</th>\n",
       "        <th>rootpage</th>\n",
       "        <th>sql</th>\n",
       "    </tr>\n",
       "    <tr>\n",
       "        <td>table</td>\n",
       "        <td>writer</td>\n",
       "        <td>writer</td>\n",
       "        <td>2</td>\n",
       "        <td>CREATE TABLE writer (first_name, last_name, year)</td>\n",
       "    </tr>\n",
       "    <tr>\n",
       "        <td>table</td>\n",
       "        <td>webextract</td>\n",
       "        <td>webextract</td>\n",
       "        <td>3</td>\n",
       "        <td>CREATE TABLE webextract (<br>\t\"index\" BIGINT, <br>\t\"CAMIS\" BIGINT, <br>\t\"DBA\" TEXT, <br>\t\"BORO\" BIGINT, <br>\t\"BUILDING\" TEXT, <br>\t\"STREET\" TEXT, <br>\t\"ZIPCODE\" FLOAT, <br>\t\"PHONE\" TEXT, <br>\t\"CUISINECODE\" BIGINT, <br>\t\"INSPDATE\" TEXT, <br>\t\"ACTION\" TEXT, <br>\t\"VIOLCODE\" TEXT, <br>\t\"SCORE\" FLOAT, <br>\t\"CURRENTGRADE\" TEXT, <br>\t\"GRADEDATE\" TEXT, <br>\t\"RECORDDATE\" TEXT<br>)</td>\n",
       "    </tr>\n",
       "    <tr>\n",
       "        <td>table</td>\n",
       "        <td>violations</td>\n",
       "        <td>violations</td>\n",
       "        <td>24393</td>\n",
       "        <td>CREATE TABLE violations (<br>\t\"index\" BIGINT, <br>\t\"STARTDATE\" TEXT, <br>\t\"ENDDATE\" TEXT, <br>\t\"CRITICALFLAG\" TEXT, <br>\t\"VIOLATIONCODE\" TEXT, <br>\t\"VIOLATIONDESC\" TEXT<br>)</td>\n",
       "    </tr>\n",
       "    <tr>\n",
       "        <td>table</td>\n",
       "        <td>cuisine</td>\n",
       "        <td>cuisine</td>\n",
       "        <td>24426</td>\n",
       "        <td>CREATE TABLE cuisine (<br>\t\"index\" BIGINT, <br>\t\"CUISINECODE\" BIGINT, <br>\t\"CODEDESC\" TEXT<br>)</td>\n",
       "    </tr>\n",
       "    <tr>\n",
       "        <td>table</td>\n",
       "        <td>boroughs</td>\n",
       "        <td>boroughs</td>\n",
       "        <td>24428</td>\n",
       "        <td>CREATE TABLE boroughs (<br>   id   INT,<br>   name  TEXT<br>)</td>\n",
       "    </tr>\n",
       "    <tr>\n",
       "        <td>table</td>\n",
       "        <td>vio</td>\n",
       "        <td>vio</td>\n",
       "        <td>24429</td>\n",
       "        <td>CREATE TABLE vio (CODE,INSPDATE, CAMIS, VIOLCODE,CUISINE)</td>\n",
       "    </tr>\n",
       "    <tr>\n",
       "        <td>table</td>\n",
       "        <td>startdate</td>\n",
       "        <td>startdate</td>\n",
       "        <td>31072</td>\n",
       "        <td>CREATE TABLE startdate (CAMIS,CUISINE,start_date)</td>\n",
       "    </tr>\n",
       "    <tr>\n",
       "        <td>table</td>\n",
       "        <td>enddate</td>\n",
       "        <td>enddate</td>\n",
       "        <td>31344</td>\n",
       "        <td>CREATE TABLE enddate (CAMIS,CUISINE,end_date)</td>\n",
       "    </tr>\n",
       "    <tr>\n",
       "        <td>table</td>\n",
       "        <td>vio_by_cui</td>\n",
       "        <td>vio_by_cui</td>\n",
       "        <td>31616</td>\n",
       "        <td>CREATE TABLE vio_by_cui (CUISINE,viocount)</td>\n",
       "    </tr>\n",
       "    <tr>\n",
       "        <td>table</td>\n",
       "        <td>days_by_cui</td>\n",
       "        <td>days_by_cui</td>\n",
       "        <td>31617</td>\n",
       "        <td>CREATE TABLE days_by_cui (CUISINE,CAMIS,DAYS)</td>\n",
       "    </tr>\n",
       "    <tr>\n",
       "        <td>table</td>\n",
       "        <td>act_vio</td>\n",
       "        <td>act_vio</td>\n",
       "        <td>31820</td>\n",
       "        <td>CREATE TABLE act_vio (ENDDATE,VIOLCODE,VIOLATION)</td>\n",
       "    </tr>\n",
       "    <tr>\n",
       "        <td>table</td>\n",
       "        <td>vio_counts</td>\n",
       "        <td>vio_counts</td>\n",
       "        <td>31825</td>\n",
       "        <td>CREATE TABLE vio_counts (VIOLCODE,CUISINE,spec_count)</td>\n",
       "    </tr>\n",
       "    <tr>\n",
       "        <td>table</td>\n",
       "        <td>vio_counts_code</td>\n",
       "        <td>vio_counts_code</td>\n",
       "        <td>31831</td>\n",
       "        <td>CREATE TABLE vio_counts_code (VIOLCODE,count)</td>\n",
       "    </tr>\n",
       "    <tr>\n",
       "        <td>table</td>\n",
       "        <td>vio_counts_cui</td>\n",
       "        <td>vio_counts_cui</td>\n",
       "        <td>31832</td>\n",
       "        <td>CREATE TABLE vio_counts_cui (CUISINE,count)</td>\n",
       "    </tr>\n",
       "    <tr>\n",
       "        <td>table</td>\n",
       "        <td>results</td>\n",
       "        <td>results</td>\n",
       "        <td>31855</td>\n",
       "        <td>CREATE TABLE results (CUISINE,VIOLATION,ratio,count)</td>\n",
       "    </tr>\n",
       "</table>"
      ],
      "text/plain": [
       "[(u'table', u'writer', u'writer', 2, u'CREATE TABLE writer (first_name, last_name, year)'),\n",
       " (u'table', u'webextract', u'webextract', 3, u'CREATE TABLE webextract (\\n\\t\"index\" BIGINT, \\n\\t\"CAMIS\" BIGINT, \\n\\t\"DBA\" TEXT, \\n\\t\"BORO\" BIGINT, \\n\\t\"BUILDING\" TEXT, \\n\\t\"STREET\" TEXT, \\n\\t\"ZIPCODE\" FLOAT, \\n\\t\"PHONE\" TEXT, \\n\\t\"CUISINECODE\" BIGINT, \\n\\t\"INSPDATE\" TEXT, \\n\\t\"ACTION\" TEXT, \\n\\t\"VIOLCODE\" TEXT, \\n\\t\"SCORE\" FLOAT, \\n\\t\"CURRENTGRADE\" TEXT, \\n\\t\"GRADEDATE\" TEXT, \\n\\t\"RECORDDATE\" TEXT\\n)'),\n",
       " (u'table', u'violations', u'violations', 24393, u'CREATE TABLE violations (\\n\\t\"index\" BIGINT, \\n\\t\"STARTDATE\" TEXT, \\n\\t\"ENDDATE\" TEXT, \\n\\t\"CRITICALFLAG\" TEXT, \\n\\t\"VIOLATIONCODE\" TEXT, \\n\\t\"VIOLATIONDESC\" TEXT\\n)'),\n",
       " (u'table', u'cuisine', u'cuisine', 24426, u'CREATE TABLE cuisine (\\n\\t\"index\" BIGINT, \\n\\t\"CUISINECODE\" BIGINT, \\n\\t\"CODEDESC\" TEXT\\n)'),\n",
       " (u'table', u'boroughs', u'boroughs', 24428, u'CREATE TABLE boroughs (\\n   id   INT,\\n   name  TEXT\\n)'),\n",
       " (u'table', u'vio', u'vio', 24429, u'CREATE TABLE vio (CODE,INSPDATE, CAMIS, VIOLCODE,CUISINE)'),\n",
       " (u'table', u'startdate', u'startdate', 31072, u'CREATE TABLE startdate (CAMIS,CUISINE,start_date)'),\n",
       " (u'table', u'enddate', u'enddate', 31344, u'CREATE TABLE enddate (CAMIS,CUISINE,end_date)'),\n",
       " (u'table', u'vio_by_cui', u'vio_by_cui', 31616, u'CREATE TABLE vio_by_cui (CUISINE,viocount)'),\n",
       " (u'table', u'days_by_cui', u'days_by_cui', 31617, u'CREATE TABLE days_by_cui (CUISINE,CAMIS,DAYS)'),\n",
       " (u'table', u'act_vio', u'act_vio', 31820, u'CREATE TABLE act_vio (ENDDATE,VIOLCODE,VIOLATION)'),\n",
       " (u'table', u'vio_counts', u'vio_counts', 31825, u'CREATE TABLE vio_counts (VIOLCODE,CUISINE,spec_count)'),\n",
       " (u'table', u'vio_counts_code', u'vio_counts_code', 31831, u'CREATE TABLE vio_counts_code (VIOLCODE,count)'),\n",
       " (u'table', u'vio_counts_cui', u'vio_counts_cui', 31832, u'CREATE TABLE vio_counts_cui (CUISINE,count)'),\n",
       " (u'table', u'results', u'results', 31855, u'CREATE TABLE results (CUISINE,VIOLATION,ratio,count)')]"
      ]
     },
     "execution_count": 61,
     "metadata": {},
     "output_type": "execute_result"
    }
   ],
   "source": [
    "%%sql\n",
    "SELECT * FROM sqlite_master WHERE \"type\"='table';"
   ]
  },
  {
   "cell_type": "markdown",
   "metadata": {},
   "source": [
    "And to look at the format of an individual table (note that you may need to change types to get the answers in the right form):"
   ]
  },
  {
   "cell_type": "code",
   "execution_count": 62,
   "metadata": {},
   "outputs": [
    {
     "name": "stdout",
     "output_type": "stream",
     "text": [
      "Done.\n"
     ]
    },
    {
     "data": {
      "text/html": [
       "<table>\n",
       "    <tr>\n",
       "        <th>cid</th>\n",
       "        <th>name</th>\n",
       "        <th>type</th>\n",
       "        <th>notnull</th>\n",
       "        <th>dflt_value</th>\n",
       "        <th>pk</th>\n",
       "    </tr>\n",
       "    <tr>\n",
       "        <td>0</td>\n",
       "        <td>index</td>\n",
       "        <td>BIGINT</td>\n",
       "        <td>0</td>\n",
       "        <td>None</td>\n",
       "        <td>0</td>\n",
       "    </tr>\n",
       "    <tr>\n",
       "        <td>1</td>\n",
       "        <td>CAMIS</td>\n",
       "        <td>BIGINT</td>\n",
       "        <td>0</td>\n",
       "        <td>None</td>\n",
       "        <td>0</td>\n",
       "    </tr>\n",
       "    <tr>\n",
       "        <td>2</td>\n",
       "        <td>DBA</td>\n",
       "        <td>TEXT</td>\n",
       "        <td>0</td>\n",
       "        <td>None</td>\n",
       "        <td>0</td>\n",
       "    </tr>\n",
       "    <tr>\n",
       "        <td>3</td>\n",
       "        <td>BORO</td>\n",
       "        <td>BIGINT</td>\n",
       "        <td>0</td>\n",
       "        <td>None</td>\n",
       "        <td>0</td>\n",
       "    </tr>\n",
       "    <tr>\n",
       "        <td>4</td>\n",
       "        <td>BUILDING</td>\n",
       "        <td>TEXT</td>\n",
       "        <td>0</td>\n",
       "        <td>None</td>\n",
       "        <td>0</td>\n",
       "    </tr>\n",
       "    <tr>\n",
       "        <td>5</td>\n",
       "        <td>STREET</td>\n",
       "        <td>TEXT</td>\n",
       "        <td>0</td>\n",
       "        <td>None</td>\n",
       "        <td>0</td>\n",
       "    </tr>\n",
       "    <tr>\n",
       "        <td>6</td>\n",
       "        <td>ZIPCODE</td>\n",
       "        <td>FLOAT</td>\n",
       "        <td>0</td>\n",
       "        <td>None</td>\n",
       "        <td>0</td>\n",
       "    </tr>\n",
       "    <tr>\n",
       "        <td>7</td>\n",
       "        <td>PHONE</td>\n",
       "        <td>TEXT</td>\n",
       "        <td>0</td>\n",
       "        <td>None</td>\n",
       "        <td>0</td>\n",
       "    </tr>\n",
       "    <tr>\n",
       "        <td>8</td>\n",
       "        <td>CUISINECODE</td>\n",
       "        <td>BIGINT</td>\n",
       "        <td>0</td>\n",
       "        <td>None</td>\n",
       "        <td>0</td>\n",
       "    </tr>\n",
       "    <tr>\n",
       "        <td>9</td>\n",
       "        <td>INSPDATE</td>\n",
       "        <td>TEXT</td>\n",
       "        <td>0</td>\n",
       "        <td>None</td>\n",
       "        <td>0</td>\n",
       "    </tr>\n",
       "    <tr>\n",
       "        <td>10</td>\n",
       "        <td>ACTION</td>\n",
       "        <td>TEXT</td>\n",
       "        <td>0</td>\n",
       "        <td>None</td>\n",
       "        <td>0</td>\n",
       "    </tr>\n",
       "    <tr>\n",
       "        <td>11</td>\n",
       "        <td>VIOLCODE</td>\n",
       "        <td>TEXT</td>\n",
       "        <td>0</td>\n",
       "        <td>None</td>\n",
       "        <td>0</td>\n",
       "    </tr>\n",
       "    <tr>\n",
       "        <td>12</td>\n",
       "        <td>SCORE</td>\n",
       "        <td>FLOAT</td>\n",
       "        <td>0</td>\n",
       "        <td>None</td>\n",
       "        <td>0</td>\n",
       "    </tr>\n",
       "    <tr>\n",
       "        <td>13</td>\n",
       "        <td>CURRENTGRADE</td>\n",
       "        <td>TEXT</td>\n",
       "        <td>0</td>\n",
       "        <td>None</td>\n",
       "        <td>0</td>\n",
       "    </tr>\n",
       "    <tr>\n",
       "        <td>14</td>\n",
       "        <td>GRADEDATE</td>\n",
       "        <td>TEXT</td>\n",
       "        <td>0</td>\n",
       "        <td>None</td>\n",
       "        <td>0</td>\n",
       "    </tr>\n",
       "    <tr>\n",
       "        <td>15</td>\n",
       "        <td>RECORDDATE</td>\n",
       "        <td>TEXT</td>\n",
       "        <td>0</td>\n",
       "        <td>None</td>\n",
       "        <td>0</td>\n",
       "    </tr>\n",
       "</table>"
      ],
      "text/plain": [
       "[(0, u'index', u'BIGINT', 0, None, 0),\n",
       " (1, u'CAMIS', u'BIGINT', 0, None, 0),\n",
       " (2, u'DBA', u'TEXT', 0, None, 0),\n",
       " (3, u'BORO', u'BIGINT', 0, None, 0),\n",
       " (4, u'BUILDING', u'TEXT', 0, None, 0),\n",
       " (5, u'STREET', u'TEXT', 0, None, 0),\n",
       " (6, u'ZIPCODE', u'FLOAT', 0, None, 0),\n",
       " (7, u'PHONE', u'TEXT', 0, None, 0),\n",
       " (8, u'CUISINECODE', u'BIGINT', 0, None, 0),\n",
       " (9, u'INSPDATE', u'TEXT', 0, None, 0),\n",
       " (10, u'ACTION', u'TEXT', 0, None, 0),\n",
       " (11, u'VIOLCODE', u'TEXT', 0, None, 0),\n",
       " (12, u'SCORE', u'FLOAT', 0, None, 0),\n",
       " (13, u'CURRENTGRADE', u'TEXT', 0, None, 0),\n",
       " (14, u'GRADEDATE', u'TEXT', 0, None, 0),\n",
       " (15, u'RECORDDATE', u'TEXT', 0, None, 0)]"
      ]
     },
     "execution_count": 62,
     "metadata": {},
     "output_type": "execute_result"
    }
   ],
   "source": [
    "%%sql\n",
    "PRAGMA table_info(webextract) "
   ]
  },
  {
   "cell_type": "markdown",
   "metadata": {},
   "source": [
    "## SQLite3\n",
    "\n",
    "The project should be written in SQL. Between SQLite and PostgreSQL we recommend sqlite3 for this project.  You can use the sqlite command prompt by running this command in bash\n",
    "```bash\n",
    "sqlite3 cmd \"DROP TABLE IF EXISTS writer;\\\n",
    "CREATE TABLE IF NOT EXISTS writer (first_name, last_name, year);\\\n",
    "INSERT INTO writer VALUES ('William', 'Shakespeare', 1616);\\\n",
    "INSERT INTO writer VALUES ('Francis', 'Fitzgerald', 1896);\\\n",
    "\\\n",
    "SELECT * FROM writer;\\\n",
    "\"\n",
    "```\n",
    "Alternatively, you can run bash commands in a jupyter notebook by prepending the `!` in a code cell (notice that we conveniently get the output displayed"
   ]
  },
  {
   "cell_type": "code",
   "execution_count": 7,
   "metadata": {},
   "outputs": [
    {
     "name": "stdout",
     "output_type": "stream",
     "text": [
      "William|Shakespeare|1616\r\n",
      "Francis|Fitzgerald|1896\r\n"
     ]
    }
   ],
   "source": [
    "!sqlite3 cmd \"\"\"\\\n",
    "DROP TABLE IF EXISTS writer;\\\n",
    "CREATE TABLE IF NOT EXISTS writer (first_name, last_name, year);\\\n",
    "INSERT INTO writer VALUES ('William', 'Shakespeare', 1616);\\\n",
    "INSERT INTO writer VALUES ('Francis', 'Fitzgerald', 1896);\\\n",
    "\\\n",
    "SELECT * FROM writer;\\\n",
    "\"\"\""
   ]
  },
  {
   "cell_type": "markdown",
   "metadata": {},
   "source": [
    "Finally, we use the [ipython-sql extension](https://github.com/catherinedevlin/ipython-sql#ipython-sql) by first loaidng the sql extension and then running our code with the \"magic\" command in the first line\n",
    "```python\n",
    "%%sql sqlite://\n",
    "```\n",
    "Notice that the output table is formatted nicely as a nice HTML table.\n",
    "\n",
    "This is our recommended technique.  However, the grader is expecting python objects and you may need to use list comprehensions to reformat this output"
   ]
  },
  {
   "cell_type": "code",
   "execution_count": 8,
   "metadata": {},
   "outputs": [
    {
     "name": "stdout",
     "output_type": "stream",
     "text": [
      "Done.\n",
      "Done.\n",
      "1 rows affected.\n",
      "1 rows affected.\n",
      "Done.\n"
     ]
    },
    {
     "data": {
      "text/html": [
       "<table>\n",
       "    <tr>\n",
       "        <th>first_name</th>\n",
       "        <th>last_name</th>\n",
       "        <th>year</th>\n",
       "    </tr>\n",
       "    <tr>\n",
       "        <td>William</td>\n",
       "        <td>Shakespeare</td>\n",
       "        <td>1616</td>\n",
       "    </tr>\n",
       "    <tr>\n",
       "        <td>Francis</td>\n",
       "        <td>Fitzgerald</td>\n",
       "        <td>1896</td>\n",
       "    </tr>\n",
       "</table>"
      ],
      "text/plain": [
       "[(u'William', u'Shakespeare', 1616), (u'Francis', u'Fitzgerald', 1896)]"
      ]
     },
     "execution_count": 8,
     "metadata": {},
     "output_type": "execute_result"
    }
   ],
   "source": [
    "%%sql \n",
    "DROP TABLE IF EXISTS writer;\n",
    "CREATE TABLE IF NOT EXISTS writer (first_name, last_name, year);\n",
    "INSERT INTO writer VALUES ('William', 'Shakespeare', 1616);\n",
    "INSERT INTO writer VALUES ('Francis', 'Fitzgerald', 1896);\n",
    "\n",
    "SELECT * FROM writer;"
   ]
  },
  {
   "cell_type": "code",
   "execution_count": 9,
   "metadata": {
    "collapsed": true
   },
   "outputs": [],
   "source": [
    "result = _\n",
    "#This captures the output of the previous cell"
   ]
  },
  {
   "cell_type": "code",
   "execution_count": 10,
   "metadata": {},
   "outputs": [
    {
     "data": {
      "text/html": [
       "<table>\n",
       "    <tr>\n",
       "        <th>first_name</th>\n",
       "        <th>last_name</th>\n",
       "        <th>year</th>\n",
       "    </tr>\n",
       "    <tr>\n",
       "        <td>William</td>\n",
       "        <td>Shakespeare</td>\n",
       "        <td>1616</td>\n",
       "    </tr>\n",
       "    <tr>\n",
       "        <td>Francis</td>\n",
       "        <td>Fitzgerald</td>\n",
       "        <td>1896</td>\n",
       "    </tr>\n",
       "</table>"
      ],
      "text/plain": [
       "[(u'William', u'Shakespeare', 1616), (u'Francis', u'Fitzgerald', 1896)]"
      ]
     },
     "execution_count": 10,
     "metadata": {},
     "output_type": "execute_result"
    }
   ],
   "source": [
    "result"
   ]
  },
  {
   "cell_type": "markdown",
   "metadata": {},
   "source": [
    "## How we loaded the data\n",
    "\n",
    "For future reference, here is how you can load data in to SQL (with examples).  If you have a csv file you created with something like\n",
    "\n",
    "```\n",
    "!printf \"Name,Age\\nAlice,3\\nBob,10\" > sample.csv.nogit\n",
    "```\n",
    "\n",
    "\n",
    "Then Sqlite3 has a convenient [`.import` function](https://sqlite.org/cli.html#csv_import) which can create tables from `.csv` files.\n",
    "\n",
    "```bash\n",
    "sqlite> .import sample.csv.nogit sample\n",
    "sqlite> SELECT * FROM sample;\n",
    "```\n",
    "\n",
    "The files may contain malformatted text.  Unfortunately, this is all too common.  As a stop gap, remember that [`iconv`](https://linux.die.net/man/1/iconv) is a unix utility that can convert files between different text encodings.\n",
    "\n",
    "Alternatively, you can also read csv files using pandas and convert that into SQL via some sql magic (this is what we actually did).\n",
    "\n",
    "```\n",
    "import pandas as pd\n",
    "sample = pd.read_csv('sample.csv.nogit')\n",
    "%sql DROP TABLE IF EXISTS sample\n",
    "%sql PERSIST sample\n",
    "%sql SELECT * FROM sample;\n",
    "```"
   ]
  },
  {
   "cell_type": "markdown",
   "metadata": {},
   "source": [
    "## Question 1: null_entries\n",
    "\n",
    "Return the number of inspections (CAMIS, INSPDATE pairs) that do not have a score. Remove the corresponding rows from the dataset for the rest of the questions in the assignment.\n",
    "\n",
    "**Question:** How else might we have handled this?"
   ]
  },
  {
   "cell_type": "code",
   "execution_count": 12,
   "metadata": {},
   "outputs": [
    {
     "name": "stdout",
     "output_type": "stream",
     "text": [
      "Done.\n"
     ]
    },
    {
     "data": {
      "text/html": [
       "<table>\n",
       "    <tr>\n",
       "        <th>COUNT(*)</th>\n",
       "    </tr>\n",
       "    <tr>\n",
       "        <td>28864</td>\n",
       "    </tr>\n",
       "</table>"
      ],
      "text/plain": [
       "[(28864,)]"
      ]
     },
     "execution_count": 12,
     "metadata": {},
     "output_type": "execute_result"
    }
   ],
   "source": [
    "%%sql \n",
    "SELECT COUNT(*) FROM (SELECT CAMIS,INSPDATE FROM  webextract WHERE SCORE IS NULL GROUP BY CAMIS,INSPDATE) "
   ]
  },
  {
   "cell_type": "code",
   "execution_count": 13,
   "metadata": {},
   "outputs": [
    {
     "name": "stdout",
     "output_type": "stream",
     "text": [
      "Done.\n"
     ]
    },
    {
     "data": {
      "text/html": [
       "<table>\n",
       "    <tr>\n",
       "        <th>COUNT(*)</th>\n",
       "    </tr>\n",
       "    <tr>\n",
       "        <td>160492</td>\n",
       "    </tr>\n",
       "</table>"
      ],
      "text/plain": [
       "[(160492,)]"
      ]
     },
     "execution_count": 13,
     "metadata": {},
     "output_type": "execute_result"
    }
   ],
   "source": [
    "%%sql \n",
    "SELECT COUNT(*) FROM (SELECT CAMIS,INSPDATE FROM  webextract WHERE SCORE IS NOT NULL GROUP BY CAMIS,INSPDATE) "
   ]
  },
  {
   "cell_type": "code",
   "execution_count": 14,
   "metadata": {},
   "outputs": [
    {
     "name": "stdout",
     "output_type": "stream",
     "text": [
      "Done.\n"
     ]
    },
    {
     "data": {
      "text/html": [
       "<table>\n",
       "    <tr>\n",
       "        <th>COUNT(*)</th>\n",
       "    </tr>\n",
       "    <tr>\n",
       "        <td>168747</td>\n",
       "    </tr>\n",
       "</table>"
      ],
      "text/plain": [
       "[(168747,)]"
      ]
     },
     "execution_count": 14,
     "metadata": {},
     "output_type": "execute_result"
    }
   ],
   "source": [
    "%%sql\n",
    "SELECT COUNT(*) FROM (SELECT CAMIS,INSPDATE FROM webextract GROUP BY CAMIS,INSPDATE)\n"
   ]
  },
  {
   "cell_type": "code",
   "execution_count": 212,
   "metadata": {},
   "outputs": [
    {
     "data": {
      "text/plain": [
       "8255"
      ]
     },
     "execution_count": 212,
     "metadata": {},
     "output_type": "execute_result"
    }
   ],
   "source": [
    "abs(160492-168747)"
   ]
  },
  {
   "cell_type": "code",
   "execution_count": 22,
   "metadata": {},
   "outputs": [
    {
     "name": "stdout",
     "output_type": "stream",
     "text": [
      "33524 rows affected.\n"
     ]
    },
    {
     "data": {
      "text/plain": [
       "[]"
      ]
     },
     "execution_count": 22,
     "metadata": {},
     "output_type": "execute_result"
    }
   ],
   "source": [
    "%%sql\n",
    "DELETE FROM webextract WHERE SCORE IS NULL"
   ]
  },
  {
   "cell_type": "code",
   "execution_count": 6,
   "metadata": {},
   "outputs": [
    {
     "name": "stdout",
     "output_type": "stream",
     "text": [
      "==================\n",
      "Your score:  1\n",
      "==================\n"
     ]
    }
   ],
   "source": [
    "\n",
    "def null_entries():\n",
    "    return 8255\n",
    "\n",
    "grader.score('sql__null_entries', null_entries)"
   ]
  },
  {
   "cell_type": "markdown",
   "metadata": {},
   "source": [
    "## Question 2: score_by_zipcode\n",
    "\n",
    "Return a list of tuples of the form:\n",
    "\n",
    "    (zipcode, mean score, number of restaurants)\n",
    "\n",
    "for each of the 87 zipcodes in the city with over 100 restaurants. Use the score from the latest inspection date for each restaurant. Sort the list in ascending order by mean score.\n",
    "\n",
    "**Note:** There is an interesting discussion here about what the mean score *means* in this dataset. Think about what we're actually calculating - does it represent what we're trying to understand about these zipcodes?\n",
    "\n",
    "What if we use the average of a restaurant's inspections instead of the latest?\n",
    "\n",
    "**Checkpoints:**\n",
    "- Total unique restaurants: 24,361;\n",
    "- Total restaurants in valid zipcodes: 19,172\n"
   ]
  },
  {
   "cell_type": "code",
   "execution_count": 374,
   "metadata": {},
   "outputs": [
    {
     "name": "stdout",
     "output_type": "stream",
     "text": [
      "Done.\n"
     ]
    },
    {
     "data": {
      "text/html": [
       "<table>\n",
       "    <tr>\n",
       "        <th>COUNT(*)</th>\n",
       "    </tr>\n",
       "    <tr>\n",
       "        <td>25232</td>\n",
       "    </tr>\n",
       "</table>"
      ],
      "text/plain": [
       "[(25232,)]"
      ]
     },
     "execution_count": 374,
     "metadata": {},
     "output_type": "execute_result"
    }
   ],
   "source": [
    "%%sql\n",
    "SELECT COUNT(*) FROM (SELECT CAMIS FROM webextract GROUP BY CAMIS)"
   ]
  },
  {
   "cell_type": "code",
   "execution_count": 252,
   "metadata": {},
   "outputs": [
    {
     "name": "stdout",
     "output_type": "stream",
     "text": [
      "Done.\n"
     ]
    },
    {
     "data": {
      "text/html": [
       "<table>\n",
       "    <tr>\n",
       "        <th>COUNT(*)</th>\n",
       "        <th>SUM(count)</th>\n",
       "    </tr>\n",
       "    <tr>\n",
       "        <td>87</td>\n",
       "        <td>19172</td>\n",
       "    </tr>\n",
       "</table>"
      ],
      "text/plain": [
       "[(87, 19172)]"
      ]
     },
     "execution_count": 252,
     "metadata": {},
     "output_type": "execute_result"
    }
   ],
   "source": [
    "%%sql\n",
    "SELECT COUNT(*),SUM(count) FROM \n",
    "(SELECT ZIPCODE,count FROM (SELECT ZIPCODE,COUNT(DISTINCT CAMIS) AS count FROM webextract GROUP BY ZIPCODE) WHERE (count>100))"
   ]
  },
  {
   "cell_type": "code",
   "execution_count": 318,
   "metadata": {},
   "outputs": [
    {
     "name": "stdout",
     "output_type": "stream",
     "text": [
      "Done.\n"
     ]
    },
    {
     "data": {
      "text/html": [
       "<table>\n",
       "    <tr>\n",
       "        <th>ZIPCODE</th>\n",
       "        <th>avg</th>\n",
       "        <th>count</th>\n",
       "    </tr>\n",
       "    <tr>\n",
       "        <td>10451.0</td>\n",
       "        <td>9.14285714286</td>\n",
       "        <td>154</td>\n",
       "    </tr>\n",
       "    <tr>\n",
       "        <td>10001.0</td>\n",
       "        <td>9.14949494949</td>\n",
       "        <td>495</td>\n",
       "    </tr>\n",
       "    <tr>\n",
       "        <td>11430.0</td>\n",
       "        <td>9.68965517241</td>\n",
       "        <td>145</td>\n",
       "    </tr>\n",
       "    <tr>\n",
       "        <td>11236.0</td>\n",
       "        <td>9.83018867925</td>\n",
       "        <td>106</td>\n",
       "    </tr>\n",
       "    <tr>\n",
       "        <td>10472.0</td>\n",
       "        <td>10.1308411215</td>\n",
       "        <td>107</td>\n",
       "    </tr>\n",
       "    <tr>\n",
       "        <td>11234.0</td>\n",
       "        <td>10.1862068966</td>\n",
       "        <td>145</td>\n",
       "    </tr>\n",
       "    <tr>\n",
       "        <td>11217.0</td>\n",
       "        <td>10.3455284553</td>\n",
       "        <td>246</td>\n",
       "    </tr>\n",
       "    <tr>\n",
       "        <td>10306.0</td>\n",
       "        <td>10.5333333333</td>\n",
       "        <td>105</td>\n",
       "    </tr>\n",
       "    <tr>\n",
       "        <td>11368.0</td>\n",
       "        <td>10.5357142857</td>\n",
       "        <td>280</td>\n",
       "    </tr>\n",
       "    <tr>\n",
       "        <td>10462.0</td>\n",
       "        <td>10.5379310345</td>\n",
       "        <td>145</td>\n",
       "    </tr>\n",
       "    <tr>\n",
       "        <td>11231.0</td>\n",
       "        <td>10.5657894737</td>\n",
       "        <td>152</td>\n",
       "    </tr>\n",
       "    <tr>\n",
       "        <td>11237.0</td>\n",
       "        <td>10.6</td>\n",
       "        <td>175</td>\n",
       "    </tr>\n",
       "    <tr>\n",
       "        <td>10461.0</td>\n",
       "        <td>10.677852349</td>\n",
       "        <td>149</td>\n",
       "    </tr>\n",
       "    <tr>\n",
       "        <td>11209.0</td>\n",
       "        <td>10.6916996047</td>\n",
       "        <td>253</td>\n",
       "    </tr>\n",
       "    <tr>\n",
       "        <td>10019.0</td>\n",
       "        <td>10.7608024691</td>\n",
       "        <td>648</td>\n",
       "    </tr>\n",
       "    <tr>\n",
       "        <td>11201.0</td>\n",
       "        <td>10.7687687688</td>\n",
       "        <td>333</td>\n",
       "    </tr>\n",
       "    <tr>\n",
       "        <td>11105.0</td>\n",
       "        <td>10.7731092437</td>\n",
       "        <td>119</td>\n",
       "    </tr>\n",
       "    <tr>\n",
       "        <td>10065.0</td>\n",
       "        <td>10.9041916168</td>\n",
       "        <td>167</td>\n",
       "    </tr>\n",
       "    <tr>\n",
       "        <td>11435.0</td>\n",
       "        <td>10.9223300971</td>\n",
       "        <td>103</td>\n",
       "    </tr>\n",
       "    <tr>\n",
       "        <td>10463.0</td>\n",
       "        <td>10.9682539683</td>\n",
       "        <td>126</td>\n",
       "    </tr>\n",
       "    <tr>\n",
       "        <td>10022.0</td>\n",
       "        <td>10.9746300211</td>\n",
       "        <td>473</td>\n",
       "    </tr>\n",
       "    <tr>\n",
       "        <td>10458.0</td>\n",
       "        <td>11.0</td>\n",
       "        <td>188</td>\n",
       "    </tr>\n",
       "    <tr>\n",
       "        <td>10023.0</td>\n",
       "        <td>11.0208333333</td>\n",
       "        <td>192</td>\n",
       "    </tr>\n",
       "    <tr>\n",
       "        <td>10468.0</td>\n",
       "        <td>11.0490196078</td>\n",
       "        <td>102</td>\n",
       "    </tr>\n",
       "    <tr>\n",
       "        <td>10004.0</td>\n",
       "        <td>11.0708661417</td>\n",
       "        <td>127</td>\n",
       "    </tr>\n",
       "    <tr>\n",
       "        <td>11207.0</td>\n",
       "        <td>11.1015625</td>\n",
       "        <td>128</td>\n",
       "    </tr>\n",
       "    <tr>\n",
       "        <td>10007.0</td>\n",
       "        <td>11.1145038168</td>\n",
       "        <td>131</td>\n",
       "    </tr>\n",
       "    <tr>\n",
       "        <td>10036.0</td>\n",
       "        <td>11.1376936317</td>\n",
       "        <td>581</td>\n",
       "    </tr>\n",
       "    <tr>\n",
       "        <td>11232.0</td>\n",
       "        <td>11.141509434</td>\n",
       "        <td>106</td>\n",
       "    </tr>\n",
       "    <tr>\n",
       "        <td>11222.0</td>\n",
       "        <td>11.1459459459</td>\n",
       "        <td>185</td>\n",
       "    </tr>\n",
       "    <tr>\n",
       "        <td>11361.0</td>\n",
       "        <td>11.1607142857</td>\n",
       "        <td>112</td>\n",
       "    </tr>\n",
       "    <tr>\n",
       "        <td>11238.0</td>\n",
       "        <td>11.2532751092</td>\n",
       "        <td>229</td>\n",
       "    </tr>\n",
       "    <tr>\n",
       "        <td>11204.0</td>\n",
       "        <td>11.2583333333</td>\n",
       "        <td>120</td>\n",
       "    </tr>\n",
       "    <tr>\n",
       "        <td>11215.0</td>\n",
       "        <td>11.3027777778</td>\n",
       "        <td>360</td>\n",
       "    </tr>\n",
       "    <tr>\n",
       "        <td>11385.0</td>\n",
       "        <td>11.304526749</td>\n",
       "        <td>243</td>\n",
       "    </tr>\n",
       "    <tr>\n",
       "        <td>11106.0</td>\n",
       "        <td>11.3181818182</td>\n",
       "        <td>154</td>\n",
       "    </tr>\n",
       "    <tr>\n",
       "        <td>11103.0</td>\n",
       "        <td>11.3383084577</td>\n",
       "        <td>201</td>\n",
       "    </tr>\n",
       "    <tr>\n",
       "        <td>10027.0</td>\n",
       "        <td>11.3481012658</td>\n",
       "        <td>158</td>\n",
       "    </tr>\n",
       "    <tr>\n",
       "        <td>10467.0</td>\n",
       "        <td>11.397515528</td>\n",
       "        <td>161</td>\n",
       "    </tr>\n",
       "    <tr>\n",
       "        <td>11101.0</td>\n",
       "        <td>11.4043478261</td>\n",
       "        <td>230</td>\n",
       "    </tr>\n",
       "    <tr>\n",
       "        <td>10017.0</td>\n",
       "        <td>11.4093406593</td>\n",
       "        <td>364</td>\n",
       "    </tr>\n",
       "    <tr>\n",
       "        <td>11218.0</td>\n",
       "        <td>11.4507042254</td>\n",
       "        <td>142</td>\n",
       "    </tr>\n",
       "    <tr>\n",
       "        <td>11432.0</td>\n",
       "        <td>11.5405405405</td>\n",
       "        <td>185</td>\n",
       "    </tr>\n",
       "    <tr>\n",
       "        <td>10010.0</td>\n",
       "        <td>11.5439330544</td>\n",
       "        <td>239</td>\n",
       "    </tr>\n",
       "    <tr>\n",
       "        <td>10028.0</td>\n",
       "        <td>11.6113744076</td>\n",
       "        <td>211</td>\n",
       "    </tr>\n",
       "    <tr>\n",
       "        <td>10038.0</td>\n",
       "        <td>11.6172839506</td>\n",
       "        <td>162</td>\n",
       "    </tr>\n",
       "    <tr>\n",
       "        <td>11226.0</td>\n",
       "        <td>11.6262626263</td>\n",
       "        <td>198</td>\n",
       "    </tr>\n",
       "    <tr>\n",
       "        <td>11373.0</td>\n",
       "        <td>11.6392694064</td>\n",
       "        <td>219</td>\n",
       "    </tr>\n",
       "    <tr>\n",
       "        <td>10024.0</td>\n",
       "        <td>11.6820512821</td>\n",
       "        <td>195</td>\n",
       "    </tr>\n",
       "    <tr>\n",
       "        <td>11230.0</td>\n",
       "        <td>11.7128712871</td>\n",
       "        <td>101</td>\n",
       "    </tr>\n",
       "    <tr>\n",
       "        <td>11221.0</td>\n",
       "        <td>11.7358490566</td>\n",
       "        <td>106</td>\n",
       "    </tr>\n",
       "    <tr>\n",
       "        <td>10011.0</td>\n",
       "        <td>11.7573696145</td>\n",
       "        <td>441</td>\n",
       "    </tr>\n",
       "    <tr>\n",
       "        <td>10014.0</td>\n",
       "        <td>11.7669172932</td>\n",
       "        <td>399</td>\n",
       "    </tr>\n",
       "    <tr>\n",
       "        <td>10012.0</td>\n",
       "        <td>11.7746835443</td>\n",
       "        <td>395</td>\n",
       "    </tr>\n",
       "    <tr>\n",
       "        <td>11375.0</td>\n",
       "        <td>11.8</td>\n",
       "        <td>190</td>\n",
       "    </tr>\n",
       "    <tr>\n",
       "        <td>10018.0</td>\n",
       "        <td>11.8369230769</td>\n",
       "        <td>325</td>\n",
       "    </tr>\n",
       "    <tr>\n",
       "        <td>10009.0</td>\n",
       "        <td>11.8580858086</td>\n",
       "        <td>303</td>\n",
       "    </tr>\n",
       "    <tr>\n",
       "        <td>11206.0</td>\n",
       "        <td>11.865248227</td>\n",
       "        <td>141</td>\n",
       "    </tr>\n",
       "    <tr>\n",
       "        <td>10003.0</td>\n",
       "        <td>11.9513677812</td>\n",
       "        <td>658</td>\n",
       "    </tr>\n",
       "    <tr>\n",
       "        <td>11358.0</td>\n",
       "        <td>11.9635036496</td>\n",
       "        <td>137</td>\n",
       "    </tr>\n",
       "    <tr>\n",
       "        <td>11219.0</td>\n",
       "        <td>11.9801980198</td>\n",
       "        <td>101</td>\n",
       "    </tr>\n",
       "    <tr>\n",
       "        <td>10016.0</td>\n",
       "        <td>11.9850746269</td>\n",
       "        <td>402</td>\n",
       "    </tr>\n",
       "    <tr>\n",
       "        <td>11208.0</td>\n",
       "        <td>11.9911504425</td>\n",
       "        <td>113</td>\n",
       "    </tr>\n",
       "    <tr>\n",
       "        <td>10025.0</td>\n",
       "        <td>12.0043668122</td>\n",
       "        <td>229</td>\n",
       "    </tr>\n",
       "    <tr>\n",
       "        <td>10002.0</td>\n",
       "        <td>12.0066079295</td>\n",
       "        <td>454</td>\n",
       "    </tr>\n",
       "    <tr>\n",
       "        <td>10029.0</td>\n",
       "        <td>12.1151832461</td>\n",
       "        <td>191</td>\n",
       "    </tr>\n",
       "    <tr>\n",
       "        <td>10314.0</td>\n",
       "        <td>12.1153846154</td>\n",
       "        <td>182</td>\n",
       "    </tr>\n",
       "    <tr>\n",
       "        <td>11205.0</td>\n",
       "        <td>12.1875</td>\n",
       "        <td>144</td>\n",
       "    </tr>\n",
       "    <tr>\n",
       "        <td>10013.0</td>\n",
       "        <td>12.2521551724</td>\n",
       "        <td>464</td>\n",
       "    </tr>\n",
       "    <tr>\n",
       "        <td>11223.0</td>\n",
       "        <td>12.2752808989</td>\n",
       "        <td>178</td>\n",
       "    </tr>\n",
       "    <tr>\n",
       "        <td>11203.0</td>\n",
       "        <td>12.2814814815</td>\n",
       "        <td>135</td>\n",
       "    </tr>\n",
       "    <tr>\n",
       "        <td>11216.0</td>\n",
       "        <td>12.320754717</td>\n",
       "        <td>159</td>\n",
       "    </tr>\n",
       "    <tr>\n",
       "        <td>11214.0</td>\n",
       "        <td>12.3714285714</td>\n",
       "        <td>175</td>\n",
       "    </tr>\n",
       "    <tr>\n",
       "        <td>11211.0</td>\n",
       "        <td>12.4022988506</td>\n",
       "        <td>348</td>\n",
       "    </tr>\n",
       "    <tr>\n",
       "        <td>10128.0</td>\n",
       "        <td>12.5732484076</td>\n",
       "        <td>157</td>\n",
       "    </tr>\n",
       "    <tr>\n",
       "        <td>10021.0</td>\n",
       "        <td>12.5906040268</td>\n",
       "        <td>149</td>\n",
       "    </tr>\n",
       "    <tr>\n",
       "        <td>11229.0</td>\n",
       "        <td>12.6884057971</td>\n",
       "        <td>138</td>\n",
       "    </tr>\n",
       "    <tr>\n",
       "        <td>11249.0</td>\n",
       "        <td>12.8367346939</td>\n",
       "        <td>147</td>\n",
       "    </tr>\n",
       "    <tr>\n",
       "        <td>11372.0</td>\n",
       "        <td>12.857605178</td>\n",
       "        <td>309</td>\n",
       "    </tr>\n",
       "    <tr>\n",
       "        <td>10032.0</td>\n",
       "        <td>12.9130434783</td>\n",
       "        <td>115</td>\n",
       "    </tr>\n",
       "    <tr>\n",
       "        <td>11354.0</td>\n",
       "        <td>13.1104651163</td>\n",
       "        <td>344</td>\n",
       "    </tr>\n",
       "    <tr>\n",
       "        <td>11377.0</td>\n",
       "        <td>13.1116504854</td>\n",
       "        <td>206</td>\n",
       "    </tr>\n",
       "    <tr>\n",
       "        <td>10033.0</td>\n",
       "        <td>13.1327433628</td>\n",
       "        <td>113</td>\n",
       "    </tr>\n",
       "    <tr>\n",
       "        <td>11235.0</td>\n",
       "        <td>13.2906976744</td>\n",
       "        <td>172</td>\n",
       "    </tr>\n",
       "    <tr>\n",
       "        <td>11220.0</td>\n",
       "        <td>13.3344262295</td>\n",
       "        <td>305</td>\n",
       "    </tr>\n",
       "    <tr>\n",
       "        <td>11104.0</td>\n",
       "        <td>13.3727272727</td>\n",
       "        <td>110</td>\n",
       "    </tr>\n",
       "    <tr>\n",
       "        <td>11355.0</td>\n",
       "        <td>14.0213903743</td>\n",
       "        <td>187</td>\n",
       "    </tr>\n",
       "</table>"
      ],
      "text/plain": [
       "[(10451.0, 9.142857142857142, 154),\n",
       " (10001.0, 9.14949494949495, 495),\n",
       " (11430.0, 9.689655172413794, 145),\n",
       " (11236.0, 9.830188679245284, 106),\n",
       " (10472.0, 10.130841121495328, 107),\n",
       " (11234.0, 10.186206896551724, 145),\n",
       " (11217.0, 10.345528455284553, 246),\n",
       " (10306.0, 10.533333333333333, 105),\n",
       " (11368.0, 10.535714285714286, 280),\n",
       " (10462.0, 10.537931034482758, 145),\n",
       " (11231.0, 10.56578947368421, 152),\n",
       " (11237.0, 10.6, 175),\n",
       " (10461.0, 10.677852348993289, 149),\n",
       " (11209.0, 10.691699604743082, 253),\n",
       " (10019.0, 10.760802469135802, 648),\n",
       " (11201.0, 10.76876876876877, 333),\n",
       " (11105.0, 10.77310924369748, 119),\n",
       " (10065.0, 10.904191616766466, 167),\n",
       " (11435.0, 10.922330097087379, 103),\n",
       " (10463.0, 10.968253968253968, 126),\n",
       " (10022.0, 10.97463002114165, 473),\n",
       " (10458.0, 11.0, 188),\n",
       " (10023.0, 11.020833333333334, 192),\n",
       " (10468.0, 11.049019607843137, 102),\n",
       " (10004.0, 11.070866141732283, 127),\n",
       " (11207.0, 11.1015625, 128),\n",
       " (10007.0, 11.114503816793894, 131),\n",
       " (10036.0, 11.137693631669535, 581),\n",
       " (11232.0, 11.141509433962264, 106),\n",
       " (11222.0, 11.145945945945947, 185),\n",
       " (11361.0, 11.160714285714286, 112),\n",
       " (11238.0, 11.253275109170305, 229),\n",
       " (11204.0, 11.258333333333333, 120),\n",
       " (11215.0, 11.302777777777777, 360),\n",
       " (11385.0, 11.304526748971194, 243),\n",
       " (11106.0, 11.318181818181818, 154),\n",
       " (11103.0, 11.338308457711443, 201),\n",
       " (10027.0, 11.348101265822784, 158),\n",
       " (10467.0, 11.397515527950311, 161),\n",
       " (11101.0, 11.404347826086957, 230),\n",
       " (10017.0, 11.409340659340659, 364),\n",
       " (11218.0, 11.450704225352112, 142),\n",
       " (11432.0, 11.54054054054054, 185),\n",
       " (10010.0, 11.543933054393305, 239),\n",
       " (10028.0, 11.611374407582938, 211),\n",
       " (10038.0, 11.617283950617283, 162),\n",
       " (11226.0, 11.626262626262626, 198),\n",
       " (11373.0, 11.639269406392694, 219),\n",
       " (10024.0, 11.682051282051281, 195),\n",
       " (11230.0, 11.712871287128714, 101),\n",
       " (11221.0, 11.735849056603774, 106),\n",
       " (10011.0, 11.757369614512472, 441),\n",
       " (10014.0, 11.766917293233083, 399),\n",
       " (10012.0, 11.774683544303798, 395),\n",
       " (11375.0, 11.8, 190),\n",
       " (10018.0, 11.836923076923076, 325),\n",
       " (10009.0, 11.858085808580858, 303),\n",
       " (11206.0, 11.865248226950355, 141),\n",
       " (10003.0, 11.951367781155016, 658),\n",
       " (11358.0, 11.963503649635037, 137),\n",
       " (11219.0, 11.98019801980198, 101),\n",
       " (10016.0, 11.985074626865671, 402),\n",
       " (11208.0, 11.991150442477876, 113),\n",
       " (10025.0, 12.004366812227074, 229),\n",
       " (10002.0, 12.006607929515418, 454),\n",
       " (10029.0, 12.115183246073299, 191),\n",
       " (10314.0, 12.115384615384615, 182),\n",
       " (11205.0, 12.1875, 144),\n",
       " (10013.0, 12.252155172413794, 464),\n",
       " (11223.0, 12.275280898876405, 178),\n",
       " (11203.0, 12.281481481481482, 135),\n",
       " (11216.0, 12.320754716981131, 159),\n",
       " (11214.0, 12.371428571428572, 175),\n",
       " (11211.0, 12.402298850574713, 348),\n",
       " (10128.0, 12.573248407643312, 157),\n",
       " (10021.0, 12.590604026845638, 149),\n",
       " (11229.0, 12.68840579710145, 138),\n",
       " (11249.0, 12.83673469387755, 147),\n",
       " (11372.0, 12.857605177993527, 309),\n",
       " (10032.0, 12.91304347826087, 115),\n",
       " (11354.0, 13.11046511627907, 344),\n",
       " (11377.0, 13.111650485436893, 206),\n",
       " (10033.0, 13.132743362831858, 113),\n",
       " (11235.0, 13.290697674418604, 172),\n",
       " (11220.0, 13.334426229508196, 305),\n",
       " (11104.0, 13.372727272727273, 110),\n",
       " (11355.0, 14.02139037433155, 187)]"
      ]
     },
     "execution_count": 318,
     "metadata": {},
     "output_type": "execute_result"
    }
   ],
   "source": [
    "%%sql\n",
    "SELECT ZIPCODE,avg,count FROM \n",
    "(SELECT ZIPCODE,COUNT(CAMIS) AS count, SUM(SCORE) AS score,SUM(SCORE)/COUNT(CAMIS) AS avg FROM\n",
    "(SELECT ZIPCODE,CAMIS,INSPDATE,SCORE FROM \n",
    "(SELECT ZIPCODE,CAMIS,INSPDATE,SCORE FROM webextract GROUP BY ZIPCODE,\n",
    "CAMIS,INSPDATE ORDER BY ZIPCODE,INSPDATE)\n",
    "GROUP BY ZIPCODE,CAMIS) GROUP BY ZIPCODE)\n",
    "WHERE (count>100) ORDER BY avg\n",
    "\n"
   ]
  },
  {
   "cell_type": "code",
   "execution_count": 320,
   "metadata": {},
   "outputs": [
    {
     "name": "stdout",
     "output_type": "stream",
     "text": [
      "==================\n",
      "Your score:  1.0\n",
      "==================\n"
     ]
    }
   ],
   "source": [
    "import sqlite3\n",
    "con = sqlite3.connect('nyc_inspection.db')\n",
    "cursor = con.cursor()\n",
    "cursor.execute('SELECT * FROM sqlite_master WHERE \"type\"=\"table\"')\n",
    "cursor.execute('PRAGMA table_info(webextract)')\n",
    "cursor.execute('DELETE FROM webextract WHERE SCORE IS NULL')\n",
    "cursor.execute('SELECT ZIPCODE,avg,count FROM (SELECT ZIPCODE,COUNT(CAMIS) AS count, SUM(SCORE) AS score,SUM(SCORE)/COUNT(CAMIS) AS avg FROM (SELECT ZIPCODE,CAMIS,INSPDATE,SCORE FROM (SELECT ZIPCODE,CAMIS,INSPDATE,SCORE FROM webextract GROUP BY ZIPCODE,CAMIS,INSPDATE ORDER BY ZIPCODE,INSPDATE) GROUP BY ZIPCODE,CAMIS) GROUP BY ZIPCODE) WHERE (count>100) ORDER BY avg')\n",
    "result = cursor.fetchall()\n",
    "def score_by_zipcode():\n",
    "    \n",
    "    \n",
    "    #print result\n",
    "    output = []\n",
    "    for item in result:\n",
    "        new_item = (str(int(item[0])),float(item[1]),int(item[2]))\n",
    "        output.append(new_item)\n",
    "#print output\n",
    "    return output\n",
    "\n",
    "grader.score('sql__score_by_zipcode', score_by_zipcode)"
   ]
  },
  {
   "cell_type": "code",
   "execution_count": 323,
   "metadata": {
    "collapsed": true
   },
   "outputs": [],
   "source": [
    "f = open('score_by_zip.csv','w')\n",
    "for line in output:\n",
    "    f.write(line[0]+',USA,'+str(line[1])+'\\n')\n",
    "f.close()"
   ]
  },
  {
   "cell_type": "markdown",
   "metadata": {},
   "source": [
    "## Question 3: score_by_map\n",
    "\n",
    "The above are not terribly enlightening.  Use [CartoDB](http://cartodb.com/) to produce a map of average scores by zip code.  You can sign up for a free trial.\n",
    "\n",
    "You will have to use their wizard to plot the data by [zipcode](https://carto.com/learn/guides/analysis/georeference). You will need to specify \"USA\" in the countryfield.  Then use the \"share\" button to return a link of the form [https://x.cartodb.com/](https://x.cartodb.com/).\n",
    "\n",
    "**For fun:** How do JFK, Brighton Beach, Liberty Island (home of the Statue of Liberty), Financial District, Chinatown, and Coney Island fare?\n",
    "\n",
    "**For more fun:** Plot restaurants as pins on the map, allowing the user to filter by \"low\", \"middling\", or \"high\"-scoring restaurants. You can use a CASE WHEN statement to create the different groups based on score thresholds."
   ]
  },
  {
   "cell_type": "code",
   "execution_count": 326,
   "metadata": {},
   "outputs": [
    {
     "name": "stdout",
     "output_type": "stream",
     "text": [
      "==================\n",
      "Your score:  1.0\n",
      "==================\n"
     ]
    }
   ],
   "source": [
    "def score_by_map():\n",
    "    # must be url of the form https://x.cartodb.com/...\n",
    "    return \"https://rayding95.carto.com/builder/873b5b42-b129-46f7-8bb7-99f4798902a7/embed\"\n",
    "\n",
    "grader.score('sql__score_by_map', score_by_map)"
   ]
  },
  {
   "cell_type": "markdown",
   "metadata": {},
   "source": [
    "## Question 4: score_by_borough\n",
    "Return a list of tuples of the form:\n",
    "\n",
    "    (borough, mean score, number of restaurants)\n",
    "\n",
    "for each of the city's five boroughs. Sort the list in ascending order by grade.\n",
    "\n",
    "**Hint:** You will have to perform a join with the `boroughs` table. The borough names should be reported in ALL CAPS.\n",
    "\n",
    "**Checkpoint:**\n",
    "- Total restaurants in valid boroughs: 24,350"
   ]
  },
  {
   "cell_type": "code",
   "execution_count": 335,
   "metadata": {},
   "outputs": [
    {
     "name": "stdout",
     "output_type": "stream",
     "text": [
      "Done.\n"
     ]
    },
    {
     "data": {
      "text/html": [
       "<table>\n",
       "    <tr>\n",
       "        <th>COUNT(*)</th>\n",
       "    </tr>\n",
       "    <tr>\n",
       "        <td>24350</td>\n",
       "    </tr>\n",
       "</table>"
      ],
      "text/plain": [
       "[(24350,)]"
      ]
     },
     "execution_count": 335,
     "metadata": {},
     "output_type": "execute_result"
    }
   ],
   "source": [
    "%%sql\n",
    "SELECT COUNT(*) FROM (SELECT CAMIS,BORO,SCORE FROM webextract WHERE BORO IS NOT NULL AND BORO IS NOT 0 GROUP BY CAMIS)"
   ]
  },
  {
   "cell_type": "code",
   "execution_count": 352,
   "metadata": {},
   "outputs": [
    {
     "name": "stdout",
     "output_type": "stream",
     "text": [
      "Done.\n"
     ]
    },
    {
     "data": {
      "text/html": [
       "<table>\n",
       "    <tr>\n",
       "        <th>name</th>\n",
       "        <th>avg</th>\n",
       "        <th>count</th>\n",
       "    </tr>\n",
       "    <tr>\n",
       "        <td>THE BRONX</td>\n",
       "        <td>10.7768522578</td>\n",
       "        <td>2281</td>\n",
       "    </tr>\n",
       "    <tr>\n",
       "        <td>MANHATTAN</td>\n",
       "        <td>11.4896370438</td>\n",
       "        <td>9891</td>\n",
       "    </tr>\n",
       "    <tr>\n",
       "        <td>BROOKLYN</td>\n",
       "        <td>11.5968541631</td>\n",
       "        <td>5849</td>\n",
       "    </tr>\n",
       "    <tr>\n",
       "        <td>QUEENS</td>\n",
       "        <td>11.8225955326</td>\n",
       "        <td>5417</td>\n",
       "    </tr>\n",
       "    <tr>\n",
       "        <td>STATEN ISLAND</td>\n",
       "        <td>11.899122807</td>\n",
       "        <td>912</td>\n",
       "    </tr>\n",
       "</table>"
      ],
      "text/plain": [
       "[(u'THE BRONX', 10.776852257781675, 2281),\n",
       " (u'MANHATTAN', 11.48963704377717, 9891),\n",
       " (u'BROOKLYN', 11.596854163104805, 5849),\n",
       " (u'QUEENS', 11.82259553258261, 5417),\n",
       " (u'STATEN ISLAND', 11.899122807017545, 912)]"
      ]
     },
     "execution_count": 352,
     "metadata": {},
     "output_type": "execute_result"
    }
   ],
   "source": [
    "%%sql\n",
    "SELECT boroughs.name,avg,count FROM \n",
    "(SELECT BORO,COUNT(CAMIS) AS count, SUM(SCORE) AS score,SUM(SCORE)/COUNT(CAMIS) AS avg FROM\n",
    "(SELECT BORO,CAMIS,INSPDATE,SCORE FROM \n",
    "(SELECT BORO,CAMIS,INSPDATE,SCORE FROM webextract WHERE BORO IS NOT NULL AND BORO IS NOT 0 GROUP BY BORO,\n",
    "CAMIS,INSPDATE ORDER BY BORO,INSPDATE)\n",
    "GROUP BY BORO,CAMIS) GROUP BY BORO)\n",
    "OUTTER JOIN boroughs ON BORO=boroughs.id\n",
    "ORDER BY avg "
   ]
  },
  {
   "cell_type": "code",
   "execution_count": 354,
   "metadata": {},
   "outputs": [
    {
     "name": "stdout",
     "output_type": "stream",
     "text": [
      "[(u'THE BRONX', 10.776852257781675, 2281), (u'MANHATTAN', 11.48963704377717, 9891), (u'BROOKLYN', 11.596854163104805, 5849), (u'QUEENS', 11.82259553258261, 5417), (u'STATEN ISLAND', 11.899122807017545, 912)]\n"
     ]
    }
   ],
   "source": [
    "\n",
    "cursor.execute('SELECT boroughs.name,avg,count FROM (SELECT BORO,COUNT(CAMIS) AS count, SUM(SCORE) AS score,SUM(SCORE)/COUNT(CAMIS) AS avg FROM(SELECT BORO,CAMIS,INSPDATE,SCORE FROM (SELECT BORO,CAMIS,INSPDATE,SCORE FROM webextract WHERE BORO IS NOT NULL AND BORO IS NOT 0 GROUP BY BORO,CAMIS,INSPDATE ORDER BY BORO,INSPDATE) GROUP BY BORO,CAMIS) GROUP BY BORO) OUTTER JOIN boroughs ON BORO=boroughs.id ORDER BY avg')\n",
    "result1 = cursor.fetchall()\n"
   ]
  },
  {
   "cell_type": "code",
   "execution_count": 357,
   "metadata": {},
   "outputs": [
    {
     "name": "stdout",
     "output_type": "stream",
     "text": [
      "==================\n",
      "Your score:  1.0\n",
      "==================\n"
     ]
    }
   ],
   "source": [
    "def score_by_borough():\n",
    "    output = []\n",
    "    for item in result1:\n",
    "        new_item = (str(item[0]),float(item[1]),int(item[2]))\n",
    "        output.append(new_item)\n",
    "    return output\n",
    "\n",
    "grader.score('sql__score_by_borough', score_by_borough)"
   ]
  },
  {
   "cell_type": "markdown",
   "metadata": {},
   "source": [
    "## Question 5: violations_by_cuisine\n",
    "\n",
    "We want to look at violations themselves now.  We'll need to think more carefully about what we're measuring, since most restaurants have many inspections with possibly multiple violations per inspection, or long stretches of inspections with no violations.\n",
    "\n",
    "There are many ways to deal with this normalization issue, but we'll go with a fairly straightforward one: dividing the number of violations by the length of time (in years) the restaurant has been open.  As a proxy for the length, we'll look at the difference between the oldest and newest inspection date, treating anything less than 30 days as 30 days (to account for those that were only inspected once, we'll assume everything was open for at least a month).\n",
    "\n",
    "Since there are so many restaurants, we'll group them by cuisine and do a weighted average by computing \n",
    "\n",
    "    (total violations for a cuisine) / (total restaurant-years for that cuisine)\n",
    "\n",
    "Return a list of 75 tuples of the form\n",
    "\n",
    "    (cuisine name, reports per restaurant-year)\n",
    "    \n",
    "for cuisines with at least 100 violations total, ordered by increasing number of reports per restaurant-year\n",
    "    \n",
    "**Note:** This isn't the only way to normalize things.  How would other ways affect the computation?  If you similarly wanted to compute an average score by cuisine, how might you go about doing that?\n",
    "    \n",
    "**Checkpoint:**\n",
    "- Total entries from valid cuisines: 522,410"
   ]
  },
  {
   "cell_type": "code",
   "execution_count": 63,
   "metadata": {},
   "outputs": [
    {
     "name": "stdout",
     "output_type": "stream",
     "text": [
      "Done.\n",
      "Done.\n",
      "531935 rows affected.\n"
     ]
    },
    {
     "data": {
      "text/plain": [
       "[]"
      ]
     },
     "execution_count": 63,
     "metadata": {},
     "output_type": "execute_result"
    }
   ],
   "source": [
    "%%sql\n",
    "\n",
    "DROP TABLE IF EXISTS vio;\n",
    "CREATE TEMP TABLE IF NOT EXISTS vio (CODE,INSPDATE, CAMIS, VIOLCODE,CUISINE);\n",
    "INSERT INTO vio \n",
    "SELECT webextract.CUISINECODE AS CODE,webextract.INSPDATE AS INSPDATE,webextract.CAMIS AS CAMIS,webextract.VIOLCODE AS VIOCODE,cuisine.CODEDESC AS CUISINE \n",
    "FROM webextract INNER JOIN cuisine ON webextract.CUISINECODE=cuisine.CUISINECODE ORDER BY CAMIS,INSPDATE"
   ]
  },
  {
   "cell_type": "code",
   "execution_count": 64,
   "metadata": {},
   "outputs": [
    {
     "name": "stdout",
     "output_type": "stream",
     "text": [
      "Done.\n",
      "Done.\n",
      "25232 rows affected.\n"
     ]
    },
    {
     "data": {
      "text/plain": [
       "[]"
      ]
     },
     "execution_count": 64,
     "metadata": {},
     "output_type": "execute_result"
    }
   ],
   "source": [
    "%%sql\n",
    "\n",
    "DROP TABLE IF EXISTS startdate;\n",
    "CREATE TEMP TABLE IF NOT EXISTS startdate (CAMIS,CUISINE,start_date);\n",
    "INSERT INTO startdate\n",
    "SELECT CAMIS,CUISINE,INSPDATE AS start_date FROM (SELECT * FROM vio ORDER BY CAMIS,INSPDATE DESC) GROUP BY CUISINE,CAMIS"
   ]
  },
  {
   "cell_type": "code",
   "execution_count": 65,
   "metadata": {},
   "outputs": [
    {
     "name": "stdout",
     "output_type": "stream",
     "text": [
      "Done.\n",
      "Done.\n",
      "25232 rows affected.\n"
     ]
    },
    {
     "data": {
      "text/plain": [
       "[]"
      ]
     },
     "execution_count": 65,
     "metadata": {},
     "output_type": "execute_result"
    }
   ],
   "source": [
    "%%sql\n",
    "DROP TABLE IF EXISTS enddate;\n",
    "CREATE TEMP TABLE IF NOT EXISTS enddate (CAMIS,CUISINE,end_date);\n",
    "INSERT INTO enddate\n",
    "SELECT CAMIS,CUISINE,INSPDATE AS end_date FROM vio GROUP BY CUISINE,CAMIS"
   ]
  },
  {
   "cell_type": "code",
   "execution_count": 74,
   "metadata": {},
   "outputs": [
    {
     "name": "stdout",
     "output_type": "stream",
     "text": [
      "Done.\n",
      "Done.\n",
      "75 rows affected.\n"
     ]
    },
    {
     "data": {
      "text/plain": [
       "[]"
      ]
     },
     "execution_count": 74,
     "metadata": {},
     "output_type": "execute_result"
    }
   ],
   "source": [
    "%%sql\n",
    "DROP TABLE IF EXISTS vio_by_cui;\n",
    "CREATE TABLE IF NOT EXISTS vio_by_cui (CUISINE,viocount);\n",
    "INSERT INTO vio_by_cui \n",
    "SELECT CUISINE,viocount FROM \n",
    "(SELECT CUISINE,COUNT(CAMIS) AS totalcount,COUNT(VIOLCODE) AS viocount FROM \n",
    "(SELECT INSPDATE,CAMIS,VIOLCODE,CUISINE\n",
    "FROM vio GROUP BY INSPDATE,CAMIS,VIOLCODE) GROUP BY CUISINE) WHERE viocount>=100"
   ]
  },
  {
   "cell_type": "code",
   "execution_count": 71,
   "metadata": {},
   "outputs": [
    {
     "name": "stdout",
     "output_type": "stream",
     "text": [
      "Done.\n",
      "Done.\n",
      "25232 rows affected.\n",
      "3067 rows affected.\n"
     ]
    },
    {
     "data": {
      "text/plain": [
       "[]"
      ]
     },
     "execution_count": 71,
     "metadata": {},
     "output_type": "execute_result"
    }
   ],
   "source": [
    "%%sql\n",
    "DROP TABLE IF EXISTS days_by_cui;\n",
    "CREATE TABLE IF NOT EXISTS days_by_cui (CUISINE,CAMIS,DAYS);\n",
    "INSERT INTO days_by_cui\n",
    "SELECT CUISINE,CAMIS,(julianday(end_date)-julianday(start_date)) AS days FROM \n",
    "(SELECT startdate.CAMIS,startdate.CUISINE,startdate.start_date,enddate.end_date FROM startdate \n",
    " INNER JOIN enddate ON startdate.CAMIS=enddate.CAMIS AND startdate.CUISINE=enddate.CUISINE);\n",
    "UPDATE days_by_cui \n",
    "SET DAYS=30 WHERE DAYS<30\n",
    "\n",
    "\n"
   ]
  },
  {
   "cell_type": "code",
   "execution_count": 72,
   "metadata": {},
   "outputs": [
    {
     "name": "stdout",
     "output_type": "stream",
     "text": [
      "Done.\n"
     ]
    },
    {
     "data": {
      "text/html": [
       "<table>\n",
       "    <tr>\n",
       "        <th>CUISINE</th>\n",
       "        <th>TOTAL</th>\n",
       "        <th>viocount</th>\n",
       "    </tr>\n",
       "    <tr>\n",
       "        <td>Afghan</td>\n",
       "        <td>8857.0</td>\n",
       "        <td>300</td>\n",
       "    </tr>\n",
       "    <tr>\n",
       "        <td>African</td>\n",
       "        <td>51896.0</td>\n",
       "        <td>1843</td>\n",
       "    </tr>\n",
       "    <tr>\n",
       "        <td>American </td>\n",
       "        <td>4735376.47431</td>\n",
       "        <td>125453</td>\n",
       "    </tr>\n",
       "    <tr>\n",
       "        <td>Armenian</td>\n",
       "        <td>22813.0</td>\n",
       "        <td>632</td>\n",
       "    </tr>\n",
       "    <tr>\n",
       "        <td>Asian</td>\n",
       "        <td>204250.0</td>\n",
       "        <td>7652</td>\n",
       "    </tr>\n",
       "    <tr>\n",
       "        <td>Australian</td>\n",
       "        <td>8313.0</td>\n",
       "        <td>248</td>\n",
       "    </tr>\n",
       "    <tr>\n",
       "        <td>Bagels/Pretzels</td>\n",
       "        <td>131133.0</td>\n",
       "        <td>3657</td>\n",
       "    </tr>\n",
       "    <tr>\n",
       "        <td>Bakery</td>\n",
       "        <td>538990.0</td>\n",
       "        <td>16095</td>\n",
       "    </tr>\n",
       "    <tr>\n",
       "        <td>Bangladeshi</td>\n",
       "        <td>20875.0</td>\n",
       "        <td>803</td>\n",
       "    </tr>\n",
       "    <tr>\n",
       "        <td>Barbecue</td>\n",
       "        <td>33093.0</td>\n",
       "        <td>799</td>\n",
       "    </tr>\n",
       "    <tr>\n",
       "        <td>Bottled beverages, including water, sodas, juices, etc.</td>\n",
       "        <td>53135.0</td>\n",
       "        <td>1021</td>\n",
       "    </tr>\n",
       "    <tr>\n",
       "        <td>Brazilian</td>\n",
       "        <td>19051.0</td>\n",
       "        <td>670</td>\n",
       "    </tr>\n",
       "    <tr>\n",
       "        <td>Café/Coffee/Tea</td>\n",
       "        <td>807874.347917</td>\n",
       "        <td>14860</td>\n",
       "    </tr>\n",
       "    <tr>\n",
       "        <td>Cajun</td>\n",
       "        <td>7075.0</td>\n",
       "        <td>179</td>\n",
       "    </tr>\n",
       "    <tr>\n",
       "        <td>Caribbean</td>\n",
       "        <td>490581.0</td>\n",
       "        <td>16100</td>\n",
       "    </tr>\n",
       "    <tr>\n",
       "        <td>Chicken</td>\n",
       "        <td>269871.0</td>\n",
       "        <td>7442</td>\n",
       "    </tr>\n",
       "    <tr>\n",
       "        <td>Chinese</td>\n",
       "        <td>1669345.0</td>\n",
       "        <td>60879</td>\n",
       "    </tr>\n",
       "    <tr>\n",
       "        <td>Chinese/Cuban</td>\n",
       "        <td>10710.0</td>\n",
       "        <td>438</td>\n",
       "    </tr>\n",
       "    <tr>\n",
       "        <td>Chinese/Japanese</td>\n",
       "        <td>30504.0</td>\n",
       "        <td>1303</td>\n",
       "    </tr>\n",
       "    <tr>\n",
       "        <td>Continental</td>\n",
       "        <td>35486.0</td>\n",
       "        <td>983</td>\n",
       "    </tr>\n",
       "    <tr>\n",
       "        <td>Creole</td>\n",
       "        <td>15586.0</td>\n",
       "        <td>679</td>\n",
       "    </tr>\n",
       "    <tr>\n",
       "        <td>Czech</td>\n",
       "        <td>4592.0</td>\n",
       "        <td>127</td>\n",
       "    </tr>\n",
       "    <tr>\n",
       "        <td>Delicatessen</td>\n",
       "        <td>276324.0</td>\n",
       "        <td>9590</td>\n",
       "    </tr>\n",
       "    <tr>\n",
       "        <td>Donuts</td>\n",
       "        <td>378736.0</td>\n",
       "        <td>6302</td>\n",
       "    </tr>\n",
       "    <tr>\n",
       "        <td>Eastern European</td>\n",
       "        <td>45071.0</td>\n",
       "        <td>1507</td>\n",
       "    </tr>\n",
       "    <tr>\n",
       "        <td>Egyptian</td>\n",
       "        <td>12568.0</td>\n",
       "        <td>348</td>\n",
       "    </tr>\n",
       "    <tr>\n",
       "        <td>English</td>\n",
       "        <td>13153.0</td>\n",
       "        <td>334</td>\n",
       "    </tr>\n",
       "    <tr>\n",
       "        <td>Ethiopian</td>\n",
       "        <td>12728.0</td>\n",
       "        <td>297</td>\n",
       "    </tr>\n",
       "    <tr>\n",
       "        <td>Filipino</td>\n",
       "        <td>15860.0</td>\n",
       "        <td>567</td>\n",
       "    </tr>\n",
       "    <tr>\n",
       "        <td>French</td>\n",
       "        <td>257685.0</td>\n",
       "        <td>7409</td>\n",
       "    </tr>\n",
       "    <tr>\n",
       "        <td>German</td>\n",
       "        <td>27074.0</td>\n",
       "        <td>855</td>\n",
       "    </tr>\n",
       "    <tr>\n",
       "        <td>Greek</td>\n",
       "        <td>90359.0</td>\n",
       "        <td>2555</td>\n",
       "    </tr>\n",
       "    <tr>\n",
       "        <td>Hamburgers</td>\n",
       "        <td>377177.346528</td>\n",
       "        <td>7663</td>\n",
       "    </tr>\n",
       "    <tr>\n",
       "        <td>Hotdogs</td>\n",
       "        <td>26501.0</td>\n",
       "        <td>433</td>\n",
       "    </tr>\n",
       "    <tr>\n",
       "        <td>Hotdogs/Pretzels</td>\n",
       "        <td>13981.0</td>\n",
       "        <td>145</td>\n",
       "    </tr>\n",
       "    <tr>\n",
       "        <td>Ice Cream, Gelato, Yogurt, Ices</td>\n",
       "        <td>215535.0</td>\n",
       "        <td>3669</td>\n",
       "    </tr>\n",
       "    <tr>\n",
       "        <td>Indian</td>\n",
       "        <td>224197.0</td>\n",
       "        <td>8170</td>\n",
       "    </tr>\n",
       "    <tr>\n",
       "        <td>Indonesian</td>\n",
       "        <td>5702.0</td>\n",
       "        <td>213</td>\n",
       "    </tr>\n",
       "    <tr>\n",
       "        <td>Irish</td>\n",
       "        <td>162504.0</td>\n",
       "        <td>4422</td>\n",
       "    </tr>\n",
       "    <tr>\n",
       "        <td>Italian</td>\n",
       "        <td>859344.0</td>\n",
       "        <td>25637</td>\n",
       "    </tr>\n",
       "    <tr>\n",
       "        <td>Japanese</td>\n",
       "        <td>545382.0</td>\n",
       "        <td>18371</td>\n",
       "    </tr>\n",
       "    <tr>\n",
       "        <td>Jewish/Kosher</td>\n",
       "        <td>246425.0</td>\n",
       "        <td>7532</td>\n",
       "    </tr>\n",
       "    <tr>\n",
       "        <td>Juice, Smoothies, Fruit Salads</td>\n",
       "        <td>136598.0</td>\n",
       "        <td>2638</td>\n",
       "    </tr>\n",
       "    <tr>\n",
       "        <td>Korean</td>\n",
       "        <td>190823.0</td>\n",
       "        <td>6957</td>\n",
       "    </tr>\n",
       "    <tr>\n",
       "        <td>Latin (Cuban, Dominican, Puerto Rican, South &amp; Central American)</td>\n",
       "        <td>726653.850694</td>\n",
       "        <td>26063</td>\n",
       "    </tr>\n",
       "    <tr>\n",
       "        <td>Mediterranean</td>\n",
       "        <td>139052.0</td>\n",
       "        <td>4169</td>\n",
       "    </tr>\n",
       "    <tr>\n",
       "        <td>Mexican</td>\n",
       "        <td>560621.0</td>\n",
       "        <td>18419</td>\n",
       "    </tr>\n",
       "    <tr>\n",
       "        <td>Middle Eastern</td>\n",
       "        <td>114849.0</td>\n",
       "        <td>3313</td>\n",
       "    </tr>\n",
       "    <tr>\n",
       "        <td>Moroccan</td>\n",
       "        <td>9444.0</td>\n",
       "        <td>284</td>\n",
       "    </tr>\n",
       "    <tr>\n",
       "        <td>Not Listed/Not Applicable</td>\n",
       "        <td>6522.0</td>\n",
       "        <td>131</td>\n",
       "    </tr>\n",
       "    <tr>\n",
       "        <td>Other</td>\n",
       "        <td>101250.0</td>\n",
       "        <td>1881</td>\n",
       "    </tr>\n",
       "    <tr>\n",
       "        <td>Pakistani</td>\n",
       "        <td>20245.0</td>\n",
       "        <td>811</td>\n",
       "    </tr>\n",
       "    <tr>\n",
       "        <td>Pancakes/Waffles</td>\n",
       "        <td>13130.0</td>\n",
       "        <td>410</td>\n",
       "    </tr>\n",
       "    <tr>\n",
       "        <td>Peruvian</td>\n",
       "        <td>50676.0</td>\n",
       "        <td>1886</td>\n",
       "    </tr>\n",
       "    <tr>\n",
       "        <td>Pizza</td>\n",
       "        <td>932423.464583</td>\n",
       "        <td>25687</td>\n",
       "    </tr>\n",
       "    <tr>\n",
       "        <td>Pizza/Italian</td>\n",
       "        <td>348357.0</td>\n",
       "        <td>10645</td>\n",
       "    </tr>\n",
       "    <tr>\n",
       "        <td>Polish</td>\n",
       "        <td>24214.0</td>\n",
       "        <td>722</td>\n",
       "    </tr>\n",
       "    <tr>\n",
       "        <td>Portuguese</td>\n",
       "        <td>6568.0</td>\n",
       "        <td>269</td>\n",
       "    </tr>\n",
       "    <tr>\n",
       "        <td>Russian</td>\n",
       "        <td>66706.0</td>\n",
       "        <td>2023</td>\n",
       "    </tr>\n",
       "    <tr>\n",
       "        <td>Salads</td>\n",
       "        <td>20769.0</td>\n",
       "        <td>552</td>\n",
       "    </tr>\n",
       "    <tr>\n",
       "        <td>Sandwiches</td>\n",
       "        <td>362997.0</td>\n",
       "        <td>6510</td>\n",
       "    </tr>\n",
       "    <tr>\n",
       "        <td>Sandwiches/Salads/Mixed Buffet</td>\n",
       "        <td>149094.0</td>\n",
       "        <td>3057</td>\n",
       "    </tr>\n",
       "    <tr>\n",
       "        <td>Scandinavian</td>\n",
       "        <td>5078.0</td>\n",
       "        <td>149</td>\n",
       "    </tr>\n",
       "    <tr>\n",
       "        <td>Seafood</td>\n",
       "        <td>106171.0</td>\n",
       "        <td>3245</td>\n",
       "    </tr>\n",
       "    <tr>\n",
       "        <td>Soul Food</td>\n",
       "        <td>32315.0</td>\n",
       "        <td>1025</td>\n",
       "    </tr>\n",
       "    <tr>\n",
       "        <td>Soups &amp; Sandwiches</td>\n",
       "        <td>35685.0</td>\n",
       "        <td>576</td>\n",
       "    </tr>\n",
       "    <tr>\n",
       "        <td>Southwestern</td>\n",
       "        <td>7048.0</td>\n",
       "        <td>203</td>\n",
       "    </tr>\n",
       "    <tr>\n",
       "        <td>Spanish</td>\n",
       "        <td>360022.0</td>\n",
       "        <td>13090</td>\n",
       "    </tr>\n",
       "    <tr>\n",
       "        <td>Steak</td>\n",
       "        <td>69594.0</td>\n",
       "        <td>1796</td>\n",
       "    </tr>\n",
       "    <tr>\n",
       "        <td>Tapas</td>\n",
       "        <td>19985.0</td>\n",
       "        <td>614</td>\n",
       "    </tr>\n",
       "    <tr>\n",
       "        <td>Tex-Mex</td>\n",
       "        <td>97745.0</td>\n",
       "        <td>2836</td>\n",
       "    </tr>\n",
       "    <tr>\n",
       "        <td>Thai</td>\n",
       "        <td>195130.0</td>\n",
       "        <td>6843</td>\n",
       "    </tr>\n",
       "    <tr>\n",
       "        <td>Turkish</td>\n",
       "        <td>46736.0</td>\n",
       "        <td>1533</td>\n",
       "    </tr>\n",
       "    <tr>\n",
       "        <td>Vegetarian</td>\n",
       "        <td>67882.0</td>\n",
       "        <td>1958</td>\n",
       "    </tr>\n",
       "    <tr>\n",
       "        <td>Vietnamese/Cambodian/Malaysia</td>\n",
       "        <td>52121.0</td>\n",
       "        <td>1829</td>\n",
       "    </tr>\n",
       "</table>"
      ],
      "text/plain": [
       "[(u'Afghan', 8857.0, 300),\n",
       " (u'African', 51896.0, 1843),\n",
       " (u'American ', 4735376.474305556, 125453),\n",
       " (u'Armenian', 22813.0, 632),\n",
       " (u'Asian', 204250.0, 7652),\n",
       " (u'Australian', 8313.0, 248),\n",
       " (u'Bagels/Pretzels', 131133.0, 3657),\n",
       " (u'Bakery', 538990.0, 16095),\n",
       " (u'Bangladeshi', 20875.0, 803),\n",
       " (u'Barbecue', 33093.0, 799),\n",
       " (u'Bottled beverages, including water, sodas, juices, etc.', 53135.0, 1021),\n",
       " (u'Brazilian', 19051.0, 670),\n",
       " (u'Caf\\xe9/Coffee/Tea', 807874.3479166669, 14860),\n",
       " (u'Cajun', 7075.0, 179),\n",
       " (u'Caribbean', 490581.0, 16100),\n",
       " (u'Chicken', 269871.0, 7442),\n",
       " (u'Chinese', 1669345.0, 60879),\n",
       " (u'Chinese/Cuban', 10710.0, 438),\n",
       " (u'Chinese/Japanese', 30504.0, 1303),\n",
       " (u'Continental', 35486.0, 983),\n",
       " (u'Creole', 15586.0, 679),\n",
       " (u'Czech', 4592.0, 127),\n",
       " (u'Delicatessen', 276324.0, 9590),\n",
       " (u'Donuts', 378736.0, 6302),\n",
       " (u'Eastern European', 45071.0, 1507),\n",
       " (u'Egyptian', 12568.0, 348),\n",
       " (u'English', 13153.0, 334),\n",
       " (u'Ethiopian', 12728.0, 297),\n",
       " (u'Filipino', 15860.0, 567),\n",
       " (u'French', 257685.0, 7409),\n",
       " (u'German', 27074.0, 855),\n",
       " (u'Greek', 90359.0, 2555),\n",
       " (u'Hamburgers', 377177.3465277776, 7663),\n",
       " (u'Hotdogs', 26501.0, 433),\n",
       " (u'Hotdogs/Pretzels', 13981.0, 145),\n",
       " (u'Ice Cream, Gelato, Yogurt, Ices', 215535.0, 3669),\n",
       " (u'Indian', 224197.0, 8170),\n",
       " (u'Indonesian', 5702.0, 213),\n",
       " (u'Irish', 162504.0, 4422),\n",
       " (u'Italian', 859344.0, 25637),\n",
       " (u'Japanese', 545382.0, 18371),\n",
       " (u'Jewish/Kosher', 246425.0, 7532),\n",
       " (u'Juice, Smoothies, Fruit Salads', 136598.0, 2638),\n",
       " (u'Korean', 190823.0, 6957),\n",
       " (u'Latin (Cuban, Dominican, Puerto Rican, South & Central American)', 726653.8506944445, 26063),\n",
       " (u'Mediterranean', 139052.0, 4169),\n",
       " (u'Mexican', 560621.0, 18419),\n",
       " (u'Middle Eastern', 114849.0, 3313),\n",
       " (u'Moroccan', 9444.0, 284),\n",
       " (u'Not Listed/Not Applicable', 6522.0, 131),\n",
       " (u'Other', 101250.0, 1881),\n",
       " (u'Pakistani', 20245.0, 811),\n",
       " (u'Pancakes/Waffles', 13130.0, 410),\n",
       " (u'Peruvian', 50676.0, 1886),\n",
       " (u'Pizza', 932423.4645833331, 25687),\n",
       " (u'Pizza/Italian', 348357.0, 10645),\n",
       " (u'Polish', 24214.0, 722),\n",
       " (u'Portuguese', 6568.0, 269),\n",
       " (u'Russian', 66706.0, 2023),\n",
       " (u'Salads', 20769.0, 552),\n",
       " (u'Sandwiches', 362997.0, 6510),\n",
       " (u'Sandwiches/Salads/Mixed Buffet', 149094.0, 3057),\n",
       " (u'Scandinavian', 5078.0, 149),\n",
       " (u'Seafood', 106171.0, 3245),\n",
       " (u'Soul Food', 32315.0, 1025),\n",
       " (u'Soups & Sandwiches', 35685.0, 576),\n",
       " (u'Southwestern', 7048.0, 203),\n",
       " (u'Spanish', 360022.0, 13090),\n",
       " (u'Steak', 69594.0, 1796),\n",
       " (u'Tapas', 19985.0, 614),\n",
       " (u'Tex-Mex', 97745.0, 2836),\n",
       " (u'Thai', 195130.0, 6843),\n",
       " (u'Turkish', 46736.0, 1533),\n",
       " (u'Vegetarian', 67882.0, 1958),\n",
       " (u'Vietnamese/Cambodian/Malaysia', 52121.0, 1829)]"
      ]
     },
     "execution_count": 72,
     "metadata": {},
     "output_type": "execute_result"
    }
   ],
   "source": [
    "%%sql\n",
    "\n",
    "SELECT vio_by_cui.CUISINE,SUM(DAYS) AS TOTAL,vio_by_cui.viocount FROM days_by_cui  \n",
    "INNER JOIN vio_by_cui ON days_by_cui.CUISINE=vio_by_cui.CUISINE GROUP BY days_by_cui.CUISINE"
   ]
  },
  {
   "cell_type": "code",
   "execution_count": 75,
   "metadata": {},
   "outputs": [
    {
     "name": "stdout",
     "output_type": "stream",
     "text": [
      "[(u'Afghan', 12.36310263068759), (u'African', 12.962367041775858), (u'American ', 9.669842566575483), (u'Armenian', 10.111778371980888), (u'Asian', 13.674320685434518), (u'Australian', 10.888969084566341), (u'Bagels/Pretzels', 10.179016723479215), (u'Bakery', 10.899413718250802), (u'Bangladeshi', 14.040479041916168), (u'Barbecue', 8.812588764995619), (u'Bottled beverages, including water, sodas, juices, etc.', 7.013550390514726), (u'Brazilian', 12.83659650412052), (u'Caf\\xe9/Coffee/Tea', 6.713791586509789), (u'Cajun', 9.234628975265018), (u'Caribbean', 11.978653881825835), (u'Chicken', 10.065290453587084), (u'Chinese', 13.311110046155827), (u'Chinese/Cuban', 14.92717086834734), (u'Chinese/Japanese', 15.591233936532914), (u'Continental', 10.110888801217381), (u'Creole', 15.90112921852945), (u'Czech', 10.094729965156795), (u'Delicatessen', 12.667556925927533), (u'Donuts', 6.073439018207933), (u'Eastern European', 12.204188946329126), (u'Egyptian', 10.106619987269255), (u'English', 9.268607922147039), (u'Ethiopian', 8.517049025769957), (u'Filipino', 13.048865069356872), (u'French', 10.494537904806256), (u'German', 11.526741523232621), (u'Greek', 10.320776015670825), (u'Hamburgers', 7.4155964713909786), (u'Hotdogs', 5.963737217463492), (u'Hotdogs/Pretzels', 3.785494599814033), (u'Ice Cream, Gelato, Yogurt, Ices', 6.2133064235507), (u'Indian', 13.301025437450098), (u'Indonesian', 13.634689582602595), (u'Irish', 9.932247821592084), (u'Italian', 10.889125891377608), (u'Japanese', 12.294896054508582), (u'Jewish/Kosher', 11.156254438470121), (u'Juice, Smoothies, Fruit Salads', 7.048931902370459), (u'Korean', 13.307122307059421), (u'Latin (Cuban, Dominican, Puerto Rican, South & Central American)', 13.091508413405743), (u'Mediterranean', 10.943280211719356), (u'Mexican', 11.991942863360451), (u'Middle Eastern', 10.52899894644272), (u'Moroccan', 10.976281236764082), (u'Not Listed/Not Applicable', 7.331340079730144), (u'Other', 6.780888888888889), (u'Pakistani', 14.621634971597926), (u'Pancakes/Waffles', 11.397562833206397), (u'Peruvian', 13.584142394822008), (u'Pizza', 10.055254244582628), (u'Pizza/Italian', 11.153572341017979), (u'Polish', 10.883373255141652), (u'Portuguese', 14.948995127892813), (u'Russian', 11.069394057506072), (u'Salads', 9.700996677740864), (u'Sandwiches', 6.5459218671228685), (u'Sandwiches/Salads/Mixed Buffet', 7.483902772747395), (u'Scandinavian', 10.709925167388736), (u'Seafood', 11.15582409509188), (u'Soul Food', 11.577440816958068), (u'Soups & Sandwiches', 5.89155107187894), (u'Southwestern', 10.512911464245176), (u'Spanish', 13.270994550333036), (u'Steak', 9.419490185935569), (u'Tapas', 11.213910432824619), (u'Tex-Mex', 10.590209217862807), (u'Thai', 12.800158868446678), (u'Turkish', 11.972462341663816), (u'Vegetarian', 10.52812232992546), (u'Vietnamese/Cambodian/Malaysia', 12.808368987548207)]\n"
     ]
    }
   ],
   "source": [
    "import sqlite3\n",
    "con_new = sqlite3.connect('nyc_inspection.db')\n",
    "cursor1 = con_new.cursor()\n",
    "cursor1.execute('SELECT vio_by_cui.CUISINE,SUM(DAYS) AS TOTAL,vio_by_cui.viocount FROM days_by_cui INNER JOIN vio_by_cui ON days_by_cui.CUISINE=vio_by_cui.CUISINE GROUP BY days_by_cui.CUISINE')\n",
    "result5 = cursor1.fetchall()\n",
    "output = []\n",
    "for cui in result5:\n",
    "    c = cui[2]\n",
    "    cuisine = cui[0]\n",
    "    r_y = cui[1]/365.0\n",
    "    avg = c*1.0/r_y\n",
    "    output.append((cuisine,avg))\n",
    "print output"
   ]
  },
  {
   "cell_type": "code",
   "execution_count": 76,
   "metadata": {},
   "outputs": [
    {
     "name": "stdout",
     "output_type": "stream",
     "text": [
      "==================\n",
      "Your score:  0.96\n",
      "==================\n"
     ]
    }
   ],
   "source": [
    "def score_by_cuisine():\n",
    "    return output\n",
    "\n",
    "grader.score('sql__score_by_cuisine', score_by_cuisine)"
   ]
  },
  {
   "cell_type": "code",
   "execution_count": null,
   "metadata": {
    "collapsed": true
   },
   "outputs": [],
   "source": []
  },
  {
   "cell_type": "markdown",
   "metadata": {},
   "source": [
    "## Question 6: specific_violations_by_cuisine\n",
    "Which cuisines tend to have a disproportionate number of what which violations? Answering this question isn't easy becuase you have to think carefully about normalizations.\n",
    "\n",
    "1. More popular cuisine categories will tend to have more violations just becuase they represent more restaurants.\n",
    "2. Similarly, some violations are more common.  For example, knowing that \"Equipment not easily movable or sealed to floor\" is a common violation for Chinese restuarants is not particularly helpful when it is a common violation for all restaurants.\n",
    "\n",
    "The right quantity is to look at is the conditional probability of a specific type of violation given a specific cuisine type and divide it by the unconditional probability of the violation for the entire population. Taking this ratio gives the right answer.  Return the 20 highest ratios of the form:\n",
    "\n",
    "    ((cuisine, violation), ratio, count)\n",
    "\n",
    "**Hint:**\n",
    "1. You might want to check out this [Stackoverflow post](http://stackoverflow.com/questions/972877/calculate-frequency-using-sql).\n",
    "2. The definition of a violation changes with time.  For example, 10A can mean two different things \"Toilet facility not maintained ...\" or \"Vermin or other live animal present ...\" when things were prior to 2003. To deal with this, you should limit your analysis to violation codes with end date after Jan 1, 2014. (This end date refers to the validity time ranges in Violation.txt).\n",
    "3. The ratios don't mean much when the number of violations of a given type and for a specific category are not large (why not?).  Be sure to filter these out.  We chose 100 as our cutoff.\n",
    "\n",
    "**Checkpoint:**\n",
    "- Top 20 ratios mean: 2.360652529900757"
   ]
  },
  {
   "cell_type": "code",
   "execution_count": 77,
   "metadata": {},
   "outputs": [
    {
     "name": "stdout",
     "output_type": "stream",
     "text": [
      "Done.\n",
      "Done.\n",
      "112 rows affected.\n"
     ]
    },
    {
     "data": {
      "text/plain": [
       "[]"
      ]
     },
     "execution_count": 77,
     "metadata": {},
     "output_type": "execute_result"
    }
   ],
   "source": [
    "%%sql\n",
    "DROP TABLE IF EXISTS act_vio;\n",
    "CREATE TEMP TABLE IF NOT EXISTS act_vio (ENDDATE,VIOLCODE,VIOLATION);\n",
    "INSERT INTO act_vio\n",
    "SELECT ENDDATE,VIOLATIONCODE AS VIOLCODE,VIOLATIONDESC FROM\n",
    "(SELECT ENDDATE,VIOLATIONCODE,VIOLATIONDESC FROM violations GROUP BY VIOLATIONCODE) WHERE ENDDATE>'2014-01-01'"
   ]
  },
  {
   "cell_type": "code",
   "execution_count": 78,
   "metadata": {},
   "outputs": [
    {
     "name": "stdout",
     "output_type": "stream",
     "text": [
      "Done.\n",
      "Done.\n",
      "4436 rows affected.\n"
     ]
    },
    {
     "data": {
      "text/plain": [
       "[]"
      ]
     },
     "execution_count": 78,
     "metadata": {},
     "output_type": "execute_result"
    }
   ],
   "source": [
    "%%sql\n",
    "DROP TABLE IF EXISTS vio_counts;\n",
    "CREATE TEMP TABLE IF NOT EXISTS vio_counts (VIOLCODE,CUISINE,spec_count);\n",
    "INSERT INTO vio_counts\n",
    "\n",
    "SELECT VIOLCODE,CUISINE,COUNT(VIOLATION) AS spec_count FROM\n",
    "(SELECT vio.CUISINE,vio.VIOLCODE, act_vio.VIOLATION FROM vio INNER JOIN act_vio ON vio.VIOLCODE=act_vio.VIOLCODE) \n",
    "GROUP BY CUISINE,VIOLCODE"
   ]
  },
  {
   "cell_type": "code",
   "execution_count": 79,
   "metadata": {},
   "outputs": [
    {
     "name": "stdout",
     "output_type": "stream",
     "text": [
      "Done.\n",
      "Done.\n",
      "93 rows affected.\n",
      "Done.\n",
      "Done.\n",
      "84 rows affected.\n"
     ]
    },
    {
     "data": {
      "text/plain": [
       "[]"
      ]
     },
     "execution_count": 79,
     "metadata": {},
     "output_type": "execute_result"
    }
   ],
   "source": [
    "%%sql\n",
    "DROP TABLE IF EXISTS vio_counts_code;\n",
    "CREATE TEMP TABLE IF NOT EXISTS vio_counts_code (VIOLCODE,count);\n",
    "INSERT INTO vio_counts_code\n",
    "SELECT VIOLCODE,SUM(spec_count) AS count FROM vio_counts GROUP BY VIOLCODE;\n",
    "DROP TABLE IF EXISTS vio_counts_cui;\n",
    "CREATE TEMP TABLE IF NOT EXISTS vio_counts_cui (CUISINE,count);\n",
    "INSERT INTO vio_counts_cui\n",
    "SELECT CUISINE,SUM(spec_count) AS count FROM vio_counts GROUP BY CUISINE;\n"
   ]
  },
  {
   "cell_type": "code",
   "execution_count": 81,
   "metadata": {},
   "outputs": [
    {
     "name": "stdout",
     "output_type": "stream",
     "text": [
      "Done.\n",
      "Done.\n",
      "753 rows affected.\n"
     ]
    },
    {
     "data": {
      "text/plain": [
       "[]"
      ]
     },
     "execution_count": 81,
     "metadata": {},
     "output_type": "execute_result"
    }
   ],
   "source": [
    "%%sql\n",
    "DROP TABLE IF EXISTS results;\n",
    "CREATE TABLE IF NOT EXISTS results (CUISINE,VIOLATION,ratio,count);\n",
    "INSERT INTO results\n",
    "SELECT CUISINE,VIOLATION,cond_prob/uncond_prob AS ratio,spec_count FROM\n",
    "(SELECT CUISINE,VIOLATION,spec_count,spec_count*1.0/cui_count AS cond_prob,code_count*1.0/522410 AS uncond_prob FROM\n",
    "(SELECT vio_counts.CUISINE,act_vio.VIOLATION,vio_counts.spec_count,vio_counts_cui.count AS cui_count,vio_counts_code.count AS code_count\n",
    "FROM vio_counts INNER JOIN vio_counts_cui ON vio_counts_cui.CUISINE=vio_counts.CUISINE\n",
    "INNER JOIN vio_counts_code ON vio_counts_code.VIOLCODE=vio_counts.VIOLCODE \n",
    "INNER JOIN act_vio ON vio_counts.VIOLCODE=act_vio.VIOLCODE\n",
    "WHERE vio_counts.spec_count>=100)) ORDER BY ratio DESC\n"
   ]
  },
  {
   "cell_type": "code",
   "execution_count": 82,
   "metadata": {},
   "outputs": [
    {
     "name": "stdout",
     "output_type": "stream",
     "text": [
      "2.46310395834\n"
     ]
    }
   ],
   "source": [
    "import sqlite3\n",
    "con2 = sqlite3.connect('nyc_inspection.db')\n",
    "cursor2 = con2.cursor()\n",
    "cursor2.execute('SELECT * FROM results LIMIT 20')\n",
    "result6 = cursor2.fetchall()\n",
    "output = []\n",
    "avg = 0\n",
    "for cui in result6:\n",
    "    c = int(cui[3])\n",
    "    cuisine = cui[0]\n",
    "    violation = cui[1]\n",
    "    ratio = float(cui[2])\n",
    "    avg+=ratio\n",
    "    output.append(((cuisine,violation),ratio,c))\n",
    "print avg/20"
   ]
  },
  {
   "cell_type": "code",
   "execution_count": 83,
   "metadata": {},
   "outputs": [
    {
     "name": "stdout",
     "output_type": "stream",
     "text": [
      "==================\n",
      "Your score:  0.925\n",
      "==================\n"
     ]
    }
   ],
   "source": [
    "def violation_by_cuisine():\n",
    "    return output\n",
    "\n",
    "grader.score('sql__violation_by_cuisine', violation_by_cuisine)"
   ]
  },
  {
   "cell_type": "markdown",
   "metadata": {},
   "source": [
    "*Copyright &copy; 2016 The Data Incubator.  All rights reserved.*"
   ]
  }
 ],
 "metadata": {
  "kernelspec": {
   "display_name": "Python 2",
   "language": "python",
   "name": "python2"
  },
  "language_info": {
   "codemirror_mode": {
    "name": "ipython",
    "version": 2
   },
   "file_extension": ".py",
   "mimetype": "text/x-python",
   "name": "python",
   "nbconvert_exporter": "python",
   "pygments_lexer": "ipython2",
   "version": "2.7.15"
  },
  "nbclean": true
 },
 "nbformat": 4,
 "nbformat_minor": 1
}
