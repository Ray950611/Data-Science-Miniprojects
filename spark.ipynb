{
 "cells": [
  {
   "cell_type": "code",
   "execution_count": 1,
   "metadata": {
    "collapsed": true
   },
   "outputs": [],
   "source": [
    "%matplotlib inline\n",
    "import matplotlib\n",
    "import seaborn as sns\n",
    "matplotlib.rcParams['savefig.dpi'] = 144"
   ]
  },
  {
   "cell_type": "code",
   "execution_count": 2,
   "metadata": {
    "collapsed": true
   },
   "outputs": [],
   "source": [
    "import grader"
   ]
  },
  {
   "cell_type": "code",
   "execution_count": 262,
   "metadata": {},
   "outputs": [
    {
     "name": "stdout",
     "output_type": "stream",
     "text": [
      "download: s3://dataincubator-course/spark-stats-data/stack_exchange_schema.txt to ./stack_exchange_schema.txt\r\n"
     ]
    }
   ],
   "source": [
    "!aws s3 cp s3://dataincubator-course/spark-stats-data/stack_exchange_schema.txt ."
   ]
  },
  {
   "cell_type": "markdown",
   "metadata": {},
   "source": [
    "# Spark Miniproject\n",
    "\n",
    "StackOverflow is a collaboratively edited question-and-answer site originally focused on programming topics. Because of the variety of features tracked, including a variety of feedback metrics, it allows for some open-ended analysis of user behavior on the site.\n",
    "\n",
    "StackExchange (the parent organization) provides an anonymized [data dump](https://archive.org/details/stackexchange), and we'll use Spark to perform data manipulation, analysis, and machine learning on this dataset. As a side note, there's also an online data explorer which allows you to query the data interactively.\n",
    "\n",
    "*Consider*: Do we need to use Spark to work with this dataset? What are our alternatives?"
   ]
  },
  {
   "cell_type": "markdown",
   "metadata": {},
   "source": [
    "## Workflow\n",
    "\n",
    "You may complete this project using the Python or Scala APIs. Most questions can be done locally, however in some cases you may want to use cloud services. See the appropriate lecture notebooks for information on how to use cloud services.\n",
    "\n",
    "Python example:\n",
    "\n",
    "1. Edit source code in your main.py file, classes in a separate classes.py (Class definitions need to be written in a separate file and then included at runtime.)\n",
    "1. Run locally on a chunk using eg. `$SPARK_HOME/bin/spark-submit --py-files src/classes.py src/main.py data/stats results/stats/`\n",
    "1. Run on GCP once your testing and development are done.\n",
    "\n",
    "Scala example:\n",
    "\n",
    "1. Edit source code in Main.scala\n",
    "1. Run the command `sbt package` from the root directory of the project\n",
    "1. Use spark-submit locally on a chunk: this means adding a flag like `--master local[2]` to the spark-submit command.\n",
    "1. Run on GCP once your testing and development are done.\n",
    "\n",
    "General tips:\n",
    "* SBT has some nice features, for example continuous build and test, which can greatly speed up your development.\n",
    "* Try `cat output_dir/* | sort -n -t , -k 1.2 -o sorted_output` to concatenate your output files, which will also be in part-xxxxx format.\n",
    "* You can access an interactive Spark/Scala REPL with `$SPARK_HOME/bin/spark-shell`.\n",
    "* You can access an interactive PySpark shell with `$SPARK_HOME/bin/pyspark`."
   ]
  },
  {
   "cell_type": "markdown",
   "metadata": {},
   "source": [
    "## Accessing the data\n",
    "\n",
    "The data is available on S3 (s3://dataincubator-course/spark-stack-data). There are three subfolders: allUsers, allPosts, and allVotes which contain chunked and gzipped xml with the following format:\n",
    "\n",
    "```\n",
    "<row Body=\"&lt;p&gt;I always validate my web pages, and I recommend you do the same BUT many large company websites DO NOT and cannot validate because the importance of the website looking exactly the same on all systems requires rules to be broken. &lt;/p&gt;&#10;&#10;&lt;p&gt;In general, valid websites help your page look good even on odd configurations (like cell phones) so you should always at least try to make it validate.&lt;/p&gt;&#10;\" CommentCount=\"0\" CreationDate=\"2008-10-12T20:26:29.397\" Id=\"195995\" LastActivityDate=\"2008-10-12T20:26:29.397\" OwnerDisplayName=\"Eric Wendelin\" OwnerUserId=\"25066\" ParentId=\"195973\" PostTypeId=\"2\" Score=\"0\" />\n",
    "```\n",
    "\n",
    "A full schema can be found [here](https://ia801500.us.archive.org/8/items/stackexchange/readme.txt).\n",
    "\n",
    "Data from the much smaller stats.stackexchange.com is available in the same format on S3 (s3://dataincubator-course/spark-stats-data). This site, Cross-Validated, will be used below in some instances to avoid working with the full dataset for every question."
   ]
  },
  {
   "cell_type": "markdown",
   "metadata": {},
   "source": [
    "You can either get the data by running the appropriate S3 commands in the terminal, or by running this block for the smaller stats data set:"
   ]
  },
  {
   "cell_type": "code",
   "execution_count": null,
   "metadata": {
    "collapsed": true
   },
   "outputs": [],
   "source": [
    "!mkdir -p spark-stats-data\n",
    "!aws s3 sync --exclude '*' --include 'all*' s3://dataincubator-course/spark-stats-data/ ./spark-stats-data"
   ]
  },
  {
   "cell_type": "markdown",
   "metadata": {},
   "source": [
    "And to get the much larger full data set (be warned, this can take 20 or more minutes, so you may want to run it in the terminal to avoid locking up the notebook):"
   ]
  },
  {
   "cell_type": "code",
   "execution_count": null,
   "metadata": {
    "collapsed": true
   },
   "outputs": [],
   "source": [
    "!mkdir -p spark-stack-data\n",
    "!aws s3 sync --exclude '*' --include 'all*' s3://dataincubator-course/spark-stack-data/ ./spark-stack-data"
   ]
  },
  {
   "cell_type": "markdown",
   "metadata": {},
   "source": [
    "## Data input and parsing\n",
    "\n",
    "Some rows are split across multiple lines; these can be discarded. Malformatted XML can also be ignored. It is enough to simply skip problematic rows, the loss of data will not significantly impact our results on this large data sets.\n",
    "\n",
    "You will need to handle xml parsing yourself using the \\ selector in Scala or something like lxml.etree in Python. *Warning*: The built-in xml.etree.ElementTree behaves differently and the results don't correspond perfectly with the Scala equivalent.\n",
    "\n",
    "To make your code more flexible, it's also recommended to incorporate command-line arguments that specify the location of the input data and where output should be written.\n",
    "\n",
    "The goal should be to have a parsing function that can be applied to the input data to access any XML element desired. It is suggested to use a class structure so that you can create RDDs of Posts, Votes, Users, etc."
   ]
  },
  {
   "cell_type": "code",
   "execution_count": 1,
   "metadata": {},
   "outputs": [
    {
     "name": "stdout",
     "output_type": "stream",
     "text": [
      "2.0.1\n"
     ]
    }
   ],
   "source": [
    "from pyspark import SparkContext\n",
    "sc = SparkContext(\"local[*]\", \"temp\")\n",
    "print sc.version\n"
   ]
  },
  {
   "cell_type": "code",
   "execution_count": 2,
   "metadata": {
    "collapsed": true
   },
   "outputs": [],
   "source": [
    "import os\n",
    "def localpath(path):\n",
    "    return 'file://' + str(os.path.abspath(os.path.curdir)) + '/' + path"
   ]
  },
  {
   "cell_type": "code",
   "execution_count": 6,
   "metadata": {
    "collapsed": true
   },
   "outputs": [],
   "source": [
    "def startrow(line):\n",
    "    l = line.strip().strip('\\n')\n",
    "    return (l.find(\"<row \")==0) \n",
    "def isrow(line):\n",
    "    l = line.strip().strip('\\n')\n",
    "    return (l.find(\"<row \")==0 and l[-3:]==\" />\")\n",
    "lines = sc.textFile(localpath('/spark-stats-data/allPosts/'))\n",
    "totalLines = lines.count()\n",
    "sus_rows = lines.filter(lambda x: startrow(x))\n",
    "rows=lines.filter(lambda x: isrow(x)) \n",
    "\n"
   ]
  },
  {
   "cell_type": "markdown",
   "metadata": {},
   "source": [
    "``` scala\n",
    "// Command line arguments in Scala\n",
    "\n",
    "object Main {\n",
    " def main(args: Array[String]) {\n",
    "   val inputDir = args(0)\n",
    "   val outputDir = args(1)\n",
    "   ...\n",
    "```"
   ]
  },
  {
   "cell_type": "markdown",
   "metadata": {},
   "source": [
    "``` python\n",
    "# Command line arguments using sysv or argparse in Python\n",
    "if __name__ == '__main__':\n",
    "    main(ARGS.input_dir, ARGS.output_dir)\n",
    "```"
   ]
  },
  {
   "cell_type": "markdown",
   "metadata": {},
   "source": [
    "Dates are parsed by default using the Long data type and unix time (epoch time). In Java/Scala, a given timestamp represents the number of milliseconds since 1970-01-01T00:00:00Z. Also be wary of integer overflow when dealing with Longs. For example, these two are not equal:\n",
    "\n",
    "`val year: Long = 365 * 24 * 60 * 60 * 1000`\n",
    "\n",
    "`val year: Long = 365 * 24 * 60 * 60 * 1000L`"
   ]
  },
  {
   "cell_type": "markdown",
   "metadata": {},
   "source": [
    "## Questions"
   ]
  },
  {
   "cell_type": "markdown",
   "metadata": {},
   "source": [
    "## bad_xml\n",
    "\n",
    "A simple question to test your parsing code. Create an RDD of Post objects where each Post is a valid row of XML from the Cross-Validated (stats.stackexchange.com) allPosts dataset.\n",
    "\n",
    "We are going to take several shortcuts to speed up and simplify our computations.  First, your parsing function to only attempt to parse rows that start with `  <row` as these denote actual data entries. This should be done in Spark as the data is being read in from disk, without any pre-Spark processing. \n",
    "\n",
    "Return the total number XML rows that started with ` <row` that were subsequently **rejected** during your processing.  Note that the text is unicode, and contains non-ascii characters.  You may need to re-encode to utf-8 (depending on your xml parser)\n",
    "\n",
    "Note that this cleaned dataset will be used for all subsequent questions.\n",
    "\n",
    "*Question*: Can you figure out what filters you need to put in place to avoid throwing parsing errors entirely?"
   ]
  },
  {
   "cell_type": "code",
   "execution_count": 6,
   "metadata": {},
   "outputs": [
    {
     "data": {
      "text/plain": [
       "781"
      ]
     },
     "execution_count": 6,
     "metadata": {},
     "output_type": "execute_result"
    }
   ],
   "source": [
    "abs(rows.count()-sus_rows.count())"
   ]
  },
  {
   "cell_type": "code",
   "execution_count": 46,
   "metadata": {},
   "outputs": [
    {
     "name": "stdout",
     "output_type": "stream",
     "text": [
      "==================\n",
      "Your score:  1\n",
      "==================\n"
     ]
    }
   ],
   "source": [
    "def bad_xml():\n",
    "    return 781\n",
    "\n",
    "grader.score(question_name='spark__bad_xml', func=bad_xml)"
   ]
  },
  {
   "cell_type": "markdown",
   "metadata": {},
   "source": [
    "## upvote_percentage\n",
    "\n",
    "Each post on StackExchange can be upvoted, downvoted, and favorited. One \"sanity check\" we can do is to look at the ratio of upvotes to downvotes (referred to as \"UpMod\" and \"DownMod\" in the schema) as a function of how many times the post has been favorited.\n",
    "\n",
    "You might hypothesize, for example, that posts with more favorites should have a higher upvote/downvote ratio.\n",
    "\n",
    "Instead of looking at individual posts, we'll aggregate across number of favorites by using the post's number of favorites as our key. Since we're computing ratios, bundling together all posts with the same number of favorites effectively averages over them.  Calculate the average percentage of upvotes *(upvotes / (upvotes + downvotes))* for the first 50 ***keys***.\n",
    "\n",
    "Do the analysis on the smaller Cross-Validated dataset.\n",
    "\n",
    "#### Checkpoints\n",
    "* Total upvotes: 313,819\n",
    "* Total downvotes: 13,019\n",
    "* Mean of first 50 keys (averaging the keys themselves): 24.76"
   ]
  },
  {
   "cell_type": "code",
   "execution_count": 52,
   "metadata": {
    "collapsed": true
   },
   "outputs": [],
   "source": [
    "# vote type 2 for upvotes and 3 for downvotes "
   ]
  },
  {
   "cell_type": "code",
   "execution_count": 8,
   "metadata": {
    "collapsed": true
   },
   "outputs": [],
   "source": [
    "from lxml import etree\n",
    "def favcounts(x):\n",
    "    if x.find('FavoriteCount=')==-1:\n",
    "        count = 0\n",
    "    else:\n",
    "        count=int(x[(x.find('FavoriteCount=')+15):(x.find('\" Id='))])\n",
    "    ID = str(x[x.find('\" Id=')+6:x.find('\" LastActivityDate')])\n",
    "    return [ID,count]\n",
    "favs = rows_post.map(favcounts)"
   ]
  },
  {
   "cell_type": "code",
   "execution_count": 7,
   "metadata": {},
   "outputs": [],
   "source": [
    "def isrow(line):\n",
    "    l = line.strip().strip('\\n')\n",
    "    return (l.find(\"<row \")==0 and l[-3:]==\" />\")\n",
    "def votetype(t,line):\n",
    "    return ' VoteTypeId=\"'+str(t)+'\" ' in line\n",
    "lines_post = sc.textFile(localpath('/spark-stats-data/allPosts/'))\n",
    "lines_vote = sc.textFile(localpath('/spark-stats-data/allVotes/'))\n",
    "rows_post=lines_post.filter(lambda x: isrow(x)) \n",
    "rows_vote=lines_vote.filter(lambda x: isrow(x)) \n",
    "upvotes = rows_vote.filter(lambda x: votetype(2,x)).map(lambda x: [str(x[(x.find('PostId=')+8):(x.find('VoteTypeId')-2)]),1])\n",
    "downvotes = rows_vote.filter(lambda x: votetype(3,x)).map(lambda x: [str(x[(x.find('PostId=')+8):(x.find('VoteTypeId')-2)]),1])"
   ]
  },
  {
   "cell_type": "code",
   "execution_count": 9,
   "metadata": {
    "collapsed": true
   },
   "outputs": [],
   "source": [
    "fav_up = favs.join(upvotes).map(lambda (id, (favcount, vote)): favcount)\n",
    "fav_down = favs.join(downvotes).map(lambda (id, (favcount, vote)): favcount)\n",
    "up_dic = fav_up.countByValue()\n",
    "down_dic = fav_down.countByValue()"
   ]
  },
  {
   "cell_type": "code",
   "execution_count": 10,
   "metadata": {},
   "outputs": [
    {
     "data": {
      "text/plain": [
       "24.76"
      ]
     },
     "execution_count": 10,
     "metadata": {},
     "output_type": "execute_result"
    }
   ],
   "source": [
    "ratio_dic = {}\n",
    "for i in up_dic.keys():\n",
    "    ratio_dic.update({i:(float(up_dic[i])/(up_dic[i]+down_dic[i]))})\n",
    "sum(ratio_dic.keys()[0:50])/50.0"
   ]
  },
  {
   "cell_type": "code",
   "execution_count": 85,
   "metadata": {},
   "outputs": [
    {
     "name": "stdout",
     "output_type": "stream",
     "text": [
      "==================\n",
      "Your score:  1.0\n",
      "==================\n"
     ]
    }
   ],
   "source": [
    "def upvote_percentage():\n",
    "    output = []\n",
    "    for i in ratio_dic.keys()[0:50]:\n",
    "        output.append([i,ratio_dic[i]])\n",
    "    return output\n",
    "\n",
    "grader.score(question_name='spark__upvote_percentage', func=upvote_percentage)"
   ]
  },
  {
   "cell_type": "markdown",
   "metadata": {},
   "source": [
    "## answer_percentage\n",
    "\n",
    "Investigate the correlation between a user's reputation and the kind of posts they make. For the 99 users with the highest reputation, single out posts which are either questions or answers and look at the percentage of these posts that are answers: *(answers / (answers + questions))*. \n",
    "\n",
    "Return a tuple of their **user ID** and this fraction.\n",
    "\n",
    "You should also return (-1, fraction) to represent the case where you average over all users (so you will return 100 entries total).\n",
    "\n",
    "Again, you only need to run this on the statistics overflow set.\n",
    "\n",
    "#### Checkpoints\n",
    "* Total questions: 52,060\n",
    "* Total answers: 55,304\n",
    "* Top 99 users' average reputation: 11893.464646464647"
   ]
  },
  {
   "cell_type": "code",
   "execution_count": 14,
   "metadata": {},
   "outputs": [
    {
     "data": {
      "text/plain": [
       "(52060, 55304)"
      ]
     },
     "execution_count": 14,
     "metadata": {},
     "output_type": "execute_result"
    }
   ],
   "source": [
    "def posttype(t,line):\n",
    "    return ' PostTypeId=\"'+str(t)+'\" ' in line\n",
    "def postowner(x):\n",
    "    start = x.find('OwnerUserId=')+13\n",
    "    if start==12:\n",
    "        return '0'\n",
    "    a = x.find('\" ParentId=')\n",
    "    if a==-1:\n",
    "        end = x.find('\" PostTypeId=')\n",
    "        return str(x[start:end].encode('utf-8'))\n",
    "    else:\n",
    "        return str(x[start:a].encode('utf-8'))\n",
    "questions = rows_post.filter(lambda x: posttype(1,x)).map(lambda x:postowner(x))\n",
    "answers = rows_post.filter(lambda x: posttype(2,x)).map(lambda x:postowner(x))\n",
    "questions.count(),answers.count()"
   ]
  },
  {
   "cell_type": "code",
   "execution_count": 15,
   "metadata": {
    "collapsed": true
   },
   "outputs": [],
   "source": [
    "a_dic = answers.countByValue()\n",
    "q_dic = questions.countByValue()"
   ]
  },
  {
   "cell_type": "code",
   "execution_count": 16,
   "metadata": {},
   "outputs": [
    {
     "data": {
      "text/plain": [
       "50320"
      ]
     },
     "execution_count": 16,
     "metadata": {},
     "output_type": "execute_result"
    }
   ],
   "source": [
    "def user_rep(x):\n",
    "    acc = str(x[x.find('\" Id=\"')+6:x.find('\" LastAccessDate=')].encode('utf-8'))\n",
    "   \n",
    "    if x.find('Reputation=\"')==-1:\n",
    "        return [acc,0]\n",
    "    else:\n",
    "        rep = int(x[x.find('Reputation=\"')+12:x.find('\" UpVotes=')])\n",
    "        return [acc,rep]\n",
    "lines_user = sc.textFile(localpath('/spark-stats-data/allUsers/'))\n",
    "rows_user=lines_user.filter(lambda x: isrow(x)) \n",
    "reputation = rows_user.map(user_rep)\n",
    "reputation.count()"
   ]
  },
  {
   "cell_type": "code",
   "execution_count": 15,
   "metadata": {
    "collapsed": true
   },
   "outputs": [],
   "source": [
    "reputation_user = reputation.map(lambda (acc,rep):(rep,acc)).sortByKey(ascending=False)"
   ]
  },
  {
   "cell_type": "code",
   "execution_count": 16,
   "metadata": {
    "collapsed": true
   },
   "outputs": [],
   "source": [
    "topusers = reputation_user.collect()[0:99]\n",
    "output = []\n",
    "for user in topusers:\n",
    "    ID = int(user[1])\n",
    "    q = q_dic[user[1]]\n",
    "    a = a_dic[user[1]]\n",
    "    if a+q==0:\n",
    "        rate = 0\n",
    "    else:\n",
    "        rate = a*1.0/(a+q)\n",
    "    output.append([ID,rate])\n",
    "output.append([-1,55304.0/(55304+52060)])"
   ]
  },
  {
   "cell_type": "code",
   "execution_count": 177,
   "metadata": {},
   "outputs": [
    {
     "name": "stdout",
     "output_type": "stream",
     "text": [
      "==================\n",
      "Your score:  1.0\n",
      "==================\n"
     ]
    }
   ],
   "source": [
    "def answer_percentage():\n",
    "    \n",
    "    return output\n",
    "\n",
    "grader.score(question_name='spark__answer_percentage', func=answer_percentage)"
   ]
  },
  {
   "cell_type": "markdown",
   "metadata": {},
   "source": [
    "## post_counts\n",
    "\n",
    "If we use the total number of posts made on the site as a metric for tenure, we can look at the differences between \"younger\" and \"older\" users. You can imagine there might be many interesting features - for now just return the top 100 post counts among all users (of all types of posts) and the average reputation for every user who has that count.\n",
    "\n",
    "In other words, aggregate the cases where multiple users have the same post count.\n",
    "\n",
    "#### Checkpoints\n",
    "* Mean of top 100 post counts: 281.51"
   ]
  },
  {
   "cell_type": "code",
   "execution_count": 17,
   "metadata": {
    "collapsed": true
   },
   "outputs": [],
   "source": [
    "posts = rows_post.map(lambda x:[postowner(x),1]).reduceByKey(lambda x,y:x+y)\n",
    "total_rep =posts.join(reputation_user.map(lambda (x,y):(y,x))).map(lambda (id, (p, r)): (p,r))"
   ]
  },
  {
   "cell_type": "code",
   "execution_count": 18,
   "metadata": {
    "collapsed": true
   },
   "outputs": [],
   "source": [
    "counts = total_rep.map(lambda (x,y): x).countByValue()\n",
    "reps = total_rep.reduceByKey(lambda x,y:x+y).sortByKey(ascending=False).collect()[0:100]\n"
   ]
  },
  {
   "cell_type": "code",
   "execution_count": 208,
   "metadata": {},
   "outputs": [
    {
     "name": "stdout",
     "output_type": "stream",
     "text": [
      "==================\n",
      "Your score:  1.0\n",
      "==================\n"
     ]
    }
   ],
   "source": [
    "def post_counts():\n",
    "    output= []\n",
    "    for i in reps:\n",
    "        count = i[0]\n",
    "        avg = i[1]*1.0/counts[i[0]]\n",
    "        output.append([count,avg])\n",
    "    return output\n",
    "\n",
    "grader.score(question_name='spark__post_counts', func=post_counts)"
   ]
  },
  {
   "cell_type": "markdown",
   "metadata": {},
   "source": [
    "## quick_answers\n",
    "\n",
    "How long do you have to wait to get your question answered? Look at the set of ACCEPTED answers which are posted less than three hours after question creation. What is the average number of these \"quick answers\" as a function of the hour of day the question was asked? You should normalize by how many total accepted answers are garnered by questions posted in a given hour, just like we're counting how many quick accepted answers are garnered by questions posted in a given hour, eg. (quick accepted answers when question hour is 15 / total accepted answers when question hour is 15).\n",
    "\n",
    "Return a list, whose ith element correspond to ith hour (e.g. 0 -> midnight, 1 -> 1:00, etc.)\n",
    "\n",
    "*Note*: When using Scala's SimpleDateFormat class, it's important to account for your machine's local time zone. Our policy will be to use GMT: hourFormat.setTimeZone(TimeZone.getTimeZone(\"GMT\"))\n",
    "\n",
    "*Consider*: What biases are present in our result that we don't account for? How should we handle this?\n",
    "\n",
    "#### Checkpoints\n",
    "* Total quick accepted answers: 8,468\n",
    "* Total accepted answers: 17,096"
   ]
  },
  {
   "cell_type": "code",
   "execution_count": 11,
   "metadata": {
    "collapsed": true
   },
   "outputs": [],
   "source": [
    "from datetime import datetime,timedelta\n"
   ]
  },
  {
   "cell_type": "code",
   "execution_count": 12,
   "metadata": {
    "collapsed": true
   },
   "outputs": [],
   "source": [
    "def acp_ans(x):\n",
    "    ans_id = int(x[x.find('AcceptedAnswerId=\"')+18:x.find('\" AnswerCount=\"')])\n",
    "    date = x[x.find('CreationDate=\"')+14:x.find('CreationDate=\"')+37].encode('utf-8')\n",
    "    ID = int(x[x.find('\" Id=\"')+6:x.find('\" LastActivityDate=')])\n",
    "    o = datetime.strptime(date,'%Y-%m-%dT%H:%M:%S.%f')\n",
    "    h = o.hour\n",
    "    return [str(ID)+'|'+str(ans_id),o,h]\n",
    "def ans_parent(x):\n",
    "    date = x[x.find('CreationDate=\"')+14:x.find('CreationDate=\"')+37].encode('utf-8')\n",
    "    o = datetime.strptime(date,'%Y-%m-%dT%H:%M:%S.%f')\n",
    "    ID = int(x[x.find('\" Id=\"')+6:x.find('\" LastActivityDate=')])\n",
    "    a = x.find('\" ParentId=')\n",
    "    if a==-1:\n",
    "        p = 0\n",
    "    else:\n",
    "        p = int(x[a+12:x.find('\" PostTypeId=')])\n",
    "    return [str(p)+'|'+str(ID),o]\n",
    "accepted = rows_post.filter(lambda x: posttype(1,x)).filter(lambda x: x.find('AcceptedAnswerId=\"')!=-1).map(acp_ans)\n",
    "answer_parent = rows_post.filter(lambda x: posttype(2,x)).map(ans_parent)\n"
   ]
  },
  {
   "cell_type": "code",
   "execution_count": 21,
   "metadata": {
    "collapsed": true
   },
   "outputs": [],
   "source": [
    "rec = accepted.join(answer_parent).map(lambda (id, (o1, o2)): (o1.hour,int(abs((o1-o2)/3600)<=timedelta(0,3)))).reduceByKey(lambda x,y:x+y)\n",
    "quick_hour = rec.collect()\n",
    "rec_all = accepted.map(lambda (x,y,z):z).countByValue()"
   ]
  },
  {
   "cell_type": "code",
   "execution_count": 22,
   "metadata": {},
   "outputs": [
    {
     "name": "stdout",
     "output_type": "stream",
     "text": [
      "==================\n",
      "Your score:  1.0\n",
      "==================\n"
     ]
    }
   ],
   "source": [
    "def quick_answers():\n",
    "    output = [0.]*24\n",
    "    for i in quick_hour:\n",
    "        h = i[0]\n",
    "        output[h]=i[1]*1.0/rec_all[h]\n",
    "    return output\n",
    "\n",
    "grader.score(question_name='spark__quick_answers', func=quick_answers)"
   ]
  },
  {
   "cell_type": "markdown",
   "metadata": {},
   "source": [
    "## quick_answers_full\n",
    "\n",
    "Same as above, but on the full StackExchange dataset.\n",
    "\n",
    "No pre-parsed data is available for this question.\n",
    "\n",
    "#### Checkpoints\n",
    "* Total quick accepted answers: 3,700,224\n",
    "* Total accepted answers: 5,086,888"
   ]
  },
  {
   "cell_type": "code",
   "execution_count": 39,
   "metadata": {
    "collapsed": true
   },
   "outputs": [],
   "source": [
    "stack_post = sc.textFile(localpath('/spark-stack-data/allPosts/'))\n",
    "allpost=stack_post.filter(lambda x: isrow(x)) \n",
    "accepted_stack = allpost.filter(lambda x: posttype(1,x)).filter(lambda x: x.find('AcceptedAnswerId=\"')!=-1).map(acp_ans)\n",
    "answer_stack = allpost.filter(lambda x: posttype(2,x)).map(ans_parent)"
   ]
  },
  {
   "cell_type": "code",
   "execution_count": 34,
   "metadata": {
    "collapsed": true
   },
   "outputs": [],
   "source": [
    "rec_stack = accepted_stack.join(answer_stack).map(lambda (id, (o1, o2)): (o1.hour,int(abs((o1-o2)/3600)<=timedelta(0,3)))).reduceByKey(lambda x,y:x+y)\n",
    "quick_hour_stack = rec_stack.collect()\n",
    "rec_all_stack = accepted_stack.map(lambda (x,y,z):z).countByValue()"
   ]
  },
  {
   "cell_type": "code",
   "execution_count": 35,
   "metadata": {},
   "outputs": [
    {
     "name": "stdout",
     "output_type": "stream",
     "text": [
      "==================\n",
      "Your score:  1.0\n",
      "==================\n"
     ]
    }
   ],
   "source": [
    "def quick_answers_full():\n",
    "    output = [0.]*24\n",
    "    for i in quick_hour_stack:\n",
    "        h = i[0]\n",
    "        output[h]=i[1]*1.0/rec_all_stack[h]\n",
    "    return output\n",
    "\n",
    "grader.score(question_name='spark__quick_answers_full', func=quick_answers_full)"
   ]
  },
  {
   "cell_type": "markdown",
   "metadata": {},
   "source": [
    "## identify_veterans\n",
    "\n",
    "It can be interesting to think about what factors influence a user to remain active on the site over a long period of time. In order not to bias the results towards older users, we'll define a time window between 100 and 150 days after account creation. If the user has made a post in this time, we'll consider them active and well on their way to being veterans of the site; if not, they are inactive and were likely brief users.\n",
    "\n",
    "*Consider*: What other parameterizations of \"activity\" could we use, and how would they differ in terms of splitting our user base?\n",
    "\n",
    "*Consider*: What other biases are still not dealt with, after using the above approach?\n",
    "\n",
    "Let's see if there are differences between the first ever question posts of \"veterans\" vs. \"brief users\". For each group separately, average the score, views, number of answers, and number of favorites of the users' **first question**.\n",
    "\n",
    "*Consider*: What story could you tell from these numbers? How do the numbers support it?\n",
    "\n",
    "#### Checkpoints\n",
    "* Total brief users: 24,864\n",
    "* Total veteran users: 2,027"
   ]
  },
  {
   "cell_type": "code",
   "execution_count": 17,
   "metadata": {},
   "outputs": [],
   "source": [
    "def post_date(x):\n",
    "    owner = postowner(x)\n",
    "    date = datetime.strptime(x[x.find('CreationDate=\"')+14:x.find('CreationDate=\"')+37].encode('utf-8'),'%Y-%m-%dT%H:%M:%S.%f')\n",
    "    return [owner,date]\n",
    "def acc_start(x):\n",
    "    acc = str(x[x.find('\" Id=\"')+6:x.find('\" LastAccessDate=')].encode('utf-8'))\n",
    "    date = datetime.strptime(x[x.find('CreationDate=\"')+14:x.find('CreationDate=\"')+37].encode('utf-8'),'%Y-%m-%dT%H:%M:%S.%f')\n",
    "    return [acc,date]\n",
    "post_all = rows_post.map(post_date)\n",
    "all_users = rows_user.map(acc_start)"
   ]
  },
  {
   "cell_type": "code",
   "execution_count": 18,
   "metadata": {
    "collapsed": true
   },
   "outputs": [],
   "source": [
    "\n",
    "vet = post_all.join(all_users).filter(lambda (id, (o1, o2)):abs(o1-o2)>=timedelta(100,0) and abs(o1-o2)<=timedelta(150,0) ).map(lambda (id,(o1,o2)):id)\n",
    "\n",
    "vets = vet.countByValue().keys()"
   ]
  },
  {
   "cell_type": "code",
   "execution_count": 19,
   "metadata": {},
   "outputs": [
    {
     "data": {
      "text/plain": [
       "24811"
      ]
     },
     "execution_count": 19,
     "metadata": {},
     "output_type": "execute_result"
    }
   ],
   "source": [
    "brief = all_users.filter(lambda (x,y): x not in vets).join(post_all).map(lambda (id,(o1,o2)):id).countByValue()\n",
    "briefs=brief.keys()\n",
    "len(briefs)"
   ]
  },
  {
   "cell_type": "code",
   "execution_count": 26,
   "metadata": {
    "collapsed": true
   },
   "outputs": [],
   "source": [
    "def q_detail(x):\n",
    "    owner = postowner(x)\n",
    "    date = datetime.strptime(x[x.find('CreationDate=\"')+14:x.find('CreationDate=\"')+37].encode('utf-8'),'%Y-%m-%dT%H:%M:%S.%f')\n",
    "    if x.find('AnswerCount=\"')==-1:\n",
    "        ac = 0\n",
    "    else:\n",
    "        ac = int(x[x.find('AnswerCount=\"')+13:x.find('\" Body')])\n",
    "    if x.find('Score=\"')==-1:\n",
    "        sc = 0\n",
    "    else:\n",
    "        sc = int(x[x.find('Score=\"')+7:x.find('\" Tags=')])\n",
    "    if x.find('ViewCount=\"')==-1:\n",
    "        vc = 0\n",
    "    else:\n",
    "        vc = int(x[x.find('ViewCount=\"')+11:x.find('\" />')])\n",
    "    if x.find('FavoriteCount=')==-1:\n",
    "        fcount = 0\n",
    "    else:\n",
    "        fcount=int(x[(x.find('FavoriteCount=')+15):(x.find('\" Id='))])\n",
    "    return [owner,[date,ac,sc,vc,fcount]]\n",
    "vet_firstq = rows_post.filter(lambda x: posttype(1,x)).map(detail).filter(lambda (x,y):x in vets)\n",
    "bri_firstq = rows_post.filter(lambda x: posttype(1,x)).map(detail).filter(lambda (x,y):x in briefs)"
   ]
  },
  {
   "cell_type": "code",
   "execution_count": 31,
   "metadata": {
    "collapsed": true
   },
   "outputs": [],
   "source": [
    "def first_post(x,y):\n",
    "    if x[0]<y[0]:\n",
    "        return x\n",
    "    else:\n",
    "        return y\n",
    "def total(x,y):\n",
    "    return [x[0]+y[0],x[1]+y[1],x[2]+y[2],x[3]+y[3]]\n",
    "vet_fq = vet_firstq.reduceByKey(lambda x,y:first_post(x,y)).map(lambda (x,y):('vet',y[2:]))\n",
    "bri_fq = bri_firstq.reduceByKey(lambda x,y:first_post(x,y)).map(lambda (x,y):('brief',y[2:]))"
   ]
  },
  {
   "cell_type": "code",
   "execution_count": 28,
   "metadata": {},
   "outputs": [],
   "source": [
    "num_vets = vet_fq.count()"
   ]
  },
  {
   "cell_type": "code",
   "execution_count": 29,
   "metadata": {
    "collapsed": true
   },
   "outputs": [],
   "source": [
    "num_briefs = bri_fq.count()"
   ]
  },
  {
   "cell_type": "code",
   "execution_count": 32,
   "metadata": {},
   "outputs": [
    {
     "name": "stdout",
     "output_type": "stream",
     "text": [
      "1.29753424658\n",
      "3.54082191781\n",
      "923.796712329\n",
      "1.29917808219\n"
     ]
    }
   ],
   "source": [
    "total_vet_data = vet_fq.reduceByKey(total).collect()[0][1]\n",
    "for i in total_vet_data:\n",
    "    print i*1.0/num_vets"
   ]
  },
  {
   "cell_type": "code",
   "execution_count": 33,
   "metadata": {},
   "outputs": [
    {
     "name": "stdout",
     "output_type": "stream",
     "text": [
      "0.970662905501\n",
      "2.10061118947\n",
      "553.620592384\n",
      "0.575787494123\n"
     ]
    }
   ],
   "source": [
    "total_brief_data = bri_fq.reduceByKey(total).collect()[0][1]\n",
    "for i in total_brief_data:\n",
    "    print i*1.0/num_briefs"
   ]
  },
  {
   "cell_type": "code",
   "execution_count": 84,
   "metadata": {},
   "outputs": [
    {
     "name": "stdout",
     "output_type": "stream",
     "text": [
      "==================\n",
      "Your score:  1.0\n",
      "==================\n"
     ]
    }
   ],
   "source": [
    "def identify_veterans():\n",
    "    return {\"vet_score\": 3.54082191781,\n",
    "            \"vet_views\": 923.796712329,\n",
    "            \"vet_answers\": 1.29753424658,\n",
    "            \"vet_favorites\": 1.29917808219,\n",
    "            \"brief_score\": 2.10061118947,\n",
    "            \"brief_views\": 553.620592384,\n",
    "            \"brief_answers\": 0.970662905501,\n",
    "            \"brief_favorites\": 0.575787494123\n",
    "           }\n",
    "\n",
    "grader.score(question_name='spark__identify_veterans', func=identify_veterans)"
   ]
  },
  {
   "cell_type": "markdown",
   "metadata": {},
   "source": [
    "## identify_veterans_full\n",
    "\n",
    "Same as above, but on the full StackExchange dataset.\n",
    "\n",
    "No pre-parsed data is available for this question.\n",
    "\n",
    "#### Checkpoints\n",
    "* Total brief users: 1,848,628\n",
    "* Total veteran users: 288,285"
   ]
  },
  {
   "cell_type": "code",
   "execution_count": 14,
   "metadata": {
    "collapsed": true
   },
   "outputs": [],
   "source": [
    "import lxml.etree as ET\n"
   ]
  },
  {
   "cell_type": "code",
   "execution_count": 15,
   "metadata": {
    "collapsed": true
   },
   "outputs": [],
   "source": [
    "def detail(x):\n",
    "    root = ET.fromstring(x)\n",
    "    if 'OwnerUserId' not in root.attrib:\n",
    "        owner='0'\n",
    "        cat = 'NA'\n",
    "    else:\n",
    "        owner = root.get('OwnerUserId')\n",
    "        if owner in vets_all:\n",
    "            cat = 'vet'\n",
    "        elif owner in briefs_all:\n",
    "            cat = 'brief'\n",
    "        else:\n",
    "            cat='NA'\n",
    "    date = datetime.strptime(x[x.find('CreationDate=\"')+14:x.find('CreationDate=\"')+37].encode('utf-8'),'%Y-%m-%dT%H:%M:%S.%f')\n",
    "    if 'AnswerCount' not in root.attrib:\n",
    "        ac = 0\n",
    "    else:\n",
    "        ac = int(root.get('AnswerCount'))\n",
    "    if 'Score' not in root.attrib:\n",
    "        sc = 0\n",
    "    else:\n",
    "        sc = int(root.get('Score'))\n",
    "    if 'ViewCount' not in root.attrib:\n",
    "        vc = 0\n",
    "    else:\n",
    "        vc = int(root.get('ViewCount'))\n",
    "    if 'FavoriteCount' not in root.attrib:\n",
    "        fcount = 0\n",
    "    else:\n",
    "        fcount = int(root.get('FavoriteCount'))\n",
    "    return [owner,[date,cat,ac,sc,vc,fcount,1]]"
   ]
  },
  {
   "cell_type": "code",
   "execution_count": 59,
   "metadata": {
    "collapsed": true
   },
   "outputs": [],
   "source": [
    "stack_post = sc.textFile(localpath('/spark-stack-data/allPosts/'))\n",
    "stack_user = sc.textFile(localpath('/spark-stack-data/allUsers/'))\n",
    "allpost=stack_post.filter(lambda x: isrow(x)) \n",
    "alluser=stack_user.filter(lambda x: isrow(x)) \n",
    "post_stack = allpost.map(post_date)\n",
    "users_stack = alluser.map(acc_start)\n",
    "vet_stack = post_stack.join(users_stack).filter(lambda (id, (o1, o2)):abs(o1-o2)>=timedelta(100,0) and abs(o1-o2)<=timedelta(150,0) ).map(lambda (id,(o1,o2)):id)\n",
    "vets_all = vet_stack.countByValue().keys()\n",
    "brief_stack = users_stack.filter(lambda (x,y): x not in vets_all).join(post_stack).map(lambda (id,(o1,o2)):id).countByValue()\n",
    "briefs_all=brief_stack.keys()"
   ]
  },
  {
   "cell_type": "code",
   "execution_count": 91,
   "metadata": {},
   "outputs": [],
   "source": [
    "import dill\n",
    "\n",
    "dill.dump(vets_all,open('all_vets.pkd','w'))\n",
    "dill.dump(briefs_all,open('all_briefs.pkd','w'))"
   ]
  },
  {
   "cell_type": "code",
   "execution_count": 17,
   "metadata": {
    "collapsed": true
   },
   "outputs": [],
   "source": [
    "import dill\n",
    "vets_all = dill.load(open('all_vets.pkd','r'))\n",
    "briefs_all = dill.load(open('all_briefs.pkd','r'))"
   ]
  },
  {
   "cell_type": "code",
   "execution_count": null,
   "metadata": {
    "collapsed": true
   },
   "outputs": [],
   "source": [
    "def first_post(x,y):\n",
    "    if x[1]<y[1]:\n",
    "        return x\n",
    "    else:\n",
    "        return y\n",
    "\n",
    "def total_full(x,y):\n",
    "    return [x[0]+y[0],x[1]+y[1],x[2]+y[2],x[3]+y[3],x[4]+y[4]]\n",
    "firstq_stack = sc.parallelize(stack_post.filter(lambda x: isrow(x) and posttype(1,x)).map(detail).reduceByKey(first_post).map(lambda (x,y):(y[0],y[2:])).reduceByKey(total_full).collect())\n",
    "stack_data=firstq_stack.collect()"
   ]
  },
  {
   "cell_type": "code",
   "execution_count": 19,
   "metadata": {},
   "outputs": [
    {
     "name": "stdout",
     "output_type": "stream",
     "text": [
      "==================\n",
      "Your score:  1.0\n",
      "==================\n"
     ]
    }
   ],
   "source": [
    "import grader\n",
    "def identify_veterans_full():\n",
    "    return {\"vet_score\":2.156145241083955,\n",
    "            \"vet_views\":1801.041589751163,\n",
    "            \"vet_answers\": 1.8337194491619286,\n",
    "            \"vet_favorites\": 0.8651969652218858,\n",
    "            \"brief_score\": 1.1947695334768675,\n",
    "            \"brief_views\": 1124.7777816213463,\n",
    "            \"brief_answers\": 1.5152378277257206,\n",
    "            \"brief_favorites\":0.375504906545935\n",
    "           }\n",
    "grader.score(question_name='spark__identify_veterans_full', func=identify_veterans_full)"
   ]
  },
  {
   "cell_type": "markdown",
   "metadata": {},
   "source": [
    "## word2vec\n",
    "\n",
    "Word2Vec is an alternative approach for vectorizing text data. The vectorized representations of words in the vocabulary tend to be useful for predicting other words in the document, hence the famous example \"vector('king') - vector('man') + vector('woman') ~= vector('queen')\".\n",
    "\n",
    "Let's see how good a Word2Vec model we can train using the tags of each StackExchange post as documents (this uses the full dataset). Use Spark ML's implementation of Word2Vec (this will require using DataFrames) to return a list of the top 25 closest synonyms to \"ggplot2\" and their similarity score in tuple format (\"string\", number).\n",
    "\n",
    "#### Parameters\n",
    "\n",
    "The dimensionality of the vector space should be 100. The random seed should be 42L.\n",
    "\n",
    "#### Checkpoints\n",
    "* Mean of the top 25 cosine similarities: 0.7785175901170094"
   ]
  },
  {
   "cell_type": "code",
   "execution_count": null,
   "metadata": {
    "collapsed": true
   },
   "outputs": [],
   "source": [
    "def get_tags(x):\n",
    "    if x.find('Tags=\"')==-1:\n",
    "        return []\n",
    "    else:\n",
    "        tag = x[x.find('Tags=\"')+6:x.find('\" Title=')]\n",
    "        tag=tag[4:-4]\n",
    "        tag = tag.split('&gt;&lt;')\n",
    "        return tag"
   ]
  },
  {
   "cell_type": "code",
   "execution_count": null,
   "metadata": {
    "collapsed": true
   },
   "outputs": [],
   "source": [
    "from pyspark.mllib.feature import Word2Vec\n",
    "stack_post = sc.textFile(localpath('/spark-stack-data/allPosts/'))\n",
    "allpost=stack_post.filter(lambda x: isrow(x)) \n",
    "post_tag = allpost.map(get_tags)\n",
    "word2vec = Word2Vec().setVectorSize(100).setSeed(42)\n",
    "model = word2vec.fit(post_tag)\n",
    "synonyms = model.findSynonyms('ggplot2', 25)\n",
    "syncs = []\n",
    "for word, cosine_distance in synonyms:\n",
    "    syncs.append([word.encode('utf-8'),cosine_distance])"
   ]
  },
  {
   "cell_type": "code",
   "execution_count": null,
   "metadata": {
    "collapsed": true
   },
   "outputs": [],
   "source": [
    "def word2vec():\n",
    "    return syncs\n",
    "\n",
    "grader.score(question_name='spark__word2vec', func=word2vec)"
   ]
  },
  {
   "cell_type": "markdown",
   "metadata": {},
   "source": [
    "## classification\n",
    "\n",
    "We'd like to see if we can predict the tags of a question from its body text. Technically this is a multi-label classification problem, but to simplify things we'll use a one-vs-all approach where we choose the top k most common tags and train k binary classifiers where the labels indicate the presence or absence of that tag.\n",
    "\n",
    "Use a logistic regression model as your classifer.\n",
    "\n",
    "Since we can't reliably save and load models, return a list of 100 tuples (\"string\", [number, number, number,...]) where \"string\" is the tag and the numbers are your model's predicted probabilities for class 0 (eg. 0.2 means a prediction that the tag is present) across the test set.\n",
    "\n",
    "Note that this will require some digging into the result DataFrame to extract.\n",
    "The length of these probability lists is equal to the length of the test set: 4649.\n",
    "\n",
    "#### Parameters\n",
    "\n",
    "* [Training](s3://dataincubator-course/spark-stats-data/posts_train.zip) and [test](s3://dataincubator-course/spark-stats-data/posts_test.zip) sets are available on S3.\n",
    "* Tokenize the body text into words\n",
    "* number of tags to consider k = 100"
   ]
  },
  {
   "cell_type": "code",
   "execution_count": null,
   "metadata": {
    "collapsed": true
   },
   "outputs": [],
   "source": [
    "import dill\n",
    "result= dill.load(open('class.pkd','r'))"
   ]
  },
  {
   "cell_type": "code",
   "execution_count": null,
   "metadata": {
    "collapsed": true
   },
   "outputs": [],
   "source": [
    "def classification():\n",
    "    return result\n",
    "\n",
    "grader.score(question_name='spark__classification', func=classification)"
   ]
  },
  {
   "cell_type": "markdown",
   "metadata": {},
   "source": [
    "## k_means (ungraded)\n",
    "\n",
    "From your trained Word2Vec model, pass the vectors into a K-means clustering algorithm. Create a plot of the sum of squared error by calculating the square root of the sum of the squared distances for each point and its assigned cluster. For an independent variable use either the number of clusters k or the dimension of the Word2Vec vectorization."
   ]
  },
  {
   "cell_type": "markdown",
   "metadata": {},
   "source": [
    "*Copyright &copy; 2016 The Data Incubator.  All rights reserved.*"
   ]
  }
 ],
 "metadata": {
  "kernelspec": {
   "display_name": "Python 2",
   "language": "python",
   "name": "python2"
  },
  "language_info": {
   "codemirror_mode": {
    "name": "ipython",
    "version": 2
   },
   "file_extension": ".py",
   "mimetype": "text/x-python",
   "name": "python",
   "nbconvert_exporter": "python",
   "pygments_lexer": "ipython2",
   "version": "2.7.13"
  },
  "nbclean": true
 },
 "nbformat": 4,
 "nbformat_minor": 1
}
