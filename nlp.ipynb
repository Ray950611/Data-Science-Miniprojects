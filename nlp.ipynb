{
 "cells": [
  {
   "cell_type": "code",
   "execution_count": 1,
   "metadata": {
    "collapsed": true
   },
   "outputs": [],
   "source": [
    "%matplotlib inline\n",
    "import matplotlib\n",
    "import seaborn as sns\n",
    "matplotlib.rcParams['savefig.dpi'] = 144"
   ]
  },
  {
   "cell_type": "code",
   "execution_count": 2,
   "metadata": {
    "collapsed": true
   },
   "outputs": [],
   "source": [
    "from grader import score"
   ]
  },
  {
   "cell_type": "markdown",
   "metadata": {},
   "source": [
    "# NLP: Analyzing Review Text\n",
    "\n",
    "Unstructured data makes up the vast majority of data.  This is a basic intro to handling unstructured data.  Our objective is to be able to extract the sentiment (positive or negative) from review text.  We will do this from Yelp review data.\n",
    "\n",
    "The first three questions task you to build models, of increasing complexity, to predict the rating of a review from its text.  These models will be assessed based on the root mean squared error of the number of stars predicted.  There is a reference solution (which should not be too hard to beat) that defines the score of 1.\n",
    "\n",
    "The final question asks only for the result of a calculation, and your results will be compared directly to those of a reference solution.\n",
    "\n",
    "## A note on scoring\n",
    "It **is** possible to score >1 on these questions. This indicates that you've beaten our reference model - we compare our model's score on a test set to your score on a test set. See how high you can go!\n",
    "\n",
    "## Download and parse the data\n",
    "\n",
    "To start, let's download the dataset from Amazon S3:"
   ]
  },
  {
   "cell_type": "code",
   "execution_count": 3,
   "metadata": {},
   "outputs": [
    {
     "name": "stdout",
     "output_type": "stream",
     "text": [
      "download: s3://dataincubator-course/mldata/yelp_train_academic_dataset_review.json.gz to ./yelp_train_academic_dataset_review.json.gz\n"
     ]
    }
   ],
   "source": [
    "!aws s3 sync s3://dataincubator-course/mldata/ . --exclude '*' --include 'yelp_train_academic_dataset_review.json.gz'"
   ]
  },
  {
   "cell_type": "markdown",
   "metadata": {},
   "source": [
    "The training data are a series of JSON objects, in a gzipped file. Python supports gzipped files natively: [gzip.open](https://docs.python.org/2/library/gzip.html) has the same interface as `open`, but handles `.gz` files automatically.\n",
    "\n",
    "The built-in json package has a `loads()` function that converts a JSON string into a Python dictionary.  We could call that once for each row of the file. [ujson](http://docs.micropython.org/en/latest/library/ujson.html) has the same interface as the built-in `json` library, but is *substantially* faster (at the cost of non-robust handling of malformed json).  We will use that inside a list comprehension to get a list of dictionaries:"
   ]
  },
  {
   "cell_type": "code",
   "execution_count": 320,
   "metadata": {
    "collapsed": true
   },
   "outputs": [],
   "source": [
    "import gzip\n",
    "import ujson as json\n",
    "\n",
    "with gzip.open('yelp_train_academic_dataset_review.json.gz') as f:\n",
    "    data_full = [json.loads(line) for line in f]"
   ]
  },
  {
   "cell_type": "markdown",
   "metadata": {},
   "source": [
    "If you're having trouble with running out of memory, you can do quite well with a 5% or 10% subsample of the data.  A quick way to take a random subsample is to run the following load instead:"
   ]
  },
  {
   "cell_type": "code",
   "execution_count": 32,
   "metadata": {
    "collapsed": true
   },
   "outputs": [],
   "source": [
    "import gzip\n",
    "import ujson as json\n",
    "import random\n",
    "\n",
    "#Fraction to subsample, needs to be between 0 and 1\n",
    "subsample = 0.2\n",
    "\n",
    "with gzip.open('yelp_train_academic_dataset_review.json.gz') as f:\n",
    "    data_part = [json.loads(line) for line in f if random.random() < subsample]"
   ]
  },
  {
   "cell_type": "markdown",
   "metadata": {},
   "source": [
    "Scikit Learn will want the labels in a separate data structure, so let's pull those out now."
   ]
  },
  {
   "cell_type": "code",
   "execution_count": 6,
   "metadata": {
    "collapsed": true
   },
   "outputs": [],
   "source": [
    "stars = [row['stars'] for row in data]"
   ]
  },
  {
   "cell_type": "code",
   "execution_count": 7,
   "metadata": {},
   "outputs": [
    {
     "data": {
      "text/plain": [
       "50803"
      ]
     },
     "execution_count": 7,
     "metadata": {},
     "output_type": "execute_result"
    }
   ],
   "source": [
    "len(stars)"
   ]
  },
  {
   "cell_type": "markdown",
   "metadata": {},
   "source": [
    "### Notes:\n",
    "1. [Pandas](http://pandas.pydata.org/) is able to read JSON text directly.  Use the `read_json()` function with the `lines=True` keyword argument.  While the rest of this notebook will assume you are using a list of dictionaries, you can complete it with dataframes, if you so desire. Some of the example code will need to be modified in this case.\n",
    "\n",
    "2. There are obvious miscodings in the data.  There is no need to try to correct them.\n",
    "\n",
    "## Building models\n",
    "\n",
    "For the first three questions, you will need to build and train an estimator to predict the star rating from the text of a review.  We recommend building a pipeline out of transformers and estimators provided by Scikit Learn.  You can decide whether these pipelines should take full review objects or just their text as input to the `fit()` and `predict()` methods, but it does pay to be consistent.\n",
    "\n",
    "You may find it useful to serialize the trained models to disk.  This will allow you to reload the models after restarting the notebook, without needing to retrain them.  We recommend using the [`dill` library](https://pypi.python.org/pypi/dill) for this (although the [`joblib` library](http://scikit-learn.org/stable/modules/model_persistence.html) also works).  Use\n",
    "```python\n",
    "dill.dump(estimator, open('estimator.dill', 'w'))\n",
    "```\n",
    "to serialize the object `estimator` to the file `estimator.dill`.  If you have trouble with this, try setting the `recurse=True` keyword args in the call of `dill.dump()`.  The estimator can be deserialized with\n",
    "```python\n",
    "estimator = dill.load(open('estimator.dill', 'r'))\n",
    "```\n",
    "\n",
    "You may run into trouble with the size of your models and Digital Ocean's memory limit. This is a major concern in real-world applications. Your production environment will likely not be that different from Digital Ocean and being able to deploy there is important. Think about what information the different stages of\n",
    "your pipeline need and how you can reduce the memory footprint.\n",
    "\n",
    "Additionally, you may notice that your serialized models are very large and take a long time to load.  Some hints to reduce their size:\n",
    "\n",
    "- If you are using `GridSearchCV` to find the optimal values of hyperparameters (and you should be), the resultant object will contain many copies of the estimator that aren't needed any more.  Instead of serializing the whole `GridSearchCV`, serialize just the estimator with the correct hyperparameters.  This can be accessed through the `.best_estimator_` attribute of the `GridSearchCV` object.  Alternatively, the `.best_params_` attribute gives the best values of the hyperparameters.\n",
    "\n",
    "- The `CountVectorizer` keeps track of all words that were excluded from vectorization in its `.stop_words_` attribute.  This can be interesting to examine, but isn't needed for predictions.  Set this attribute to the empty list before serializing it to save disk space."
   ]
  },
  {
   "cell_type": "markdown",
   "metadata": {},
   "source": [
    "# Questions\n",
    "\n",
    "Each of the \"model\" questions asks you to create a function that models the number of stars given in a review from the review text.  It will be passed a list of dictionaries.  Each of these will have the same format as the JSON objects you've just read in.  This function should return a list of numbers of the same length, giving the predicted star ratings.\n",
    "\n",
    "This function is passed to the `score()` function, which will receive input from the grader, run your function with that input, report the results back to the grader, and print out the score the grader returned.  Depending on how you constructed your estimator, you may be able to pass the predict method directly to the `score()` function.  If not, you will need to write a small wrapper function to mediate the data types.\n",
    "\n",
    "## bag_of_words_model\n",
    "Build a linear model predicting the star rating based on the count of the words in each document (bag-of-words model).  Use a [CountVectorizer](http://scikit-learn.org/stable/modules/generated/sklearn.feature_extraction.text.CountVectorizer.html#sklearn.feature_extraction.text.CountVectorizer) or [HashingVectorizer](http://scikit-learn.org/stable/modules/generated/sklearn.feature_extraction.text.HashingVectorizer.html#sklearn.feature_extraction.text.HashingVectorizer) to produce a feature matrix giving the counts of each word in each review.  Feed this in to linear model, such as `Ridge` or `SGDRegressor`, to predict the number of stars from each review.\n",
    "\n",
    "**Hints**:\n",
    "1. Don't forget to use tokenization!  This is important for good performance but it is also the most expensive step.  Try vectorizing as a first initial step and then running grid-serach and cross-validation only on of this pre-processed data.  `CountVectorizer` has to memorize the mapping between words and the index to which it is assigned.  This is linear in the size of the vocabulary.  The `HashingVectorizer` does not have to remember this mapping and will lead to much smaller models.\n",
    "\n",
    " ```python\n",
    " from sklearn.feature_extraction.text import CountVectorizer\n",
    "\n",
    " text = [row['text'] for row in data]\n",
    " X = CountVectorizer().fit_transform(text)\n",
    "\n",
    " # Now, this can be run with many different parameters\n",
    " # without needing to retrain the vectorizer:\n",
    " model.fit(X, stars, hyperparameter=something)\n",
    " ```\n",
    "\n",
    "2. Try choosing different values for `min_df` (minimum document frequency cutoff) and `max_df` in `CountVectorizer`.  Setting `min_df` to zero admits rare words which might only appear once in the entire corpus.  This is both prone to overfitting and makes your data unmanageably large.  Don't forget to use cross-validation or to select the right value.  Notice that `HashingVectorizer` doesn't support `min_df`  and `max_df`.  However, it's not hard to roll your own transformer that solves for these.\n",
    "\n",
    "3. Try using [LinearRegression](http://scikit-learn.org/stable/modules/generated/sklearn.linear_model.LinearRegression.html#sklearn.linear_model.LinearRegression) or [RidgeCV](http://scikit-learn.org/stable/modules/generated/sklearn.linear_model.RidgeCV.html#sklearn.linear_model.RidgeCV).  If the memory footprint is too big, try switching to [Stochastic Gradient Descent](http://scikit-learn.org/stable/modules/generated/sklearn.linear_model.SGDRegressor.html#sklearn.linear_model.SGDRegressor) You might find that even ordinary linear regression fails due to the data size.  Don't forget to use [GridSearchCV](http://scikit-learn.org/stable/modules/generated/sklearn.model_selection.GridSearchCV.html#sklearn.model_selection.GridSearchCV) to determine the regularization parameter!  How do the regularization parameter `alpha` and the values of `min_df` and `max_df` from `CountVectorizer` change the answer?\n",
    "\n",
    "4. You will likely pick up several hyperparameters between the tokenization step and the regularization of the estimator.  While is is more strictly correct to do a grid search over all of them at once, this can take a long time. Quite often, doing a grid search over a single hyperparameter at a time can produce similar results.  Alternatively, the grid search may be done over a smaller subset of the data, as long as it is representative of the whole.\n",
    "\n",
    "5. Finally, assemble a pipeline that will transform the data from records all the way to predictions.  This will allow you to submit its predict method to the grader for scoring."
   ]
  },
  {
   "cell_type": "code",
   "execution_count": 8,
   "metadata": {
    "collapsed": true
   },
   "outputs": [],
   "source": [
    "import numpy as np"
   ]
  },
  {
   "cell_type": "code",
   "execution_count": 4,
   "metadata": {},
   "outputs": [
    {
     "ename": "NameError",
     "evalue": "name 'data_part' is not defined",
     "output_type": "error",
     "traceback": [
      "\u001b[0;31m---------------------------------------------------------------------------\u001b[0m",
      "\u001b[0;31mNameError\u001b[0m                                 Traceback (most recent call last)",
      "\u001b[0;32m<ipython-input-4-f1e1bf31b127>\u001b[0m in \u001b[0;36m<module>\u001b[0;34m()\u001b[0m\n\u001b[1;32m     17\u001b[0m         \u001b[0;32mreturn\u001b[0m \u001b[0moutput\u001b[0m\u001b[0;34m\u001b[0m\u001b[0m\n\u001b[1;32m     18\u001b[0m \u001b[0mcst\u001b[0m \u001b[0;34m=\u001b[0m \u001b[0mColumnSelectTransformer\u001b[0m\u001b[0;34m(\u001b[0m\u001b[0;34m'text'\u001b[0m\u001b[0;34m)\u001b[0m\u001b[0;34m\u001b[0m\u001b[0m\n\u001b[0;32m---> 19\u001b[0;31m \u001b[0mtext\u001b[0m \u001b[0;34m=\u001b[0m \u001b[0mcst\u001b[0m\u001b[0;34m.\u001b[0m\u001b[0mfit_transform\u001b[0m\u001b[0;34m(\u001b[0m\u001b[0mdata_part\u001b[0m\u001b[0;34m)\u001b[0m\u001b[0;34m\u001b[0m\u001b[0m\n\u001b[0m\u001b[1;32m     20\u001b[0m \u001b[0;32mprint\u001b[0m \u001b[0mlen\u001b[0m\u001b[0;34m(\u001b[0m\u001b[0mtext\u001b[0m\u001b[0;34m)\u001b[0m\u001b[0;34m\u001b[0m\u001b[0m\n",
      "\u001b[0;31mNameError\u001b[0m: name 'data_part' is not defined"
     ]
    }
   ],
   "source": [
    "from sklearn import base\n",
    "class ColumnSelectTransformer(base.BaseEstimator, base.TransformerMixin):\n",
    "    \n",
    "    def __init__(self, col_names):\n",
    "        self.col_names = col_names  # We will need these in transform()\n",
    "    \n",
    "    def fit(self, X, y=None):\n",
    "        # This transformer doesn't need to learn anything about the data,\n",
    "        # so it can just return self without any further processing\n",
    "        return self\n",
    "    \n",
    "    def transform(self, X):\n",
    "        output = []\n",
    "        for row in X:\n",
    "            \n",
    "            output.append(row[self.col_names])\n",
    "        return output\n",
    "cst = ColumnSelectTransformer('text')\n",
    "text = cst.fit_transform(data_part)\n",
    "print len(text)"
   ]
  },
  {
   "cell_type": "code",
   "execution_count": 10,
   "metadata": {
    "collapsed": true
   },
   "outputs": [],
   "source": [
    "from sklearn import preprocessing\n",
    "class Preprocessor(base.BaseEstimator, base.TransformerMixin):\n",
    "\n",
    "    def fit(self, X, y=None):\n",
    "   \n",
    "        return self\n",
    "    \n",
    "    def transform(self, X):\n",
    "        output = preprocessing.normalize(X,norm='l1')\n",
    "        return output"
   ]
  },
  {
   "cell_type": "code",
   "execution_count": 53,
   "metadata": {
    "collapsed": true
   },
   "outputs": [],
   "source": [
    "from sklearn.model_selection import GridSearchCV\n",
    "from sklearn.feature_extraction.text import CountVectorizer\n",
    "from sklearn.pipeline import Pipeline\n",
    "from sklearn.linear_model import LinearRegression, Ridge\n",
    "#Alpha =[150,180,200,220,250]\n",
    "N= [5,6,7,8,9,10]\n",
    "#C = [0.1,0.2,0.3]\n",
    "pipe = Pipeline(steps=[\n",
    "   # ('CST', ColumnSelectTransformer('text')),\n",
    "    ('CV', CountVectorizer(max_df=0.3)),\n",
    "    ('preprocess',Preprocessor()),\n",
    "    ('Regress',Ridge(alpha=0.1))\n",
    "])\n",
    "param_grid = {\n",
    "        #'CV__max_df':C,\n",
    "        'CV__min_df':N\n",
    "        #'Regress__alpha':Alpha\n",
    "        \n",
    "    }\n",
    "\n",
    "grid = GridSearchCV(pipe, param_grid=param_grid)"
   ]
  },
  {
   "cell_type": "code",
   "execution_count": 404,
   "metadata": {},
   "outputs": [
    {
     "data": {
      "text/plain": [
       "GridSearchCV(cv=None, error_score='raise',\n",
       "       estimator=Pipeline(steps=[('CV', CountVectorizer(analyzer=u'word', binary=False, decode_error=u'strict',\n",
       "        dtype=<type 'numpy.int64'>, encoding=u'utf-8', input=u'content',\n",
       "        lowercase=True, max_df=0.3, max_features=None, min_df=1,\n",
       "        ngram_range=(1, 1), preprocessor=None, stop_words=None,\n",
       "        stri...it_intercept=True, max_iter=None,\n",
       "   normalize=False, random_state=None, solver='auto', tol=0.001))]),\n",
       "       fit_params={}, iid=True, n_jobs=1,\n",
       "       param_grid={'CV__min_df': [5, 6, 7, 8, 9, 10]},\n",
       "       pre_dispatch='2*n_jobs', refit=True, return_train_score=True,\n",
       "       scoring=None, verbose=0)"
      ]
     },
     "execution_count": 404,
     "metadata": {},
     "output_type": "execute_result"
    }
   ],
   "source": [
    "grid.fit(text,stars)"
   ]
  },
  {
   "cell_type": "code",
   "execution_count": 405,
   "metadata": {},
   "outputs": [
    {
     "data": {
      "text/plain": [
       "({'CV__min_df': 5}, 0.45800636422805174)"
      ]
     },
     "execution_count": 405,
     "metadata": {},
     "output_type": "execute_result"
    }
   ],
   "source": [
    "grid.best_params_,grid.best_score_"
   ]
  },
  {
   "cell_type": "code",
   "execution_count": 54,
   "metadata": {},
   "outputs": [
    {
     "name": "stderr",
     "output_type": "stream",
     "text": [
      "/opt/conda/lib/python2.7/site-packages/sklearn/utils/validation.py:429: DataConversionWarning: Data with input dtype int64 was converted to float64 by the normalize function.\n",
      "  warnings.warn(msg, _DataConversionWarning)\n"
     ]
    },
    {
     "data": {
      "text/plain": [
       "Pipeline(steps=[('CST', ColumnSelectTransformer(col_names='text')), ('CV', CountVectorizer(analyzer=u'word', binary=False, decode_error=u'strict',\n",
       "        dtype=<type 'numpy.int64'>, encoding=u'utf-8', input=u'content',\n",
       "        lowercase=True, max_df=0.3, max_features=None, min_df=5,\n",
       "        ngram_range=(1, ...it_intercept=True, max_iter=None,\n",
       "   normalize=False, random_state=None, solver='auto', tol=0.001))])"
      ]
     },
     "execution_count": 54,
     "metadata": {},
     "output_type": "execute_result"
    }
   ],
   "source": [
    "from sklearn.pipeline import Pipeline\n",
    "\n",
    "bag_of_words_est = Pipeline(steps=[\n",
    "    ('CST', ColumnSelectTransformer('text')),\n",
    "    ('CV', CountVectorizer(min_df=5,max_df=0.3)),\n",
    "    ('preprocess',Preprocessor()),\n",
    "    ('Regress',Ridge(alpha=0.1))\n",
    "    # Regressor\n",
    "])\n",
    "bag_of_words_est.fit(data, stars)"
   ]
  },
  {
   "cell_type": "code",
   "execution_count": 431,
   "metadata": {},
   "outputs": [
    {
     "name": "stdout",
     "output_type": "stream",
     "text": [
      "==================\n",
      "Your score:  0.903911764423\n",
      "==================\n"
     ]
    }
   ],
   "source": [
    "score('nlp__bag_of_words_model', bag_of_words_est.predict)"
   ]
  },
  {
   "cell_type": "markdown",
   "metadata": {},
   "source": [
    "## normalized_model\n",
    "Normalization is key for good linear regression. Previously, we used the count as the normalization scheme.  Add in a normalization transformer to your pipeline to improve the score.  Try some of these:\n",
    "\n",
    "1. You can use the \"does this word present in this document\" as a normalization scheme, which means the values are always 1 or 0.  So we give no additional weight to the presence of the word multiple times.\n",
    "\n",
    "2. Try using the log of the number of counts (or more precisely, $log(x+1)$). This is often used because we want the repeated presence of a word to count for more but not have that effect tapper off.\n",
    "\n",
    "3. [TF-IDF](https://en.wikipedia.org/wiki/Tf%E2%80%93idf) is a common normalization scheme used in text processing.  Use the [TFIDFTransformer](http://scikit-learn.org/stable/modules/generated/sklearn.feature_extraction.text.TfidfTransformer.html#sklearn.feature_extraction.text.TfidfTransformer). There are options for using `idf` and taking the logarithm of `tf`.  Do these significantly affect the result?\n",
    "\n",
    "Finally, if you can't decide which one is better, don't forget that you can combine models with a linear regression."
   ]
  },
  {
   "cell_type": "code",
   "execution_count": 12,
   "metadata": {
    "collapsed": true
   },
   "outputs": [],
   "source": [
    "c = CountVectorizer(min_df=5,max_df=0.3)\n",
    "X = c.fit_transform(text)"
   ]
  },
  {
   "cell_type": "code",
   "execution_count": 17,
   "metadata": {
    "collapsed": true
   },
   "outputs": [],
   "source": [
    "from sklearn import preprocessing\n",
    "from scipy.sparse import csr_matrix\n",
    "class Preprocessor_log(base.BaseEstimator, base.TransformerMixin):\n",
    "    def fit(self, X, y=None):\n",
    "       \n",
    "        return self\n",
    "    \n",
    "    def transform(self, X):\n",
    "        output = np.log1p(X)\n",
    "        return output"
   ]
  },
  {
   "cell_type": "code",
   "execution_count": 47,
   "metadata": {
    "collapsed": true
   },
   "outputs": [],
   "source": [
    "from scipy.sparse import csr_matrix\n",
    "X_new = np.log1p(X)"
   ]
  },
  {
   "cell_type": "code",
   "execution_count": 65,
   "metadata": {},
   "outputs": [
    {
     "data": {
      "text/plain": [
       "0.50325181688586351"
      ]
     },
     "execution_count": 65,
     "metadata": {},
     "output_type": "execute_result"
    }
   ],
   "source": [
    "normalized_est = Ridge(alpha=150)\n",
    "normalized_est.fit(X_new[:40000,:],stars[:40000])\n",
    "normalized_est.score(X_new[40000:,:],stars[40000:])"
   ]
  },
  {
   "cell_type": "code",
   "execution_count": 13,
   "metadata": {
    "collapsed": true
   },
   "outputs": [],
   "source": [
    "from sklearn.model_selection import GridSearchCV\n",
    "from sklearn.feature_extraction.text import CountVectorizer\n",
    "from sklearn.pipeline import Pipeline\n",
    "from sklearn.linear_model import LinearRegression, Ridge\n",
    "Alpha =[10,100,120,130,150,170,180,200]\n",
    "pipe = Pipeline(steps=[\n",
    "   # ('CST', ColumnSelectTransformer('text')),\n",
    "    ('CV', CountVectorizer(min_df=5,max_df=0.3)),\n",
    "    ('preprocess',Preprocessor_log()),\n",
    "    ('Regress',Ridge())\n",
    "])\n",
    "param_grid = {\n",
    "        #'CV__max_df':C,\n",
    "        #'CV__min_df':N\n",
    "        'Regress__alpha':Alpha\n",
    "        \n",
    "    }\n",
    "\n",
    "grid = GridSearchCV(pipe, param_grid=param_grid)"
   ]
  },
  {
   "cell_type": "code",
   "execution_count": 70,
   "metadata": {},
   "outputs": [
    {
     "data": {
      "text/plain": [
       "GridSearchCV(cv=None, error_score='raise',\n",
       "       estimator=Pipeline(steps=[('CV', CountVectorizer(analyzer=u'word', binary=False, decode_error=u'strict',\n",
       "        dtype=<type 'numpy.int64'>, encoding=u'utf-8', input=u'content',\n",
       "        lowercase=True, max_df=0.3, max_features=None, min_df=5,\n",
       "        ngram_range=(1, 1), preprocessor=None, stop_words=None,\n",
       "        stri...it_intercept=True, max_iter=None,\n",
       "   normalize=False, random_state=None, solver='auto', tol=0.001))]),\n",
       "       fit_params={}, iid=True, n_jobs=1,\n",
       "       param_grid={'Regress__alpha': [10, 100, 120, 130, 150, 170, 180, 200]},\n",
       "       pre_dispatch='2*n_jobs', refit=True, return_train_score=True,\n",
       "       scoring=None, verbose=0)"
      ]
     },
     "execution_count": 70,
     "metadata": {},
     "output_type": "execute_result"
    }
   ],
   "source": [
    "grid.fit(text,stars)"
   ]
  },
  {
   "cell_type": "code",
   "execution_count": 71,
   "metadata": {},
   "outputs": [
    {
     "data": {
      "text/plain": [
       "({'Regress__alpha': 100}, 0.47522517650301216)"
      ]
     },
     "execution_count": 71,
     "metadata": {},
     "output_type": "execute_result"
    }
   ],
   "source": [
    "grid.best_params_,grid.best_score_"
   ]
  },
  {
   "cell_type": "code",
   "execution_count": 72,
   "metadata": {},
   "outputs": [
    {
     "data": {
      "text/plain": [
       "Pipeline(steps=[('CST', ColumnSelectTransformer(col_names='text')), ('CV', CountVectorizer(analyzer=u'word', binary=False, decode_error=u'strict',\n",
       "        dtype=<type 'numpy.int64'>, encoding=u'utf-8', input=u'content',\n",
       "        lowercase=True, max_df=0.3, max_features=None, min_df=5,\n",
       "        ngram_range=(1, ...it_intercept=True, max_iter=None,\n",
       "   normalize=False, random_state=None, solver='auto', tol=0.001))])"
      ]
     },
     "execution_count": 72,
     "metadata": {},
     "output_type": "execute_result"
    }
   ],
   "source": [
    "from sklearn.pipeline import Pipeline\n",
    "from sklearn import preprocessing\n",
    "from scipy.sparse import csr_matrix\n",
    "normalized_est = Pipeline(steps=[\n",
    "    ('CST', ColumnSelectTransformer('text')),\n",
    "    ('CV', CountVectorizer(min_df=5,max_df=0.3)),\n",
    "    ('preprocess',Preprocessor_log()),\n",
    "    ('Regress',Ridge(alpha=150))\n",
    "    # Regressor\n",
    "])\n",
    "normalized_est.fit(data, stars)"
   ]
  },
  {
   "cell_type": "code",
   "execution_count": 73,
   "metadata": {},
   "outputs": [
    {
     "name": "stdout",
     "output_type": "stream",
     "text": [
      "==================\n",
      "Your score:  0.98724382224\n",
      "==================\n"
     ]
    }
   ],
   "source": [
    "score('nlp__normalized_model', normalized_est.predict)"
   ]
  },
  {
   "cell_type": "markdown",
   "metadata": {},
   "source": [
    "## bigram_model\n",
    "In a bigram model, we'll consider both single words and pairs of consecutive words that appear.  This is going to be a much higher dimensional problem (large $p$) so you should be careful about overfitting.\n",
    "\n",
    "Sometimes, reducing the dimension can be useful.  Because we are dealing with a sparse matrix, we have to use [TruncatedSVD](http://scikit-learn.org/stable/modules/generated/sklearn.decomposition.TruncatedSVD.html#sklearn.decomposition.TruncatedSVD).  If we reduce the dimensions, we can use a more sophisticated models than linear ones.\n",
    "\n",
    "As before, memory problems can crop up due to the engineering constraints. Playing with the number of features, using the `HashingVectorizer`, incorporating `min_df` and `max_df` limits, and handling stop-words in some way are all methods of addressing this issue. If you are using `CountVectorizer`, it is possible to run it with a fixed vocabulary (based on a training run, for instance). Check the documentation.\n",
    "\n",
    "**A side note on multi-stage model evaluation:** When your model consists of a pipeline with several stages, it can be worthwhile to evaluate which parts of the pipeline have the greatest impact on the overall accuracy (or other metric) of the model. This allows you to focus your efforts on improving the important algorithms, and leaving the rest \"good enough\".\n",
    "\n",
    "One way to accomplish this is through ceiling analysis, which can be useful when you have a training set with ground truth values at each stage. Let's say you're training a model to extract image captions from websites and return a list of names that were in the caption. Your overall accuracy at some point reaches 70%. You can try manually giving the model what you know are the correct image captions from the training set, and see how the accuracy improves (maybe up to 75%). Alternatively, giving the model the perfect name parsing for each caption increases accuracy to 90%. This indicates that the name parsing is a much more promising target for further work, and the caption extraction is a relatively smaller factor in the overall performance.\n",
    "\n",
    "If you don't know the right answers at different stages of the pipeline, you can still evaluate how important different parts of the model are to its performance by changing or removing certain steps while keeping everything else constant. You might try this kind of analysis to determine how important adding stopwords and stemming to your NLP model actually is, and how that importance changes with parameters like the number of features."
   ]
  },
  {
   "cell_type": "code",
   "execution_count": 28,
   "metadata": {
    "collapsed": true
   },
   "outputs": [],
   "source": [
    "c = CountVectorizer(ngram_range = (1,2),min_df=0.01,max_df=0.3)\n",
    "X = c.fit_transform(text)"
   ]
  },
  {
   "cell_type": "code",
   "execution_count": 29,
   "metadata": {},
   "outputs": [
    {
     "name": "stdout",
     "output_type": "stream",
     "text": [
      "(50803, 2044)\n"
     ]
    },
    {
     "data": {
      "text/plain": [
       "{u'fix': 561,\n",
       " u'customer service': 399,\n",
       " u'and we': 117,\n",
       " u'were very': 1935,\n",
       " u've ever': 1819,\n",
       " u'not have': 1088,\n",
       " u'considering': 368,\n",
       " u'hour': 764,\n",
       " u'entrees': 499,\n",
       " u'today': 1749,\n",
       " u'so it': 1433,\n",
       " u'was the': 1886,\n",
       " u'attention': 173,\n",
       " u'plenty of': 1246,\n",
       " u'menu': 1005,\n",
       " u'loved the': 969,\n",
       " u'tasted': 1515,\n",
       " u'tastes': 1517,\n",
       " u'due to': 469,\n",
       " u'onion': 1146,\n",
       " u'went in': 1925,\n",
       " u'window': 1970,\n",
       " u'rolls': 1322,\n",
       " u'would be': 2003,\n",
       " u'mushrooms': 1042,\n",
       " u'forward': 600,\n",
       " u'the casino': 1557,\n",
       " u'center': 310,\n",
       " u'not as': 1084,\n",
       " u'usual': 1811,\n",
       " u'rather': 1281,\n",
       " u'not be': 1086,\n",
       " u'need to': 1059,\n",
       " u'should': 1401,\n",
       " u'veggies': 1825,\n",
       " u'after': 29,\n",
       " u'it so': 859,\n",
       " u'card': 303,\n",
       " u'care': 304,\n",
       " u'along': 44,\n",
       " u'based': 196,\n",
       " u'the drinks': 1563,\n",
       " u'bucks': 253,\n",
       " u'reviews': 1312,\n",
       " u'loved it': 968,\n",
       " u'thing': 1669,\n",
       " u'think': 1671,\n",
       " u'potatoes': 1256,\n",
       " u'crust': 395,\n",
       " u'style': 1489,\n",
       " u'the wait': 1633,\n",
       " u'nights': 1076,\n",
       " u'busy': 262,\n",
       " u'any': 125,\n",
       " u'smell': 1429,\n",
       " u'note': 1097,\n",
       " u'ago': 33,\n",
       " u'literally': 932,\n",
       " u'by far': 282,\n",
       " u'here is': 745,\n",
       " u'here in': 744,\n",
       " u'tried': 1767,\n",
       " u'are great': 137,\n",
       " u'when we': 1949,\n",
       " u'finally': 552,\n",
       " u'girl': 643,\n",
       " u'living': 937,\n",
       " u'different': 432,\n",
       " u'was my': 1871,\n",
       " u'phone': 1219,\n",
       " u'he said': 729,\n",
       " u'at least': 167,\n",
       " u'working': 1995,\n",
       " u'in your': 804,\n",
       " u'full': 625,\n",
       " u'also': 47,\n",
       " u'is good': 822,\n",
       " u'chips and': 334,\n",
       " u'll be': 939,\n",
       " u'friendly': 612,\n",
       " u'in all': 785,\n",
       " u'don get': 450,\n",
       " u'the whole': 1638,\n",
       " u'me to': 995,\n",
       " u'fairly': 533,\n",
       " u'always': 52,\n",
       " u'we also': 1897,\n",
       " u'so that': 1436,\n",
       " u'during': 470,\n",
       " u'is also': 816,\n",
       " u'are all': 135,\n",
       " u'inside the': 810,\n",
       " u'corn': 373,\n",
       " u'to the': 1737,\n",
       " u'on yelp': 1140,\n",
       " u'few': 548,\n",
       " u'other': 1167,\n",
       " u'cook': 370,\n",
       " u'my friends': 1049,\n",
       " u'and so': 104,\n",
       " u'city': 341,\n",
       " u'came here': 290,\n",
       " u'tacos': 1507,\n",
       " u'the one': 1592,\n",
       " u'the experience': 1566,\n",
       " u'were not': 1931,\n",
       " u'them to': 1643,\n",
       " u'couple of': 383,\n",
       " u'prepared': 1258,\n",
       " u'food the': 570,\n",
       " u'outside': 1185,\n",
       " u'wouldn': 2008,\n",
       " u'my boyfriend': 1045,\n",
       " u'tables': 1505,\n",
       " u'have an': 716,\n",
       " u'parking': 1198,\n",
       " u'knew': 889,\n",
       " u'is always': 817,\n",
       " u'lovely': 970,\n",
       " u'in there': 799,\n",
       " u'you get': 2023,\n",
       " u'you ve': 2033,\n",
       " u'running': 1328,\n",
       " u'disappointed': 436,\n",
       " u'neighborhood': 1062,\n",
       " u'with their': 1984,\n",
       " u'am not': 54,\n",
       " u'rib': 1313,\n",
       " u'it took': 862,\n",
       " u'feeling': 545,\n",
       " u'nicely': 1073,\n",
       " u'lots': 959,\n",
       " u'yeah': 2012,\n",
       " u'year': 2013,\n",
       " u'some of': 1444,\n",
       " u'you can': 2020,\n",
       " u'every time': 511,\n",
       " u'lunch': 973,\n",
       " u'excellent': 517,\n",
       " u'wait for': 1838,\n",
       " u'over the': 1188,\n",
       " u'worth it': 2000,\n",
       " u'date': 406,\n",
       " u'the show': 1620,\n",
       " u'take': 1508,\n",
       " u'food and': 567,\n",
       " u'look at': 951,\n",
       " u'for an': 574,\n",
       " u'space': 1455,\n",
       " u'put': 1272,\n",
       " u'to order': 1725,\n",
       " u'brunch': 252,\n",
       " u'give': 645,\n",
       " u'was an': 1859,\n",
       " u'tender': 1524,\n",
       " u'to bring': 1703,\n",
       " u'ok': 1128,\n",
       " u'oh': 1125,\n",
       " u'or': 1157,\n",
       " u'sign': 1411,\n",
       " u'that he': 1536,\n",
       " u'did not': 428,\n",
       " u'if we': 781,\n",
       " u'nice to': 1072,\n",
       " u'just to': 880,\n",
       " u'started': 1472,\n",
       " u'course': 384,\n",
       " u'the second': 1617,\n",
       " u'shop': 1396,\n",
       " u'shot': 1400,\n",
       " u'show': 1404,\n",
       " u'two': 1785,\n",
       " u'fabulous': 528,\n",
       " u'that was': 1544,\n",
       " u'not even': 1087,\n",
       " u'up on': 1799,\n",
       " u'lots of': 960,\n",
       " u'for those': 591,\n",
       " u'come to': 356,\n",
       " u'the time': 1629,\n",
       " u'bacon': 189,\n",
       " u'such': 1490,\n",
       " u'have ever': 718,\n",
       " u'opinion': 1154,\n",
       " u'haven': 726,\n",
       " u'etc': 502,\n",
       " u'does': 443,\n",
       " u'told': 1751,\n",
       " u'word': 1992,\n",
       " u'work': 1993,\n",
       " u'happy hour': 709,\n",
       " u'roasted': 1319,\n",
       " u'burger': 258,\n",
       " u'fine': 554,\n",
       " u'find': 553,\n",
       " u'lines': 930,\n",
       " u'far': 539,\n",
       " u'fan': 535,\n",
       " u'will': 1965,\n",
       " u'book': 239,\n",
       " u'first time': 558,\n",
       " u'sauce and': 1346,\n",
       " u'that are': 1533,\n",
       " u'because they': 210,\n",
       " u'home': 754,\n",
       " u'and are': 67,\n",
       " u'making': 983,\n",
       " u'would': 2002,\n",
       " u'that there': 1541,\n",
       " u'service and': 1386,\n",
       " u'perhaps': 1215,\n",
       " u'unique': 1792,\n",
       " u'comes': 357,\n",
       " u'fruit': 624,\n",
       " u'moved': 1038,\n",
       " u'our waitress': 1176,\n",
       " u'you re': 2030,\n",
       " u'recommend': 1296,\n",
       " u'black': 236,\n",
       " u'in my': 794,\n",
       " u'up with': 1802,\n",
       " u'fries': 616,\n",
       " u'fried': 609,\n",
       " u'not sure': 1091,\n",
       " u'could have': 378,\n",
       " u'to have': 1715,\n",
       " u'ambiance': 56,\n",
       " u'highly': 749,\n",
       " u'total': 1761,\n",
       " u'certainly': 311,\n",
       " u'simple': 1413,\n",
       " u'simply': 1414,\n",
       " u'taking': 1511,\n",
       " u'knows': 895,\n",
       " u'quite': 1279,\n",
       " u'quality of': 1274,\n",
       " u'was still': 1883,\n",
       " u'piece': 1224,\n",
       " u'thank you': 1531,\n",
       " u'but there': 272,\n",
       " u'creamy': 390,\n",
       " u'mom': 1025,\n",
       " u'type of': 1787,\n",
       " u'and was': 116,\n",
       " u'other than': 1168,\n",
       " u'slice': 1423,\n",
       " u'called': 287,\n",
       " u'to find': 1711,\n",
       " u'crowd': 393,\n",
       " u'turned': 1782,\n",
       " u'lived': 936,\n",
       " u'have had': 720,\n",
       " u'on their': 1137,\n",
       " u'the street': 1625,\n",
       " u'so they': 1438,\n",
       " u'another': 124,\n",
       " u'strong': 1486,\n",
       " u'still': 1479,\n",
       " u'including': 806,\n",
       " u'special': 1456,\n",
       " u'but we': 276,\n",
       " u'seriously': 1378,\n",
       " u'sorry': 1450,\n",
       " u'food but': 568,\n",
       " u'box': 245,\n",
       " u'point': 1248,\n",
       " u'menu is': 1007,\n",
       " u'pleased': 1244,\n",
       " u'which were': 1957,\n",
       " u'me and': 992,\n",
       " u'me the': 994,\n",
       " u'people': 1210,\n",
       " u'they would': 1666,\n",
       " u'but this': 274,\n",
       " u'and didn': 72,\n",
       " u'stuff': 1487,\n",
       " u'read': 1285,\n",
       " u'never': 1063,\n",
       " u'ready': 1287,\n",
       " u'isn': 840,\n",
       " u'to pick': 1728,\n",
       " u'are very': 142,\n",
       " u'minutes': 1019,\n",
       " u'street': 1484,\n",
       " u'me': 991,\n",
       " u'except': 518,\n",
       " u'about this': 21,\n",
       " u'had the': 700,\n",
       " u'slightly': 1425,\n",
       " u'tried the': 1768,\n",
       " u'well': 1920,\n",
       " u'on top': 1139,\n",
       " u'garlic': 631,\n",
       " u'potato': 1255,\n",
       " u'deep': 416,\n",
       " u'what was': 1941,\n",
       " u'extremely': 526,\n",
       " u'with all': 1974,\n",
       " u'visited': 1835,\n",
       " u'love the': 965,\n",
       " u'and no': 95,\n",
       " u'to me': 1723,\n",
       " u'for lunch': 580,\n",
       " u'decided to': 414,\n",
       " u'met': 1008,\n",
       " u'prefer': 1257,\n",
       " u'my husband': 1050,\n",
       " u'appetizer': 133,\n",
       " u'we got': 1904,\n",
       " u'said it': 1331,\n",
       " u'minutes to': 1020,\n",
       " u'bottle': 241,\n",
       " u'over': 1187,\n",
       " u'check': 321,\n",
       " u'nice and': 1071,\n",
       " u'the sushi': 1627,\n",
       " u'cocktail': 348,\n",
       " u'appetizers': 134,\n",
       " u'to choose': 1705,\n",
       " u'horrible': 759,\n",
       " u'it on': 855,\n",
       " u'past': 1204,\n",
       " u'pass': 1203,\n",
       " u'experience': 524,\n",
       " u'using': 1810,\n",
       " u'tasted like': 1516,\n",
       " u'you won': 2036,\n",
       " u'also had': 48,\n",
       " u'in to': 801,\n",
       " u'despite': 424,\n",
       " u'he was': 730,\n",
       " u'is awesome': 820,\n",
       " u'taste': 1514,\n",
       " u'tasty': 1519,\n",
       " u'taco': 1506,\n",
       " u'cake': 285,\n",
       " u'for it': 579,\n",
       " u'section': 1364,\n",
       " u'here the': 747,\n",
       " u'and helpful': 85,\n",
       " u'good service': 671,\n",
       " u'cheese and': 327,\n",
       " u'any of': 126,\n",
       " u'keep': 881,\n",
       " u'back and': 185,\n",
       " u'reading': 1286,\n",
       " u're in': 1284,\n",
       " u'value': 1814,\n",
       " u'hate': 715,\n",
       " u'have been': 717,\n",
       " u'job': 874,\n",
       " u'looks': 955,\n",
       " u'wait to': 1839,\n",
       " u'the entire': 1565,\n",
       " u'face': 529,\n",
       " u'fact': 530,\n",
       " u'chairs': 313,\n",
       " u'delicious': 419,\n",
       " u'family': 534,\n",
       " u'it would': 868,\n",
       " u'manager': 986,\n",
       " u'to pay': 1727,\n",
       " u'hungry': 772,\n",
       " u'birthday': 232,\n",
       " u'as it': 151,\n",
       " u'friends': 614,\n",
       " u'until': 1794,\n",
       " u'glass': 653,\n",
       " u'and really': 100,\n",
       " u'just as': 878,\n",
       " u'is very': 838,\n",
       " u'itself': 873,\n",
       " u'changed': 316,\n",
       " u'beers': 218,\n",
       " u'bowl': 244,\n",
       " u'an hour': 62,\n",
       " u'live': 935,\n",
       " u'think it': 1672,\n",
       " u'onions': 1147,\n",
       " u'cold': 351,\n",
       " u'much': 1039,\n",
       " u'and always': 64,\n",
       " u'the portions': 1605,\n",
       " u'flavorful': 564,\n",
       " u'rest of': 1306,\n",
       " u'day and': 409,\n",
       " u'feel like': 544,\n",
       " u'deal': 411,\n",
       " u'that had': 1534,\n",
       " u'needs': 1061,\n",
       " u'since we': 1417,\n",
       " u'not the': 1093,\n",
       " u'dry': 467,\n",
       " u'and had': 82,\n",
       " u'and there': 110,\n",
       " u'future': 629,\n",
       " u'and she': 103,\n",
       " u'hope': 758,\n",
       " u'employees': 485,\n",
       " u'it and': 843,\n",
       " u'was too': 1888,\n",
       " u'have no': 722,\n",
       " u'red': 1299,\n",
       " u'head': 731,\n",
       " u'hear': 733,\n",
       " u'own': 1192,\n",
       " u'found': 602,\n",
       " u'move': 1037,\n",
       " u'try this': 1776,\n",
       " u'credit': 391,\n",
       " u'charge': 317,\n",
       " u'it out': 856,\n",
       " u'for me': 581,\n",
       " u'for my': 583,\n",
       " u'asked': 161,\n",
       " u'place to': 1234,\n",
       " u'dance': 404,\n",
       " u'filled': 550,\n",
       " u'salad': 1332,\n",
       " u'able to': 17,\n",
       " u'the wall': 1636,\n",
       " u'soup': 1453,\n",
       " u'sour': 1454,\n",
       " u'bread': 247,\n",
       " u'to us': 1740,\n",
       " u'wanted': 1854,\n",
       " u'they do': 1659,\n",
       " u'quick': 1276,\n",
       " u'double': 457,\n",
       " u'atmosphere is': 172,\n",
       " u'roll': 1321,\n",
       " u'sell': 1377,\n",
       " u'the salad': 1614,\n",
       " u'friday': 608,\n",
       " u'but still': 269,\n",
       " u'grill': 687,\n",
       " u'great place': 682,\n",
       " u'back to': 188,\n",
       " u'through': 1688,\n",
       " u'pork': 1251,\n",
       " u'bought': 243,\n",
       " u'walking': 1849,\n",
       " u'with your': 1986,\n",
       " u'hours': 765,\n",
       " u'mexican': 1009,\n",
       " u'to help': 1716,\n",
       " u'somewhere': 1448,\n",
       " u'would have': 2005,\n",
       " u'however the': 770,\n",
       " u'surprise': 1498,\n",
       " u'fun': 627,\n",
       " u'felt like': 547,\n",
       " u'food was': 571,\n",
       " u'they have': 1662,\n",
       " u'the perfect': 1601,\n",
       " u'included': 805,\n",
       " u'there was': 1650,\n",
       " u'use': 1807,\n",
       " u'the table': 1628,\n",
       " u'but they': 273,\n",
       " u'expensive': 523,\n",
       " u'are so': 140,\n",
       " u'get in': 636,\n",
       " u'these': 1652,\n",
       " u'asian': 158,\n",
       " u'we are': 1898,\n",
       " u'make': 979,\n",
       " u'food is': 569,\n",
       " u'crowded': 394,\n",
       " u'the house': 1576,\n",
       " u'italian': 869,\n",
       " u'watch': 1891,\n",
       " u'portions': 1253,\n",
       " u'only one': 1150,\n",
       " u'given': 650,\n",
       " u'asked if': 163,\n",
       " u'at home': 166,\n",
       " u'100': 3,\n",
       " u'old': 1130,\n",
       " u'the room': 1612,\n",
       " u'toast': 1748,\n",
       " u'front desk': 621,\n",
       " u'just': 877,\n",
       " u'corner': 374,\n",
       " u'the guy': 1573,\n",
       " u'otherwise': 1170,\n",
       " u'white': 1959,\n",
       " u'out for': 1178,\n",
       " u'stopped': 1481,\n",
       " u'restaurant is': 1308,\n",
       " u'more': 1029,\n",
       " u'of their': 1111,\n",
       " u'convenient': 369,\n",
       " u'sure to': 1497,\n",
       " u'waiter': 1841,\n",
       " u'waited': 1840,\n",
       " u'get': 635,\n",
       " u'hair': 702,\n",
       " u'selection of': 1376,\n",
       " u'want to': 1853,\n",
       " u'gave': 632,\n",
       " u'time the': 1694,\n",
       " u'case': 306,\n",
       " u'cash': 307,\n",
       " u'might be': 1014,\n",
       " u'and service': 102,\n",
       " u'the parking': 1597,\n",
       " u'middle of': 1012,\n",
       " u'set': 1390,\n",
       " u'we would': 1915,\n",
       " u'location': 943,\n",
       " u'sides': 1410,\n",
       " u'happy': 708,\n",
       " u'change': 315,\n",
       " u'opened': 1153,\n",
       " u'breakfast': 249,\n",
       " u'finish': 555,\n",
       " u'middle': 1011,\n",
       " u'medium': 1002,\n",
       " u'are always': 136,\n",
       " u'inside': 809,\n",
       " u'our waiter': 1175,\n",
       " u'open': 1152,\n",
       " u'my only': 1052,\n",
       " u'like to': 925,\n",
       " u'cup': 396,\n",
       " u'price': 1262,\n",
       " u'at all': 165,\n",
       " u'rating': 1282,\n",
       " u'my wife': 1054,\n",
       " u'will not': 1969,\n",
       " u'salt': 1337,\n",
       " u'the line': 1579,\n",
       " u'thought it': 1686,\n",
       " u'typical': 1788,\n",
       " u'down': 458,\n",
       " u'casual': 309,\n",
       " u'all in': 36,\n",
       " u'and have': 83,\n",
       " u'would definitely': 2004,\n",
       " u'weren': 1936,\n",
       " u'of this': 1113,\n",
       " u'like that': 921,\n",
       " u'but that': 270,\n",
       " u'get my': 638,\n",
       " u'friend and': 611,\n",
       " u'cost': 375,\n",
       " u'non': 1079,\n",
       " u'now': 1100,\n",
       " u'you would': 2037,\n",
       " u'even if': 504,\n",
       " u'restaurant': 1307,\n",
       " u'saturday': 1344,\n",
       " u'off the': 1119,\n",
       " u'there and': 1645,\n",
       " u'it the': 860,\n",
       " u'play': 1240,\n",
       " u'is an': 819,\n",
       " u'texture': 1526,\n",
       " u'full of': 626,\n",
       " u'to do': 1708,\n",
       " u'our food': 1172,\n",
       " u'to stop': 1735,\n",
       " u'everyone': 512,\n",
       " u'pleasant': 1242,\n",
       " u'enjoy': 491,\n",
       " u'twice': 1784,\n",
       " u'worst': 1998,\n",
       " u'the place': 1603,\n",
       " u'mouth': 1036,\n",
       " u'favorites': 542,\n",
       " u'happy to': 710,\n",
       " u'taken': 1509,\n",
       " u'bellagio': 224,\n",
       " u'the next': 1590,\n",
       " u'modern': 1024,\n",
       " u'little': 933,\n",
       " u'either': 483,\n",
       " u'way to': 1895,\n",
       " u'you should': 2031,\n",
       " u'orders': 1165,\n",
       " u'with an': 1975,\n",
       " u'possible': 1254,\n",
       " u'water': 1893,\n",
       " u'the right': 1611,\n",
       " u'honestly': 757,\n",
       " u'all the': 40,\n",
       " u'sad': 1329,\n",
       " u'say': 1351,\n",
       " u'sat': 1342,\n",
       " u'chance': 314,\n",
       " u'whatever': 1944,\n",
       " u'some': 1443,\n",
       " u'quality': 1273,\n",
       " u'normal': 1082,\n",
       " u'forget': 598,\n",
       " u'visiting': 1836,\n",
       " u'was on': 1876,\n",
       " u'behind the': 221,\n",
       " u'so we': 1439,\n",
       " u'we came': 1899,\n",
       " u'they could': 1656,\n",
       " u'because': 206,\n",
       " u'has': 713,\n",
       " u'music': 1043,\n",
       " u'reasonable': 1293,\n",
       " u'ahead': 34,\n",
       " u'we decided': 1901,\n",
       " u'of town': 1115,\n",
       " u'restaurants': 1309,\n",
       " u'around the': 147,\n",
       " u'very tasty': 1830,\n",
       " u'coming here': 361,\n",
       " u'pasta': 1205,\n",
       " u'we will': 1914,\n",
       " u'dressing': 462,\n",
       " u'perfect': 1213,\n",
       " u'have the': 724,\n",
       " u'used': 1808,\n",
       " u'the back': 1551,\n",
       " u'because it': 207,\n",
       " u'check out': 324,\n",
       " u'understand': 1790,\n",
       " u'of course': 1104,\n",
       " u'seats': 1362,\n",
       " u'go back': 655,\n",
       " u'every': 510,\n",
       " u'took': 1757,\n",
       " u'watching': 1892,\n",
       " u'as you': 157,\n",
       " u'are the': 141,\n",
       " u'like they': 923,\n",
       " u'was great': 1867,\n",
       " u'but it': 266,\n",
       " u'but if': 265,\n",
       " u'about the': 20,\n",
       " u'spring': 1463,\n",
       " u'us to': 1806,\n",
       " u'issue': 841,\n",
       " u'tried to': 1769,\n",
       " u'works': 1996,\n",
       " u'were seated': 1932,\n",
       " u'decided': 413,\n",
       " u'kid': 883,\n",
       " u'end': 487,\n",
       " u'were all': 1928,\n",
       " u'think the': 1673,\n",
       " u'ladies': 898,\n",
       " u'part of': 1201,\n",
       " u'there are': 1646,\n",
       " u'from the': 619,\n",
       " u'but not': 268,\n",
       " u'is my': 827,\n",
       " u'out and': 1177,\n",
       " u'lucky': 972,\n",
       " u'and am': 65,\n",
       " u'and an': 66,\n",
       " u'someone': 1445,\n",
       " u'outdoor': 1184,\n",
       " u'orange': 1159,\n",
       " u'longer': 949,\n",
       " u'so the': 1437,\n",
       " u'sandwich': 1340,\n",
       " u'so far': 1430,\n",
       " u'are not': 139,\n",
       " u'was perfect': 1879,\n",
       " u'very friendly': 1827,\n",
       " u'great service': 683,\n",
       " u'showed': 1405,\n",
       " u'15 minutes': 7,\n",
       " u'is definitely': 821,\n",
       " u'available': 176,\n",
       " u'lounge': 962,\n",
       " u'serving': 1389,\n",
       " u'into the': 815,\n",
       " u'lost': 956,\n",
       " u'fantastic': 538,\n",
       " u'group': 689,\n",
       " u'back for': 186,\n",
       " u'with my': 1978,\n",
       " u'with me': 1977,\n",
       " u'short': 1399,\n",
       " u'incredible': 807,\n",
       " u'us': 1804,\n",
       " u'servers': 1384,\n",
       " u'like it': 920,\n",
       " u'husband': 773,\n",
       " u'seeing': 1367,\n",
       " u'mediocre': 1001,\n",
       " u'paid': 1196,\n",
       " u'behind': 220,\n",
       " u'was just': 1869,\n",
       " u'our': 1171,\n",
       " u'weird': 1919,\n",
       " u'fast': 540,\n",
       " u'their food': 1641,\n",
       " u'for sure': 586,\n",
       " u'often': 1124,\n",
       " u'even though': 506,\n",
       " u'enjoyed': 493,\n",
       " u'on friday': 1131,\n",
       " u'my friend': 1048,\n",
       " u'cannot': 301,\n",
       " u'side': 1408,\n",
       " u'is great': 823,\n",
       " u'butter': 279,\n",
       " u'the owner': 1596,\n",
       " u'plenty': 1245,\n",
       " u'back again': 184,\n",
       " u'customers': 400,\n",
       " u'bunch of': 257,\n",
       " u'waiting for': 1843,\n",
       " u'when the': 1947,\n",
       " u'where you': 1953,\n",
       " u'five': 560,\n",
       " u'this restaurant': 1679,\n",
       " u'to check': 1704,\n",
       " u'come back': 354,\n",
       " u'portion': 1252,\n",
       " u'french': 605,\n",
       " u'of that': 1110,\n",
       " u'like this': 924,\n",
       " u'says': 1354,\n",
       " u'but my': 267,\n",
       " u'part': 1200,\n",
       " u'the counter': 1559,\n",
       " u'was good': 1866,\n",
       " u'being': 222,\n",
       " u'trying': 1778,\n",
       " u'problem': 1269,\n",
       " u'evening': 507,\n",
       " u'american': 57,\n",
       " u'the quality': 1608,\n",
       " u'the kitchen': 1577,\n",
       " u'across': 24,\n",
       " u'her': 740,\n",
       " u'would recommend': 2007,\n",
       " u'our table': 1174,\n",
       " u'and get': 78,\n",
       " u'what they': 1940,\n",
       " u'nice': 1070,\n",
       " u'you could': 2021,\n",
       " u'is in': 824,\n",
       " u'is it': 825,\n",
       " u'there were': 1651,\n",
       " u'on this': 1138,\n",
       " u'will be': 1966,\n",
       " u'and my': 94,\n",
       " u'run': 1327,\n",
       " u'notch': 1096,\n",
       " u'sized': 1422,\n",
       " u'out with': 1183,\n",
       " u'do it': 441,\n",
       " u'never been': 1064,\n",
       " u'idea': 777,\n",
       " u'serve': 1379,\n",
       " u'paying': 1209,\n",
       " u'was there': 1887,\n",
       " u'ice': 775,\n",
       " u'of our': 1108,\n",
       " u'the same': 1615,\n",
       " u'help': 737,\n",
       " u'hell': 736,\n",
       " u'look': 950,\n",
       " u'on saturday': 1135,\n",
       " u'with it': 1976,\n",
       " u'enjoyed the': 494,\n",
       " u'park': 1197,\n",
       " u'45': 13,\n",
       " u'40': 12,\n",
       " u'better': 226,\n",
       " u'sit': 1419,\n",
       " u'they did': 1657,\n",
       " u'easy': 475,\n",
       " u'so good': 1431,\n",
       " u'slow': 1426,\n",
       " u'only thing': 1151,\n",
       " u'thin': 1668,\n",
       " u'doing': 447,\n",
       " u'couldn': 380,\n",
       " u'beyond': 229,\n",
       " u'clean': 342,\n",
       " u'eating': 480,\n",
       " u'and in': 87,\n",
       " u'don think': 453,\n",
       " u'due': 468,\n",
       " u'call': 286,\n",
       " u'sushi': 1500,\n",
       " u'place that': 1232,\n",
       " u'order the': 1161,\n",
       " u'end of': 488,\n",
       " u'hit': 753,\n",
       " u'him': 751,\n",
       " u'to sit': 1732,\n",
       " u'ones': 1145,\n",
       " u'walked in': 1848,\n",
       " u'to use': 1741,\n",
       " u'and asked': 68,\n",
       " u'of all': 1103,\n",
       " u'but was': 275,\n",
       " u'that we': 1545,\n",
       " u'foods': 572,\n",
       " u'before': 219,\n",
       " u'enough': 495,\n",
       " u'bar and': 193,\n",
       " u'sitting': 1420,\n",
       " u'but the': 271,\n",
       " u'where the': 1952,\n",
       " u'however': 769,\n",
       " u'list': 931,\n",
       " u'spot': 1462,\n",
       " u'made it': 976,\n",
       " u'funny': 628,\n",
       " u'the worst': 1639,\n",
       " u'pick up': 1221,\n",
       " u'very good': 1828,\n",
       " u'town': 1764,\n",
       " u'beef': 213,\n",
       " u'been': 214,\n",
       " u'beer': 217,\n",
       " u'tea': 1521,\n",
       " u'get it': 637,\n",
       " u'the past': 1598,\n",
       " u'truly': 1772,\n",
       " u'tv': 1783,\n",
       " u'we ve': 1910,\n",
       " u'tasting': 1518,\n",
       " u'your own': 2040,\n",
       " u'through the': 1689,\n",
       " u'late': 906,\n",
       " u'pepper': 1211,\n",
       " u'love it': 964,\n",
       " u'sweet and': 1502,\n",
       " u'we could': 1900,\n",
       " u'what': 1937,\n",
       " u'enjoy the': 492,\n",
       " u'it for': 847,\n",
       " u'was that': 1885,\n",
       " u'you go': 2024,\n",
       " u'summer': 1492,\n",
       " u'mall': 984,\n",
       " u'and our': 99,\n",
       " u'establishment': 501,\n",
       " u'sort of': 1452,\n",
       " u'and is': 88,\n",
       " u'and it': 89,\n",
       " u'in vegas': 803,\n",
       " u'with this': 1985,\n",
       " u'will never': 1968,\n",
       " u'club': 347,\n",
       " u'for you': 595,\n",
       " u'rude': 1326,\n",
       " u'my favorite': 1046,\n",
       " u've': 1817,\n",
       " u'loved': 967,\n",
       " u'the patio': 1599,\n",
       " u'come': 353,\n",
       " u'choices': 337,\n",
       " u'and would': 122,\n",
       " u'bottom': 242,\n",
       " u'didn': 429,\n",
       " u'when they': 1948,\n",
       " u'guy': 692,\n",
       " u'even the': 505,\n",
       " u'add': 27,\n",
       " u'ordered': 1162,\n",
       " u'go': 654,\n",
       " u'there is': 1648,\n",
       " u'long time': 948,\n",
       " u'kind': 885,\n",
       " u'rare': 1280,\n",
       " u'friends and': 615,\n",
       " u'owner': 1193,\n",
       " u'try the': 1775,\n",
       " u'together': 1750,\n",
       " u'remember': 1301,\n",
       " u'and got': 80,\n",
       " u'half': 703,\n",
       " u'got to': 676,\n",
       " u'they can': 1655,\n",
       " u'pretty': 1259,\n",
       " u'doesn': 445,\n",
       " u'excited': 519,\n",
       " u'which': 1954,\n",
       " u'actually': 26,\n",
       " u'the decor': 1561,\n",
       " u'everything was': 515,\n",
       " u'oh and': 1126,\n",
       " u'ended up': 490,\n",
       " u'fresh': 606,\n",
       " u'for all': 573,\n",
       " u'had some': 699,\n",
       " u'the top': 1630,\n",
       " u'air': 35,\n",
       " u'grilled': 688,\n",
       " u'drinks and': 465,\n",
       " u'item': 870,\n",
       " u'rock': 1320,\n",
       " u'it with': 867,\n",
       " u'24': 9,\n",
       " u'25': 10,\n",
       " u'20': 8,\n",
       " u'had in': 697,\n",
       " u'got there': 675,\n",
       " u'was little': 1870,\n",
       " u'going on': 663,\n",
       " u'his': 752,\n",
       " u'tell you': 1523,\n",
       " u'wall': 1850,\n",
       " u'walk': 1845,\n",
       " u'went here': 1924,\n",
       " u'made me': 977,\n",
       " u'have some': 723,\n",
       " u'for good': 578,\n",
       " u'steak': 1477,\n",
       " u'weekend': 1917,\n",
       " u'give it': 646,\n",
       " u'exactly': 516,\n",
       " u'she was': 1395,\n",
       " u'house': 766,\n",
       " u'beat': 204,\n",
       " u'tip': 1700,\n",
       " u'option': 1155,\n",
       " u'sandwiches': 1341,\n",
       " u'wanted to': 1855,\n",
       " u'rich': 1317,\n",
       " u'rice': 1315,\n",
       " u'we re': 1908,\n",
       " u'the hotel': 1575,\n",
       " u'well as': 1921,\n",
       " u'as much': 152,\n",
       " u'and good': 79,\n",
       " u'save': 1349,\n",
       " u'so many': 1434,\n",
       " u'don know': 452,\n",
       " u'the door': 1562,\n",
       " u'of people': 1109,\n",
       " u'seasoned': 1358,\n",
       " u'it just': 853,\n",
       " u'school': 1355,\n",
       " u'when': 1945,\n",
       " u'yum': 2042,\n",
       " u'week': 1916,\n",
       " u'okay': 1129,\n",
       " u'level': 917,\n",
       " u'can be': 296,\n",
       " u'turn': 1781,\n",
       " u'clean and': 343,\n",
       " u'was amazing': 1858,\n",
       " u'meals': 997,\n",
       " u'in las': 792,\n",
       " u'not too': 1095,\n",
       " u'mostly': 1035,\n",
       " u'by the': 283,\n",
       " u'ask for': 160,\n",
       " u'side of': 1409,\n",
       " u'bland': 237,\n",
       " u'gotten': 677,\n",
       " u'recently': 1295,\n",
       " u're': 1283,\n",
       " u'forever': 597,\n",
       " u'that the': 1540,\n",
       " u'make sure': 981,\n",
       " u'chef': 328,\n",
       " u'was going': 1865,\n",
       " u'time to': 1695,\n",
       " u'and the': 107,\n",
       " u'don': 449,\n",
       " u'dog': 446,\n",
       " u'were the': 1934,\n",
       " u'can wait': 300,\n",
       " u'they were': 1664,\n",
       " u'expected': 521,\n",
       " u'place has': 1229,\n",
       " u'give you': 649,\n",
       " u'to start': 1733,\n",
       " u'thought': 1685,\n",
       " u'you to': 2032,\n",
       " u'the buffet': 1556,\n",
       " u'more than': 1031,\n",
       " u'to keep': 1718,\n",
       " u'las': 901,\n",
       " u'parking lot': 1199,\n",
       " u'attentive': 174,\n",
       " u'didn have': 430,\n",
       " u'others': 1169,\n",
       " u'in town': 802,\n",
       " u'seafood': 1357,\n",
       " u'would not': 2006,\n",
       " u'for your': 596,\n",
       " u'chain': 312,\n",
       " u'delicious the': 421,\n",
       " u'sauce': 1345,\n",
       " u'is one': 831,\n",
       " u'could': 376,\n",
       " u'was really': 1881,\n",
       " u'salad and': 1333,\n",
       " u'night': 1074,\n",
       " u'here on': 746,\n",
       " u'to watch': 1745,\n",
       " ...}"
      ]
     },
     "execution_count": 29,
     "metadata": {},
     "output_type": "execute_result"
    }
   ],
   "source": [
    "print X.shape\n",
    "c.vocabulary_"
   ]
  },
  {
   "cell_type": "code",
   "execution_count": 30,
   "metadata": {},
   "outputs": [
    {
     "data": {
      "text/plain": [
       "0.50681933673155577"
      ]
     },
     "execution_count": 30,
     "metadata": {},
     "output_type": "execute_result"
    }
   ],
   "source": [
    "r = Ridge(alpha=0.1)\n",
    "X=np.log1p(X)\n",
    "r.fit(X[:40000,:],stars[:40000])\n",
    "r.score(X[40000:,:],stars[40000:])"
   ]
  },
  {
   "cell_type": "code",
   "execution_count": 36,
   "metadata": {},
   "outputs": [
    {
     "data": {
      "text/plain": [
       "Pipeline(steps=[('CST', ColumnSelectTransformer(col_names='text')), ('CV', CountVectorizer(analyzer=u'word', binary=False, decode_error=u'strict',\n",
       "        dtype=<type 'numpy.int64'>, encoding=u'utf-8', input=u'content',\n",
       "        lowercase=True, max_df=0.3, max_features=None, min_df=0.005,\n",
       "        ngram_range=...it_intercept=True, max_iter=None,\n",
       "   normalize=False, random_state=None, solver='auto', tol=0.001))])"
      ]
     },
     "execution_count": 36,
     "metadata": {},
     "output_type": "execute_result"
    }
   ],
   "source": [
    "from sklearn.pipeline import Pipeline\n",
    "from sklearn import preprocessing\n",
    "from scipy.sparse import csr_matrix\n",
    "bigram_est = Pipeline(steps=[\n",
    "    ('CST', ColumnSelectTransformer('text')),\n",
    "    ('CV', CountVectorizer(ngram_range = (1,2),min_df=0.005,max_df=0.3)),\n",
    "    ('preprocess',Preprocessor_log()),\n",
    "    ('Regress',Ridge(alpha=10))\n",
    "    # Regressor\n",
    "])\n",
    "bigram_est.fit(data, stars)"
   ]
  },
  {
   "cell_type": "code",
   "execution_count": 37,
   "metadata": {},
   "outputs": [
    {
     "name": "stdout",
     "output_type": "stream",
     "text": [
      "==================\n",
      "Your score:  0.94906031093\n",
      "==================\n"
     ]
    }
   ],
   "source": [
    "score('nlp__bigram_model', bigram_est.predict)"
   ]
  },
  {
   "cell_type": "markdown",
   "metadata": {},
   "source": [
    "## food_bigrams\n",
    "Look over all reviews of restaurants.  You can determine which businesses are restaurants by looking in the `yelp_train_academic_dataset_business.json.gz` file from the ml project or downloaded below."
   ]
  },
  {
   "cell_type": "code",
   "execution_count": 38,
   "metadata": {},
   "outputs": [
    {
     "name": "stdout",
     "output_type": "stream",
     "text": [
      "download: s3://dataincubator-course/mldata/yelp_train_academic_dataset_business.json.gz to ./yelp_train_academic_dataset_business.json.gz\r\n"
     ]
    }
   ],
   "source": [
    "!aws s3 sync s3://dataincubator-course/mldata/ . --exclude '*' --include 'yelp_train_academic_dataset_business.json.gz'"
   ]
  },
  {
   "cell_type": "code",
   "execution_count": 4,
   "metadata": {
    "collapsed": true
   },
   "outputs": [],
   "source": [
    "with gzip.open('yelp_train_academic_dataset_business.json.gz') as f:\n",
    "    business_data = [json.loads(line) for line in f]"
   ]
  },
  {
   "cell_type": "markdown",
   "metadata": {},
   "source": [
    "Each row of this file corresponds to a single business.  The category key gives a list of categories for each; take all where \"Restaurants\" appears."
   ]
  },
  {
   "cell_type": "code",
   "execution_count": 5,
   "metadata": {
    "collapsed": true
   },
   "outputs": [],
   "source": [
    "restaurant_ids = [b['business_id'] for b in business_data if 'Restaurants' in b['categories'] ]"
   ]
  },
  {
   "cell_type": "code",
   "execution_count": 6,
   "metadata": {
    "collapsed": true
   },
   "outputs": [],
   "source": [
    "assert len(restaurant_ids) == 12876"
   ]
  },
  {
   "cell_type": "markdown",
   "metadata": {},
   "source": [
    "The \"business_id\" here is the same as in the review data.  Use this to extract the review text for all reviews of restaurants."
   ]
  },
  {
   "cell_type": "code",
   "execution_count": 33,
   "metadata": {
    "collapsed": true
   },
   "outputs": [],
   "source": [
    "restaurant_part_reviews = [b['text'] for b in data_part if b['business_id'] in restaurant_ids]"
   ]
  },
  {
   "cell_type": "code",
   "execution_count": 34,
   "metadata": {},
   "outputs": [
    {
     "name": "stdout",
     "output_type": "stream",
     "text": [
      "114733\n"
     ]
    }
   ],
   "source": [
    "print len(restaurant_part_reviews)"
   ]
  },
  {
   "cell_type": "code",
   "execution_count": 331,
   "metadata": {
    "collapsed": true
   },
   "outputs": [],
   "source": [
    "assert len(restaurant_reviews) == 574278"
   ]
  },
  {
   "cell_type": "markdown",
   "metadata": {},
   "source": [
    "We want to find collocations --- that is, bigrams that are \"special\" and appear more often than you'd expect from chance. We can think of the corpus as defining an empirical distribution over all ngrams.  We can find word pairs that are unlikely to occur consecutively based on the underlying probability of their words. Mathematically, if $p(w)$ be the probability of a word $w$ and $p(w_1 w_2)$ is the probability of the bigram $w_1 w_2$, then we want to look at word pairs $w_1 w_2$ where the statistic\n",
    "\n",
    "  $$ \\frac{p(w_1 w_2)}{p(w_1) p(w_2)} $$\n",
    "\n",
    "is high.  Return the top 100 (mostly food) bigrams with this statistic with the 'right' prior factor (see below).\n",
    "\n",
    "Estimating the probabilities is simply a matter of counting, and there are number of approaches that will work.  One is to use one of the tokenizers to count up how many times each word and each bigram appears in each review, and then sum those up over all reviews.  You might want to know that te `CountVectorizer` has a `.get_feature_names()` method which gives the string associated with each column.  (Question for thought: Why doesn't the `HashingVectorizer` have a similar method?)\n",
    "\n",
    "*Questions:* This statistic is a ratio and problematic when the denominator is small.  We can fix this by applying Bayesian smoothing to $p(w)$ (i.e. mixing the empirical distribution with the uniform distribution over the vocabulary).\n",
    "\n",
    "1. How does changing this smoothing parameter affect the word pairs you get qualitatively?\n",
    "\n",
    "2. We can interpret the smoothing parameter as adding a constant number of occurrences of each word to our distribution.  Does this help you determine set a reasonable value for this 'prior factor'?\n",
    "\n",
    "3. For fun: also check out [Amazon's Statistically Improbable Phrases](http://en.wikipedia.org/wiki/Statistically_Improbable_Phrases).\n",
    "\n",
    "*Implementation note:*\n",
    "As you adjust the size of the Bayesian smoothing parameter, you will notice first nonsense phrases being removed and then legitimate bigrams being removed, leaving you with only generic bigrams.  The goal is to find a value of the smoothing parameter between these two transitions.\n",
    "\n",
    "The reference solution is not an aggressive filterer: it errors in favor of leaving apparently nonsensical words. On further consideration, many of these are actually somewhat meaningful. The smoothing parameter chosen in the reference solution is equivalent to giving each word 90 previous appearances prior to considering this data.  This was chosen by generating a list of bigrams for a range of smoothing parameters and seeing how many of the bigrams were shared between neighboring values.  When the shared fraction reached 95%, we judged the solution to have converged.  Note that `min_df` should not be set too high, where it could exclude these borderline words."
   ]
  },
  {
   "cell_type": "code",
   "execution_count": 119,
   "metadata": {
    "collapsed": true
   },
   "outputs": [],
   "source": [
    "from sklearn.feature_extraction.text import CountVectorizer, HashingVectorizer\n",
    "c2 = CountVectorizer(ngram_range=(2,2),min_df=7)\n",
    "X_2 = c2.fit_transform(restaurant_part_reviews)"
   ]
  },
  {
   "cell_type": "code",
   "execution_count": 120,
   "metadata": {
    "collapsed": true
   },
   "outputs": [],
   "source": [
    "from scipy.sparse import csr_matrix\n",
    "bi_counts = csr_matrix.sum(X_2,axis=0)"
   ]
  },
  {
   "cell_type": "code",
   "execution_count": 121,
   "metadata": {
    "collapsed": true
   },
   "outputs": [],
   "source": [
    "bifeatures= c2.get_feature_names()"
   ]
  },
  {
   "cell_type": "code",
   "execution_count": 122,
   "metadata": {
    "collapsed": true
   },
   "outputs": [],
   "source": [
    "c = CountVectorizer(ngram_range=(1,1),min_df=7)\n",
    "X_1 = c.fit_transform(restaurant_part_reviews)"
   ]
  },
  {
   "cell_type": "code",
   "execution_count": 123,
   "metadata": {
    "collapsed": true
   },
   "outputs": [],
   "source": [
    "uni_counts = csr_matrix.sum(X_1,axis=0)"
   ]
  },
  {
   "cell_type": "code",
   "execution_count": 103,
   "metadata": {
    "collapsed": true
   },
   "outputs": [],
   "source": [
    "unifeatures=c.get_feature_names()"
   ]
  },
  {
   "cell_type": "code",
   "execution_count": 137,
   "metadata": {
    "collapsed": true
   },
   "outputs": [],
   "source": [
    "ratio = []\n",
    "for i in range(bi_counts.shape[1]):\n",
    "    b = bi_counts[0,i]+1\n",
    "    bigram = bifeatures[i].split()\n",
    "    gram_1 = c.vocabulary_[bigram[0]]\n",
    "    gram_2 = c.vocabulary_[bigram[1]]\n",
    "    a = uni_counts[0,gram_1]+18\n",
    "    d = uni_counts[0,gram_2]+18\n",
    "    rate = b*1.0/(a*d)\n",
    "    ratio.append([rate,bifeatures[i]])\n",
    "    \n",
    "    "
   ]
  },
  {
   "cell_type": "code",
   "execution_count": 138,
   "metadata": {},
   "outputs": [
    {
     "name": "stdout",
     "output_type": "stream",
     "text": [
      "178546\n"
     ]
    }
   ],
   "source": [
    "result = sorted(ratio,reverse=True)\n",
    "print len(result)"
   ]
  },
  {
   "cell_type": "code",
   "execution_count": 139,
   "metadata": {
    "collapsed": true
   },
   "outputs": [],
   "source": [
    "def output():\n",
    "    top = []\n",
    "    for i in range(100):\n",
    "        bigram = result[i][1]\n",
    "        top.append(bigram)\n",
    "    return top"
   ]
  },
  {
   "cell_type": "code",
   "execution_count": 140,
   "metadata": {
    "scrolled": true
   },
   "outputs": [
    {
     "data": {
      "text/plain": [
       "[u'roka akor',\n",
       " u'baskin robbins',\n",
       " u'f_5_unx wrafcxuakbzrdw',\n",
       " u'himal chuli',\n",
       " u'itsy bitsy',\n",
       " u'hoity toity',\n",
       " u'ezzyujdouig4p gyb3pv_a',\n",
       " u'bandeja paisa',\n",
       " u'hodge podge',\n",
       " u'laan xang',\n",
       " u'khai hoan',\n",
       " u'alain ducasse',\n",
       " u'feng shui',\n",
       " u'tammie coe',\n",
       " u'itty bitty',\n",
       " u'knick knacks',\n",
       " u'irn bru',\n",
       " u'riff raff',\n",
       " u'cien agaves',\n",
       " u'chicha morada',\n",
       " u'woonam jung',\n",
       " u'reina pepiada',\n",
       " u'ropa vieja',\n",
       " u'rula bula',\n",
       " u'honky tonk',\n",
       " u'dac biet',\n",
       " u'hors oeuvres',\n",
       " u'gulab jamun',\n",
       " u'puerto rican',\n",
       " u'dol sot',\n",
       " u'luc lac',\n",
       " u'marche bacchus',\n",
       " u'nuoc mam',\n",
       " u'tutti santi',\n",
       " u'lloyd wright',\n",
       " u'ak yelpcdn',\n",
       " u'rx boiler',\n",
       " u'krispy kreme',\n",
       " u'rinky dink',\n",
       " u'perrier jouet',\n",
       " u'molecular gastronomy',\n",
       " u'khao soi',\n",
       " u'hu tieu',\n",
       " u'patatas bravas',\n",
       " u'shiner bock',\n",
       " u'bai thong',\n",
       " u'haricot verts',\n",
       " u'kao tod',\n",
       " u'porta alba',\n",
       " u'uuu uuu',\n",
       " u'lomo saltado',\n",
       " u'vice versa',\n",
       " u'betty boop',\n",
       " u'bradley ogden',\n",
       " u'humboldt fog',\n",
       " u'womp womp',\n",
       " u'jap chae',\n",
       " u'yadda yadda',\n",
       " u's3 media1',\n",
       " u'valle luna',\n",
       " u'chez vous',\n",
       " u'pina colada',\n",
       " u'bim bap',\n",
       " u'sa bai',\n",
       " u'harry potter',\n",
       " u'chino bandido',\n",
       " u'aguas frescas',\n",
       " u'val vista',\n",
       " u'yada yada',\n",
       " u'artery clogging',\n",
       " u'pura vida',\n",
       " u'sous vide',\n",
       " u'wal mart',\n",
       " u'froo froo',\n",
       " u'tsk tsk',\n",
       " u'fru fru',\n",
       " u'ritz carlton',\n",
       " u'turo turo',\n",
       " u'connective tissue',\n",
       " u'homer simpson',\n",
       " u'gobi manchurian',\n",
       " u'scantily clad',\n",
       " u'estiatorio milos',\n",
       " u'malai kofta',\n",
       " u'fra diavolo',\n",
       " u'jw marriott',\n",
       " u'palo alto',\n",
       " u'upward projects',\n",
       " u'yee haw',\n",
       " u'haricot vert',\n",
       " u'mount everest',\n",
       " u'gary danko',\n",
       " u'har gow',\n",
       " u'demi glace',\n",
       " u'frou frou',\n",
       " u'toby keith',\n",
       " u'buon appetito',\n",
       " u'wayne gorsek',\n",
       " u'teeter totter',\n",
       " u'salo salo']"
      ]
     },
     "execution_count": 140,
     "metadata": {},
     "output_type": "execute_result"
    }
   ],
   "source": [
    "top = output()\n",
    "top"
   ]
  },
  {
   "cell_type": "code",
   "execution_count": 141,
   "metadata": {},
   "outputs": [
    {
     "name": "stdout",
     "output_type": "stream",
     "text": [
      "==================\n",
      "Your score:  0.9\n",
      "==================\n"
     ]
    }
   ],
   "source": [
    "score('nlp__food_bigrams', output)"
   ]
  },
  {
   "cell_type": "markdown",
   "metadata": {},
   "source": [
    "*Copyright &copy; 2016 The Data Incubator.  All rights reserved.*"
   ]
  }
 ],
 "metadata": {
  "kernelspec": {
   "display_name": "Python 2",
   "language": "python",
   "name": "python2"
  },
  "language_info": {
   "codemirror_mode": {
    "name": "ipython",
    "version": 2
   },
   "file_extension": ".py",
   "mimetype": "text/x-python",
   "name": "python",
   "nbconvert_exporter": "python",
   "pygments_lexer": "ipython2",
   "version": "2.7.15"
  },
  "nbclean": true
 },
 "nbformat": 4,
 "nbformat_minor": 1
}
