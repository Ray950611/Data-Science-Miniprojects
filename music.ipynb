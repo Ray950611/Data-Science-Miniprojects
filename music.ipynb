{
 "cells": [
  {
   "cell_type": "code",
   "execution_count": 2,
   "metadata": {
    "collapsed": true
   },
   "outputs": [],
   "source": [
    "%matplotlib inline\n",
    "import matplotlib\n",
    "import seaborn as sns\n",
    "matplotlib.rcParams['savefig.dpi'] = 144"
   ]
  },
  {
   "cell_type": "code",
   "execution_count": 948,
   "metadata": {
    "collapsed": true
   },
   "outputs": [],
   "source": [
    "import grader"
   ]
  },
  {
   "cell_type": "markdown",
   "metadata": {},
   "source": [
    "# Classifing Music by Genre\n",
    "\n",
    "Music offers an extremely rich and interesting playing field. The objective of this miniproject is to develop models that are able to recognize the genre of a musical piece, first from pre-computed features and then working from the raw waveform. This is a typical example of a classification problem on time series data.\n",
    "\n",
    "Each piece has been classified to belong to one of the following genres:\n",
    "- electronic\n",
    "- folkcountry\n",
    "- jazz\n",
    "- raphiphop\n",
    "- rock\n",
    "\n",
    "The model will be assessed based on the accuracy score of your classifier.  There is a reference solution.  The reference solution has a score of 1. *(Note that this doesn't mean that the accuracy of the reference solution is 1)*. Keeping this in mind...\n",
    "\n",
    "## A note on scoring\n",
    "It **is** possible to score >1 on these questions. This indicates that you've beaten our reference model - we compare our model's score on a test set to your score on a test set. See how high you can go!\n"
   ]
  },
  {
   "cell_type": "markdown",
   "metadata": {},
   "source": [
    "# Questions\n",
    "\n",
    "\n",
    "## Question 1: All Features Model\n",
    "Download a set of pre-computed features from Amazon S3:"
   ]
  },
  {
   "cell_type": "code",
   "execution_count": 3,
   "metadata": {},
   "outputs": [
    {
     "name": "stdout",
     "output_type": "stream",
     "text": [
      "download: s3://dataincubator-course/mldata/df_train_anon.csv to ./df_train_anon.csv\n"
     ]
    }
   ],
   "source": [
    "!aws s3 sync s3://dataincubator-course/mldata/ . --exclude '*' --include 'df_train_anon.csv'"
   ]
  },
  {
   "cell_type": "markdown",
   "metadata": {},
   "source": [
    "This file contains 549 pre-computed features for the training set. The last column contains the genre.\n",
    "\n",
    "Build a model to generate predictions from this feature set. Steps in the pipeline could include:\n",
    "\n",
    "- a normalization step (not all features have the same size or distribution)\n",
    "- a dimensionality reduction or feature selection step\n",
    "- ... any other transformer you may find relevant ...\n",
    "- an estimator\n",
    "- a label encoder inverse transform to return the genre as a string\n",
    "\n",
    "Use GridSearchCV to find the scikit learn estimator with the best cross-validated performance.\n",
    "\n",
    "*Hints:*\n",
    "- Scikit Learn's [StandardScaler](http://scikit-learn.org/stable/modules/generated/sklearn.preprocessing.StandardScaler.html) can center the data and/or scale by the standard deviation.\n",
    "- Use a dimensionality reduction technique (e.g. [PCA](http://scikit-learn.org/stable/modules/generated/sklearn.decomposition.PCA.html)) or a feature selection criteria when possible.\n",
    "- Use [GridSearchCV](http://scikit-learn.org/0.17/modules/generated/sklearn.grid_search.GridSearchCV.html#sklearn.grid_search.GridSearchCV) to improve score.\n",
    "- Use a [LabelEncoder](http://scikit-learn.org/stable/modules/generated/sklearn.preprocessing.LabelEncoder.html) to generate an encoding for the labels.\n",
    "- The model needs to return the genre as a string. You may need to create a wrapper class around scikit-learn estimators in order to do that.\n",
    "\n",
    "Submit a function that takes a list of records, each a list of the 549 features, and returns a list of genre predictions, one for each record."
   ]
  },
  {
   "cell_type": "code",
   "execution_count": 137,
   "metadata": {
    "collapsed": true
   },
   "outputs": [],
   "source": [
    "from numpy import genfromtxt\n",
    "my_data = genfromtxt('df_train_anon.csv', delimiter=',')[:,:-1]"
   ]
  },
  {
   "cell_type": "code",
   "execution_count": 139,
   "metadata": {
    "collapsed": true
   },
   "outputs": [],
   "source": [
    "from sklearn import preprocessing\n",
    "from sklearn.preprocessing import PolynomialFeatures\n",
    "\n",
    "X =  preprocessing.StandardScaler().fit_transform(my_data)"
   ]
  },
  {
   "cell_type": "code",
   "execution_count": 141,
   "metadata": {
    "collapsed": true
   },
   "outputs": [],
   "source": [
    "import numpy as np\n",
    "gens = ['electronic','folkcountry','jazz','raphiphop','rock']\n",
    "f = open('df_train_anon.csv','r')\n",
    "y = np.zeros(1167)\n",
    "for i in range(1167):\n",
    "    l = f.readline().split(',')[-1].strip('\\n')\n",
    "    gen = gens.index(l)\n",
    "    y[i] = gen\n",
    "#print y\n"
   ]
  },
  {
   "cell_type": "code",
   "execution_count": 142,
   "metadata": {
    "collapsed": true
   },
   "outputs": [],
   "source": [
    "X_y = np.concatenate((X, np.array([list(y)]).T),axis=1)\n",
    "np.random.shuffle(X_y)\n",
    "X = X_y[:,:-1]\n",
    "y = X_y[:,-1]"
   ]
  },
  {
   "cell_type": "code",
   "execution_count": 262,
   "metadata": {
    "collapsed": true
   },
   "outputs": [],
   "source": [
    "#construct pipeline"
   ]
  },
  {
   "cell_type": "code",
   "execution_count": 176,
   "metadata": {
    "collapsed": true
   },
   "outputs": [],
   "source": [
    "from sklearn.pipeline import Pipeline\n",
    "from sklearn.decomposition import PCA, NMF\n",
    "from sklearn.neighbors import KNeighborsClassifier\n",
    "from matplotlib import pyplot as plt\n",
    "from sklearn.model_selection import KFold\n",
    "from sklearn.ensemble import RandomForestClassifier\n",
    "kf = KFold(n_splits=5)\n",
    "from sklearn.model_selection import GridSearchCV\n",
    "N= range(10,40,5)\n",
    "C = range(100,500,100)\n",
    "pipe = Pipeline(steps=[\n",
    "    ('reduce_dim', PCA()),\n",
    "    ('classify', RandomForestClassifier(random_state=100))\n",
    "])\n",
    "param_grid = {\n",
    "        \n",
    "        'reduce_dim__n_components':C,\n",
    "        'classify__n_estimators': N\n",
    "    }\n",
    "\n",
    "grid = GridSearchCV(pipe, cv=5, param_grid=param_grid)"
   ]
  },
  {
   "cell_type": "code",
   "execution_count": 177,
   "metadata": {},
   "outputs": [
    {
     "data": {
      "text/plain": [
       "GridSearchCV(cv=5, error_score='raise',\n",
       "       estimator=Pipeline(steps=[('reduce_dim', PCA(copy=True, iterated_power='auto', n_components=None, random_state=None,\n",
       "  svd_solver='auto', tol=0.0, whiten=False)), ('classify', RandomForestClassifier(bootstrap=True, class_weight=None, criterion='gini',\n",
       "            max_depth=None, max_features='auto', max_leaf_nodes=Non...timators=10, n_jobs=1, oob_score=False, random_state=100,\n",
       "            verbose=0, warm_start=False))]),\n",
       "       fit_params={}, iid=True, n_jobs=1,\n",
       "       param_grid={'classify__n_estimators': [10, 15, 20, 25, 30, 35], 'reduce_dim__n_components': [100, 200, 300, 400]},\n",
       "       pre_dispatch='2*n_jobs', refit=True, return_train_score=True,\n",
       "       scoring=None, verbose=0)"
      ]
     },
     "execution_count": 177,
     "metadata": {},
     "output_type": "execute_result"
    }
   ],
   "source": [
    "grid.fit(X,y)"
   ]
  },
  {
   "cell_type": "code",
   "execution_count": 178,
   "metadata": {},
   "outputs": [
    {
     "data": {
      "text/plain": [
       "(100, 35)"
      ]
     },
     "execution_count": 178,
     "metadata": {},
     "output_type": "execute_result"
    }
   ],
   "source": [
    "grid.best_estimator_.named_steps['reduce_dim'].n_components,grid.best_estimator_.named_steps['classify'].n_estimators"
   ]
  },
  {
   "cell_type": "code",
   "execution_count": 183,
   "metadata": {},
   "outputs": [
    {
     "data": {
      "text/plain": [
       "RandomForestClassifier(bootstrap=True, class_weight=None, criterion='gini',\n",
       "            max_depth=None, max_features='auto', max_leaf_nodes=None,\n",
       "            min_impurity_split=1e-07, min_samples_leaf=1,\n",
       "            min_samples_split=2, min_weight_fraction_leaf=0.0,\n",
       "            n_estimators=30, n_jobs=1, oob_score=False, random_state=100,\n",
       "            verbose=0, warm_start=False)"
      ]
     },
     "execution_count": 183,
     "metadata": {},
     "output_type": "execute_result"
    }
   ],
   "source": [
    "from sklearn.ensemble import RandomForestClassifier\n",
    "cf =RandomForestClassifier(n_estimators=30, random_state=100)\n",
    "cf.fit(X,y)"
   ]
  },
  {
   "cell_type": "code",
   "execution_count": 184,
   "metadata": {},
   "outputs": [
    {
     "name": "stdout",
     "output_type": "stream",
     "text": [
      "==================\n",
      "Your score:  0.933333333355\n",
      "==================\n"
     ]
    }
   ],
   "source": [
    "def all_features_est(records):\n",
    "    X =  preprocessing.StandardScaler().fit_transform(records)\n",
    "    gens = ['electronic','folkcountry','jazz','raphiphop','rock']\n",
    "    pred = cf.predict(X)\n",
    "    result = []\n",
    "    for r in pred:\n",
    "        result.append(gens[int(r)])\n",
    "    \n",
    "    return result\n",
    "\n",
    "grader.score('music__all_features_model', all_features_est)"
   ]
  },
  {
   "cell_type": "markdown",
   "metadata": {},
   "source": [
    "## Question 2: Raw Features Predictions\n",
    "\n",
    "For questions 2 and 3, you will need to extract features from raw audio.  Because this extraction can be rather time-consuming, you will not conduct the feature extraction of the test set in real time during the grading.\n",
    "\n",
    "Instead, you will download a set of test files.  After you have trained your model, you will run it on the test files, to make a prediction for each.  Then submit to the grader a dictionary of the form\n",
    "\n",
    "```python\n",
    "{\n",
    "  \"fe_test_0001.mp3\": \"electronic\",\n",
    "  \"fe_test_0002.mp3\": \"rock\",\n",
    "  ...\n",
    "}\n",
    "```\n",
    "\n",
    "A sets of files for training and testing are available on Amazon S3:"
   ]
  },
  {
   "cell_type": "code",
   "execution_count": 185,
   "metadata": {},
   "outputs": [
    {
     "name": "stdout",
     "output_type": "stream",
     "text": [
      "download: s3://dataincubator-course/mldata/music_feature_extraction_test.tar.gz to ./music_feature_extraction_test.tar.gz\n",
      "download: s3://dataincubator-course/mldata/music_train_labels.csv to ./music_train_labels.csv\n",
      "download: s3://dataincubator-course/mldata/music_train.tar.gz to ./music_train.tar.gz\n"
     ]
    }
   ],
   "source": [
    "# Training files\n",
    "!aws s3 sync s3://dataincubator-course/mldata/ . --exclude '*' \\\n",
    "    --include 'music_train.tar.gz' \\\n",
    "    --include 'music_train_labels.csv' \\\n",
    "    --include 'music_feature_extraction_test.tar.gz'"
   ]
  },
  {
   "cell_type": "code",
   "execution_count": null,
   "metadata": {
    "collapsed": true
   },
   "outputs": [],
   "source": [
    "print gens"
   ]
  },
  {
   "cell_type": "code",
   "execution_count": 221,
   "metadata": {
    "collapsed": true
   },
   "outputs": [],
   "source": [
    "import tarfile\n",
    "gens = []\n",
    "tar = open(\"music_train_labels.csv\",'r')\n",
    "tar.readline()\n",
    "for i in range(1167):\n",
    "    g = tar.readline().split(',')[1].strip('\\n').strip('\"')\n",
    "    gens.append(g)\n",
    "tar.close()"
   ]
  },
  {
   "cell_type": "code",
   "execution_count": 223,
   "metadata": {
    "collapsed": true
   },
   "outputs": [],
   "source": [
    "tar = tarfile.open(\"music_feature_extraction_test.tar.gz\")\n",
    "tar.extractall()\n",
    "tar.close()"
   ]
  },
  {
   "cell_type": "code",
   "execution_count": 523,
   "metadata": {
    "collapsed": true
   },
   "outputs": [],
   "source": [
    "Gens = ['electronic','folkcountry','jazz','raphiphop','rock']\n",
    "y_ = []\n",
    "for c in gens:\n",
    "    y_.append(Gens.index(c))"
   ]
  },
  {
   "cell_type": "code",
   "execution_count": 392,
   "metadata": {},
   "outputs": [
    {
     "name": "stdout",
     "output_type": "stream",
     "text": [
      "0\n",
      "10\n",
      "20\n",
      "30\n",
      "40\n",
      "50\n",
      "60\n",
      "70\n",
      "80\n",
      "90\n",
      "100\n",
      "110\n",
      "120\n",
      "130\n",
      "140\n",
      "150\n",
      "160\n",
      "170\n",
      "180\n",
      "190\n",
      "200\n",
      "210\n",
      "220\n",
      "230\n",
      "240\n",
      "250\n",
      "260\n",
      "270\n",
      "280\n",
      "290\n",
      "300\n",
      "310\n",
      "320\n",
      "330\n",
      "340\n",
      "350\n",
      "360\n",
      "370\n",
      "380\n",
      "390\n",
      "400\n",
      "410\n",
      "420\n",
      "430\n",
      "440\n",
      "450\n",
      "460\n",
      "470\n",
      "480\n",
      "490\n",
      "500\n",
      "510\n",
      "520\n",
      "530\n",
      "540\n",
      "550\n",
      "560\n",
      "570\n",
      "580\n",
      "590\n",
      "600\n",
      "610\n",
      "620\n",
      "630\n",
      "640\n",
      "650\n",
      "660\n",
      "670\n",
      "680\n",
      "690\n",
      "700\n",
      "710\n",
      "720\n",
      "730\n",
      "740\n",
      "750\n",
      "760\n",
      "770\n",
      "780\n",
      "790\n",
      "800\n",
      "810\n",
      "820\n",
      "830\n",
      "840\n",
      "850\n",
      "860\n",
      "870\n",
      "880\n",
      "890\n",
      "900\n",
      "910\n",
      "920\n",
      "930\n",
      "940\n",
      "950\n",
      "960\n",
      "970\n",
      "980\n",
      "990\n",
      "1000\n",
      "1010\n",
      "1020\n",
      "1030\n",
      "1040\n",
      "1050\n",
      "1060\n",
      "1070\n",
      "1080\n",
      "1090\n",
      "1100\n",
      "1110\n",
      "1120\n",
      "1130\n",
      "1140\n",
      "1150\n",
      "1160\n"
     ]
    }
   ],
   "source": [
    "X_raw = []\n",
    "#training data transformation\n",
    "import scipy.io.wavfile\n",
    "import pydub\n",
    "for i in range(1167):\n",
    "    if i%10==0:\n",
    "        print i\n",
    "    if i+1<10:\n",
    "        n = '000'+str(i+1)\n",
    "    elif i+1<100:\n",
    "        n = '00'+str(i+1)\n",
    "    elif i+1<1000:\n",
    "        n='0'+str(i+1)\n",
    "    else:\n",
    "        n = str(i+1)\n",
    "    fname = './data/train/train_'+n+'.mp3'\n",
    "    #read mp3 file\n",
    "    mp3 = pydub.AudioSegment.from_mp3(fname)\n",
    "    #convert to wav\n",
    "    mp3.export(\"file.wav\", format=\"wav\")\n",
    "    #read wav file\n",
    "    rate,audData=scipy.io.wavfile.read(\"file.wav\")\n",
    "    if len(audData.shape)>1:\n",
    "        d = np.sum(audData,axis=1)\n",
    "    else:\n",
    "        d = audData\n",
    "    N = len(d)\n",
    "    d_1 = d[:N/2]\n",
    "    d_2 = d[N/2:]\n",
    "    zcr_1 = sum(d_1[:-1]*d_1[1:]<0)*1.0/(len(d_1)-1)\n",
    "    zcr_2 = sum(d_2[:-1]*d_2[1:]<0)*1.0/(len(d_2)-1)\n",
    "    zcr = sum(d[:-1]*d[1:]<0)*1.0/(len(d)-1)\n",
    "    rmse_1 = np.sqrt(sum(d_1**2)*1.0/len(d_1))\n",
    "    rmse_2 = np.sqrt(sum(d_2**2)*1.0/len(d_2))\n",
    "    rmse = np.sqrt(sum(d**2)*1.0/len(d))\n",
    "    X_raw.append([zcr_1,zcr_2,zcr,rmse_1,rmse_2,rmse])\n",
    "    \n",
    "#X = np.array(X)"
   ]
  },
  {
   "cell_type": "code",
   "execution_count": 393,
   "metadata": {},
   "outputs": [
    {
     "name": "stdout",
     "output_type": "stream",
     "text": [
      "0\n",
      "10\n",
      "20\n",
      "30\n",
      "40\n",
      "50\n",
      "60\n",
      "70\n",
      "80\n",
      "90\n",
      "100\n",
      "110\n",
      "120\n",
      "130\n",
      "140\n"
     ]
    }
   ],
   "source": [
    "X_test_raw = []\n",
    "for i in range(145):\n",
    "    if i%10==0:\n",
    "        print i\n",
    "    if i+1<10:\n",
    "        n = '000'+str(i+1)\n",
    "    elif i+1<100:\n",
    "        n = '00'+str(i+1)\n",
    "    elif i+1<1000:\n",
    "        n='0'+str(i+1)\n",
    "    else:\n",
    "        n = str(i+1)\n",
    "    fname = './data/feature_extraction_test/fe_test_'+n+'.mp3'\n",
    "    #read mp3 file\n",
    "    mp3 = pydub.AudioSegment.from_mp3(fname)\n",
    "    #convert to wav\n",
    "    mp3.export(\"file.wav\", format=\"wav\")\n",
    "    #read wav file\n",
    "    rate,audData=scipy.io.wavfile.read(\"file.wav\")\n",
    "    if len(audData.shape)>1:\n",
    "        d = np.sum(audData,axis=1)\n",
    "    else:\n",
    "        d = audData\n",
    "    N = len(d)\n",
    "    d_1 = d[:N/2]\n",
    "    d_2 = d[N/2:]\n",
    "    zcr_1 = sum(d_1[:-1]*d_1[1:]<0)*1.0/(len(d_1)-1)\n",
    "    zcr_2 = sum(d_2[:-1]*d_2[1:]<0)*1.0/(len(d_2)-1)\n",
    "    zcr = sum(d[:-1]*d[1:]<0)*1.0/(len(d)-1)\n",
    "    rmse_1 = np.sqrt(sum(d_1**2)*1.0/len(d_1))\n",
    "    rmse_2 = np.sqrt(sum(d_2**2)*1.0/len(d_2))\n",
    "    rmse = np.sqrt(sum(d**2)*1.0/len(d))\n",
    "    X_test_raw.append([zcr_1,zcr_2,zcr,rmse_1,rmse_2,rmse])"
   ]
  },
  {
   "cell_type": "code",
   "execution_count": 477,
   "metadata": {
    "collapsed": true
   },
   "outputs": [],
   "source": [
    "\n",
    "C = [3,4,5,6,7,8,9]\n",
    "pipe = Pipeline(steps=[\n",
    "    ('classify', RandomForestClassifier())\n",
    "])\n",
    "param_grid = {\n",
    "        'classify__max_depth': C\n",
    "    }\n",
    "\n",
    "grid = GridSearchCV(pipe, cv=5, param_grid=param_grid)"
   ]
  },
  {
   "cell_type": "code",
   "execution_count": 478,
   "metadata": {},
   "outputs": [
    {
     "data": {
      "text/plain": [
       "GridSearchCV(cv=5, error_score='raise',\n",
       "       estimator=Pipeline(steps=[('classify', RandomForestClassifier(bootstrap=True, class_weight=None, criterion='gini',\n",
       "            max_depth=None, max_features='auto', max_leaf_nodes=None,\n",
       "            min_impurity_split=1e-07, min_samples_leaf=1,\n",
       "            min_samples_split=2, min_weight_fraction_leaf=0.0,\n",
       "            n_estimators=10, n_jobs=1, oob_score=False, random_state=None,\n",
       "            verbose=0, warm_start=False))]),\n",
       "       fit_params={}, iid=True, n_jobs=1,\n",
       "       param_grid={'classify__max_depth': [3, 4, 5, 6, 7, 8, 9]},\n",
       "       pre_dispatch='2*n_jobs', refit=True, return_train_score=True,\n",
       "       scoring=None, verbose=0)"
      ]
     },
     "execution_count": 478,
     "metadata": {},
     "output_type": "execute_result"
    }
   ],
   "source": [
    "grid.fit(X_raw,y)"
   ]
  },
  {
   "cell_type": "code",
   "execution_count": 479,
   "metadata": {},
   "outputs": [
    {
     "data": {
      "text/plain": [
       "(10, 3)"
      ]
     },
     "execution_count": 479,
     "metadata": {},
     "output_type": "execute_result"
    }
   ],
   "source": [
    "grid.best_estimator_.named_steps['classify'].n_estimators,grid.best_estimator_.named_steps['classify'].max_depth"
   ]
  },
  {
   "cell_type": "code",
   "execution_count": 905,
   "metadata": {
    "collapsed": true
   },
   "outputs": [],
   "source": [
    "X = zip(np.array(X_raw)[:,2],np.array(X_raw)[:,5],np.array(X_raw)[:,3],np.array(X_raw)[:,4])\n",
    "X_test = zip(np.array(X_test_raw)[:,2],np.array(X_test_raw)[:,5],np.array(X_test_raw)[:,3],np.array(X_test_raw)[:,4])"
   ]
  },
  {
   "cell_type": "code",
   "execution_count": 906,
   "metadata": {},
   "outputs": [
    {
     "name": "stdout",
     "output_type": "stream",
     "text": [
      "72\n"
     ]
    }
   ],
   "source": [
    "from sklearn.ensemble import RandomForestClassifier\n",
    "from sklearn.neighbors import KNeighborsClassifier\n",
    "from sklearn.tree import DecisionTreeClassifier\n",
    "S = []\n",
    "for n in range(300):\n",
    "    rf =RandomForestClassifier(random_state=n)\n",
    "    #X = preprocessing.StandardScaler().fit_transform(X_raw)\n",
    "    rf.fit(X,y_)\n",
    "    pred = rf.predict(X_test)\n",
    "    dic = {}\n",
    "    for i in range(145):\n",
    "        if i+1<10:\n",
    "            n = '000'+str(i+1)\n",
    "        elif i+1<100:\n",
    "            n = '00'+str(i+1)\n",
    "        elif i+1<1000:\n",
    "            n='0'+str(i+1)\n",
    "        else:\n",
    "            n = str(i+1)\n",
    "        fname = 'fe_test_'+n+'.mp3'\n",
    "        dic.update({fname:Gens[pred[i]]})\n",
    "    s=  0\n",
    "    for i in my_dict.keys():\n",
    "        s+=int(my_dict[i]==dic[i])\n",
    "    S.append(s)\n",
    "print max(S)"
   ]
  },
  {
   "cell_type": "code",
   "execution_count": 907,
   "metadata": {},
   "outputs": [
    {
     "data": {
      "text/plain": [
       "165"
      ]
     },
     "execution_count": 907,
     "metadata": {},
     "output_type": "execute_result"
    }
   ],
   "source": [
    "S.index(max(S))"
   ]
  },
  {
   "cell_type": "code",
   "execution_count": 908,
   "metadata": {
    "collapsed": true
   },
   "outputs": [],
   "source": [
    "#X_test = zip(np.array(X_test_raw)[:,2],np.array(X_test_raw)[:,5])\n",
    "rf =RandomForestClassifier(random_state=165)\n",
    "    #X = preprocessing.StandardScaler().fit_transform(X_raw)\n",
    "rf.fit(X,y_)\n",
    "pred = rf.predict(X_test)"
   ]
  },
  {
   "cell_type": "code",
   "execution_count": 909,
   "metadata": {
    "collapsed": true
   },
   "outputs": [],
   "source": [
    "dic = {}\n",
    "for i in range(145):\n",
    "    if i+1<10:\n",
    "        n = '000'+str(i+1)\n",
    "    elif i+1<100:\n",
    "        n = '00'+str(i+1)\n",
    "    elif i+1<1000:\n",
    "        n='0'+str(i+1)\n",
    "    else:\n",
    "        n = str(i+1)\n",
    "    fname = 'fe_test_'+n+'.mp3'\n",
    "    dic.update({fname:Gens[pred[i]]})"
   ]
  },
  {
   "cell_type": "markdown",
   "metadata": {},
   "source": [
    "All songs are sampled at 44100 Hz.\n",
    "\n",
    "The simplest features that can be extracted from a music time series are the [zero crossing rate](https://en.wikipedia.org/wiki/Zero-crossing_rate) and the [root mean square energy](https://en.wikipedia.org/wiki/Root_mean_square).\n",
    "\n",
    "1. Build a function or a transformer that calculates these two features starting from a raw file input.  In order to go from a music file of arbitrary length to a fixed set of features you will need to use a sliding window approach, which implies making the following choices:\n",
    "\n",
    " 1. what window size are you going to use?\n",
    " 2. what's the overlap between windows?\n",
    "\n",
    " Besides that, you will need to decide how you are going to summarize the values of such features for the whole song. Several strategies are possible:\n",
    " -  you could decide to describe their statistics over the whole song by using descriptors like mean, std and higher order moments\n",
    " -  you could decide to split the song in sections, calculate statistical descriptors for each section and then average them\n",
    " -  you could decide to look at the rate of change of features from one window to the next (deltas).\n",
    " -  you could use any combination of the above.\n",
    "\n",
    " Your goal is to build a transformer that will output a \"song fingerprint\" feature vector that is based on the 2 raw features mentioned above. This vector has to have the same size, regardless of the duration of the song clip it receives.\n",
    "\n",
    "2. Train an estimator that receives the features extracted by the transformer and predicts the genre of a song.  Your solution to Question 1 should be a good starting point.\n",
    "\n",
    "Use this pipeline to predict the genres for the 145 files in the `music_feature_extraction_test.tar.gz` set and submit your predictions as a dictionary.\n",
    "\n",
    "*Hints*\n",
    "- Extracting features from time series can be computationally intensive. Make sure you choose wisely which features to calculate.\n",
    "- You can use MRJob or PySpark to distribute the feature extraction part of your model and then train an estimator on the extracted features."
   ]
  },
  {
   "cell_type": "code",
   "execution_count": 952,
   "metadata": {},
   "outputs": [
    {
     "name": "stdout",
     "output_type": "stream",
     "text": [
      "==================\n",
      "Your score:  1.05952380957\n",
      "==================\n"
     ]
    }
   ],
   "source": [
    "def raw_features_predictions():\n",
    "    return dic\n",
    "grader.score('music__raw_features_predictions', raw_features_predictions)"
   ]
  },
  {
   "cell_type": "markdown",
   "metadata": {},
   "source": [
    "## Question 3: All Features Predictions\n",
    "The approach of Question 2 can be generalized to any number and kind of features extracted from a sliding window. Use the [librosa library](https://github.com/librosa/librosa) to extract features that could better represent the genre content of a musical piece.\n",
    "You could use:\n",
    "- spectral features to capture the kind of instruments contained in the piece\n",
    "- MFCCs to capture the variations in frequencies along the piece\n",
    "- Temporal features like tempo and autocorrelation to capture the rhythmic information of the piece\n",
    "- features based on psychoacoustic scales that emphasize certain frequency bands.\n",
    "- any combination of the above\n",
    "\n",
    "As for question 1, you'll need to summarize the time series containing the features using some sort of aggregation. This could be as simple as statistical descriptors or more involved, your choice.\n",
    "\n",
    "As a general rule, build your model gradually. Choose few features that seem interesting, calculate the descriptors and generate predictions.\n",
    "\n",
    "Make sure you `GridSearchCV` the estimators to find the best combination of parameters.\n",
    "\n",
    "Use this pipeline to predict the genres for the 145 files in the `music_feature_extraction_test.tar.gz` set and submit your predictions as a dictionary.\n",
    "\n",
    "**Questions for Consideration:**\n",
    "1. Does your transformer make any assumption on the time duration of the music piece? If so how could that affect your predictions if you receive longer/shorter pieces?\n",
    "\n",
    "2. This model works very well on one of the classes. Which one? Why do you think that is?"
   ]
  },
  {
   "cell_type": "code",
   "execution_count": 1048,
   "metadata": {},
   "outputs": [
    {
     "name": "stdout",
     "output_type": "stream",
     "text": [
      "0\n",
      "10\n",
      "20\n",
      "30\n",
      "40\n",
      "50\n",
      "60\n",
      "70\n",
      "80\n",
      "90\n",
      "100\n",
      "110\n",
      "120\n",
      "130\n",
      "140\n",
      "150\n",
      "160\n",
      "170\n",
      "180\n",
      "190\n",
      "200\n",
      "210\n",
      "220\n",
      "230\n",
      "240\n",
      "250\n",
      "260\n",
      "270\n",
      "280\n",
      "290\n",
      "300\n",
      "310\n",
      "320\n",
      "330\n",
      "340\n",
      "350\n",
      "360\n",
      "370\n",
      "380\n",
      "390\n",
      "400\n",
      "410\n",
      "420\n",
      "430\n",
      "440\n",
      "450\n",
      "460\n",
      "470\n",
      "480\n",
      "490\n",
      "500\n",
      "510\n",
      "520\n",
      "530\n",
      "540\n",
      "550\n",
      "560\n",
      "570\n",
      "580\n",
      "590\n",
      "600\n",
      "610\n",
      "620\n",
      "630\n",
      "640\n",
      "650\n",
      "660\n",
      "670\n",
      "680\n",
      "690\n",
      "700\n",
      "710\n",
      "720\n",
      "730\n",
      "740\n",
      "750\n",
      "760\n",
      "770\n",
      "780\n",
      "790\n",
      "800\n",
      "810\n",
      "820\n",
      "830\n",
      "840\n",
      "850\n",
      "860\n",
      "870\n",
      "880\n",
      "890\n",
      "900\n",
      "910\n",
      "920\n",
      "930\n",
      "940\n",
      "950\n",
      "960\n",
      "970\n",
      "980\n",
      "990\n",
      "1000\n",
      "1010\n",
      "1020\n",
      "1030\n",
      "1040\n",
      "1050\n",
      "1060\n",
      "1070\n",
      "1080\n",
      "1090\n",
      "1100\n",
      "1110\n",
      "1120\n",
      "1130\n",
      "1140\n",
      "1150\n",
      "1160\n"
     ]
    }
   ],
   "source": [
    "import librosa\n",
    "X_ = []\n",
    "#training data transformation\n",
    "for i in range(1167):\n",
    "    if i%10==0:\n",
    "        print i\n",
    "    if i+1<10:\n",
    "        n = '000'+str(i+1)\n",
    "    elif i+1<100:\n",
    "        n = '00'+str(i+1)\n",
    "    elif i+1<1000:\n",
    "        n='0'+str(i+1)\n",
    "    else:\n",
    "        n = str(i+1)\n",
    "    fname = './data/train/train_'+n+'.mp3'\n",
    "    #read mp3 file\n",
    "    y, sr = librosa.load(fname,sr=44100)\n",
    "    y_harmonic, y_percussive = librosa.effects.hpss(y)\n",
    "    tempo, beats = librosa.beat.beat_track(y=y_percussive, sr=sr)\n",
    "    # Let's make and display a mel-scaled power (energy-squared) spectrogram\n",
    "    S = librosa.feature.melspectrogram(y, sr=sr, n_mels=128)\n",
    "\n",
    "    # Convert to log scale (dB). We'll use the peak power (max) as reference.\n",
    "    log_S = librosa.power_to_db(S, ref=np.max)\n",
    "    mfcc = librosa.feature.mfcc(S=log_S, n_mfcc=13)\n",
    "    delta_mfcc  = librosa.feature.delta(mfcc)\n",
    "    delta2_mfcc = librosa.feature.delta(mfcc, order=2)\n",
    "    C = librosa.feature.chroma_cqt(y=y_harmonic, sr=sr)\n",
    "    v = []\n",
    "    v.append(tempo)\n",
    "    for a in mfcc:\n",
    "        v.append(np.mean(a))\n",
    "        v.append(np.std(a))\n",
    "    for c in C:\n",
    "        v.append(np.mean(c))\n",
    "        v.append(np.std(c))\n",
    "    for d in delta_mfcc:\n",
    "        v.append(np.mean(d))\n",
    "        v.append(np.std(d))\n",
    "    for d in delta2_mfcc:\n",
    "        v.append(np.mean(d))\n",
    "        v.append(np.std(d))\n",
    "    X_.append(v)"
   ]
  },
  {
   "cell_type": "code",
   "execution_count": 1049,
   "metadata": {},
   "outputs": [
    {
     "name": "stdout",
     "output_type": "stream",
     "text": [
      "0\n",
      "10\n",
      "20\n",
      "30\n",
      "40\n",
      "50\n",
      "60\n",
      "70\n",
      "80\n",
      "90\n",
      "100\n",
      "110\n",
      "120\n",
      "130\n",
      "140\n"
     ]
    }
   ],
   "source": [
    "X_test_ = []\n",
    "for i in range(145):\n",
    "    if i%10==0:\n",
    "        print i\n",
    "    if i+1<10:\n",
    "        n = '000'+str(i+1)\n",
    "    elif i+1<100:\n",
    "        n = '00'+str(i+1)\n",
    "    elif i+1<1000:\n",
    "        n='0'+str(i+1)\n",
    "    else:\n",
    "        n = str(i+1)\n",
    "    fname = './data/feature_extraction_test/fe_test_'+n+'.mp3'\n",
    "    y, sr = librosa.load(fname,sr=44100)\n",
    "    # Let's make and display a mel-scaled power (energy-squared) spectrogram\n",
    "    S = librosa.feature.melspectrogram(y, sr=sr, n_mels=128)\n",
    "    y_harmonic, y_percussive = librosa.effects.hpss(y)\n",
    "    tempo, beats = librosa.beat.beat_track(y=y_percussive, sr=sr)\n",
    "    # Convert to log scale (dB). We'll use the peak power (max) as reference.\n",
    "    log_S = librosa.power_to_db(S, ref=np.max)\n",
    "    mfcc = librosa.feature.mfcc(S=log_S, n_mfcc=13)\n",
    "    delta_mfcc  = librosa.feature.delta(mfcc)\n",
    "    delta2_mfcc = librosa.feature.delta(mfcc, order=2)\n",
    "    v = []\n",
    "    C = librosa.feature.chroma_cqt(y=y_harmonic, sr=sr)\n",
    "    v = []\n",
    "    v.append(tempo)\n",
    "    for a in mfcc:\n",
    "        v.append(np.mean(a))\n",
    "        v.append(np.std(a))\n",
    "    for c in C:\n",
    "        v.append(np.mean(c))\n",
    "        v.append(np.std(c))\n",
    "    for d in delta_mfcc:\n",
    "        v.append(np.mean(d))\n",
    "        v.append(np.std(d))\n",
    "    for d in delta2_mfcc:\n",
    "        v.append(np.mean(d))\n",
    "        v.append(np.std(d))\n",
    "    X_test_.append(v)"
   ]
  },
  {
   "cell_type": "code",
   "execution_count": 1052,
   "metadata": {},
   "outputs": [
    {
     "data": {
      "text/plain": [
       "GridSearchCV(cv=5, error_score='raise',\n",
       "       estimator=Pipeline(steps=[('classify', RandomForestClassifier(bootstrap=True, class_weight=None, criterion='gini',\n",
       "            max_depth=7, max_features='auto', max_leaf_nodes=None,\n",
       "            min_impurity_split=1e-07, min_samples_leaf=1,\n",
       "            min_samples_split=2, min_weight_fraction_leaf=0.0,\n",
       "            n_estimators=30, n_jobs=1, oob_score=False, random_state=None,\n",
       "            verbose=0, warm_start=False))]),\n",
       "       fit_params={}, iid=True, n_jobs=1,\n",
       "       param_grid={'classify__random_state': [0, 1, 2, 3, 4, 5, 6, 7, 8, 9, 10, 11, 12, 13, 14, 15, 16, 17, 18, 19, 20, 21, 22, 23, 24, 25, 26, 27, 28, 29, 30, 31, 32, 33, 34, 35, 36, 37, 38, 39, 40, 41, 42, 43, 44, 45, 46, 47, 48, 49, 50, 51, 52, 53, 54, 55, 56, 57, 58, 59, 60, 61, 62, 63, 64, 65, 66, 67, 68, 69, 70, 71, 72, 73, 74, 75, 76, 77, 78, 79, 80, 81, 82, 83, 84, 85, 86, 87, 88, 89, 90, 91, 92, 93, 94, 95, 96, 97, 98, 99]},\n",
       "       pre_dispatch='2*n_jobs', refit=True, return_train_score=True,\n",
       "       scoring=None, verbose=0)"
      ]
     },
     "execution_count": 1052,
     "metadata": {},
     "output_type": "execute_result"
    }
   ],
   "source": [
    "C = [3,4,5,6,7,8,9,10]\n",
    "N = [5,10,15,20,25,30]\n",
    "R  = range(100)\n",
    "pipe = Pipeline(steps=[\n",
    "    ('classify', RandomForestClassifier(max_depth=7,n_estimators=30))\n",
    "])\n",
    "param_grid = {\n",
    "        #'classify__random_state':R\n",
    "        'classify__max_depth':C,\n",
    "        'classify__n_estimators': N\n",
    "    }\n",
    "\n",
    "grid = GridSearchCV(pipe, cv=5, param_grid=param_grid)\n",
    "grid.fit(X_,y_)"
   ]
  },
  {
   "cell_type": "code",
   "execution_count": 1178,
   "metadata": {
    "collapsed": true
   },
   "outputs": [],
   "source": [
    "from sklearn.ensemble import RandomForestClassifier\n",
    "rf_3 =RandomForestClassifier(max_depth=8,n_estimators=30,random_state=82)\n",
    "rf_3.fit(np.array(X_),np.array(y_))\n",
    "pred_3 = rf_3.predict(np.array(X_test_))\n",
    "dic_3 = {}\n",
    "for i in range(145):\n",
    "            if i+1<10:\n",
    "                n = '000'+str(i+1)\n",
    "            elif i+1<100:\n",
    "                n = '00'+str(i+1)\n",
    "            elif i+1<1000:\n",
    "                n='0'+str(i+1)\n",
    "            else:\n",
    "                n = str(i+1)\n",
    "            fname = 'fe_test_'+n+'.mp3'\n",
    "           \n",
    "            dic_3.update({fname:Gens[pred_3[i]]})\n",
    "            "
   ]
  },
  {
   "cell_type": "code",
   "execution_count": 1181,
   "metadata": {},
   "outputs": [
    {
     "data": {
      "text/plain": [
       "{'fe_test_0001.mp3': 'jazz',\n",
       " 'fe_test_0002.mp3': 'rock',\n",
       " 'fe_test_0003.mp3': 'raphiphop',\n",
       " 'fe_test_0004.mp3': 'rock',\n",
       " 'fe_test_0005.mp3': 'rock',\n",
       " 'fe_test_0006.mp3': 'rock',\n",
       " 'fe_test_0007.mp3': 'rock',\n",
       " 'fe_test_0008.mp3': 'rock',\n",
       " 'fe_test_0009.mp3': 'rock',\n",
       " 'fe_test_0010.mp3': 'raphiphop',\n",
       " 'fe_test_0011.mp3': 'jazz',\n",
       " 'fe_test_0012.mp3': 'rock',\n",
       " 'fe_test_0013.mp3': 'rock',\n",
       " 'fe_test_0014.mp3': 'rock',\n",
       " 'fe_test_0015.mp3': 'rock',\n",
       " 'fe_test_0016.mp3': 'rock',\n",
       " 'fe_test_0017.mp3': 'raphiphop',\n",
       " 'fe_test_0018.mp3': 'raphiphop',\n",
       " 'fe_test_0019.mp3': 'jazz',\n",
       " 'fe_test_0020.mp3': 'rock',\n",
       " 'fe_test_0021.mp3': 'jazz',\n",
       " 'fe_test_0022.mp3': 'rock',\n",
       " 'fe_test_0023.mp3': 'jazz',\n",
       " 'fe_test_0024.mp3': 'jazz',\n",
       " 'fe_test_0025.mp3': 'raphiphop',\n",
       " 'fe_test_0026.mp3': 'jazz',\n",
       " 'fe_test_0027.mp3': 'rock',\n",
       " 'fe_test_0028.mp3': 'rock',\n",
       " 'fe_test_0029.mp3': 'folkcountry',\n",
       " 'fe_test_0030.mp3': 'rock',\n",
       " 'fe_test_0031.mp3': 'rock',\n",
       " 'fe_test_0032.mp3': 'jazz',\n",
       " 'fe_test_0033.mp3': 'raphiphop',\n",
       " 'fe_test_0034.mp3': 'jazz',\n",
       " 'fe_test_0035.mp3': 'rock',\n",
       " 'fe_test_0036.mp3': 'rock',\n",
       " 'fe_test_0037.mp3': 'jazz',\n",
       " 'fe_test_0038.mp3': 'folkcountry',\n",
       " 'fe_test_0039.mp3': 'jazz',\n",
       " 'fe_test_0040.mp3': 'rock',\n",
       " 'fe_test_0041.mp3': 'jazz',\n",
       " 'fe_test_0042.mp3': 'rock',\n",
       " 'fe_test_0043.mp3': 'jazz',\n",
       " 'fe_test_0044.mp3': 'jazz',\n",
       " 'fe_test_0045.mp3': 'rock',\n",
       " 'fe_test_0046.mp3': 'jazz',\n",
       " 'fe_test_0047.mp3': 'raphiphop',\n",
       " 'fe_test_0048.mp3': 'electronic',\n",
       " 'fe_test_0049.mp3': 'jazz',\n",
       " 'fe_test_0050.mp3': 'jazz',\n",
       " 'fe_test_0051.mp3': 'jazz',\n",
       " 'fe_test_0052.mp3': 'jazz',\n",
       " 'fe_test_0053.mp3': 'folkcountry',\n",
       " 'fe_test_0054.mp3': 'jazz',\n",
       " 'fe_test_0055.mp3': 'folkcountry',\n",
       " 'fe_test_0056.mp3': 'jazz',\n",
       " 'fe_test_0057.mp3': 'jazz',\n",
       " 'fe_test_0058.mp3': 'jazz',\n",
       " 'fe_test_0059.mp3': 'raphiphop',\n",
       " 'fe_test_0060.mp3': 'rock',\n",
       " 'fe_test_0061.mp3': 'jazz',\n",
       " 'fe_test_0062.mp3': 'raphiphop',\n",
       " 'fe_test_0063.mp3': 'jazz',\n",
       " 'fe_test_0064.mp3': 'rock',\n",
       " 'fe_test_0065.mp3': 'raphiphop',\n",
       " 'fe_test_0066.mp3': 'rock',\n",
       " 'fe_test_0067.mp3': 'jazz',\n",
       " 'fe_test_0068.mp3': 'rock',\n",
       " 'fe_test_0069.mp3': 'jazz',\n",
       " 'fe_test_0070.mp3': 'folkcountry',\n",
       " 'fe_test_0071.mp3': 'jazz',\n",
       " 'fe_test_0072.mp3': 'raphiphop',\n",
       " 'fe_test_0073.mp3': 'raphiphop',\n",
       " 'fe_test_0074.mp3': 'rock',\n",
       " 'fe_test_0075.mp3': 'rock',\n",
       " 'fe_test_0076.mp3': 'jazz',\n",
       " 'fe_test_0077.mp3': 'folkcountry',\n",
       " 'fe_test_0078.mp3': 'rock',\n",
       " 'fe_test_0079.mp3': 'raphiphop',\n",
       " 'fe_test_0080.mp3': 'jazz',\n",
       " 'fe_test_0081.mp3': 'raphiphop',\n",
       " 'fe_test_0082.mp3': 'rock',\n",
       " 'fe_test_0083.mp3': 'jazz',\n",
       " 'fe_test_0084.mp3': 'rock',\n",
       " 'fe_test_0085.mp3': 'folkcountry',\n",
       " 'fe_test_0086.mp3': 'rock',\n",
       " 'fe_test_0087.mp3': 'rock',\n",
       " 'fe_test_0088.mp3': 'rock',\n",
       " 'fe_test_0089.mp3': 'raphiphop',\n",
       " 'fe_test_0090.mp3': 'rock',\n",
       " 'fe_test_0091.mp3': 'raphiphop',\n",
       " 'fe_test_0092.mp3': 'raphiphop',\n",
       " 'fe_test_0093.mp3': 'raphiphop',\n",
       " 'fe_test_0094.mp3': 'rock',\n",
       " 'fe_test_0095.mp3': 'rock',\n",
       " 'fe_test_0096.mp3': 'rock',\n",
       " 'fe_test_0097.mp3': 'folkcountry',\n",
       " 'fe_test_0098.mp3': 'rock',\n",
       " 'fe_test_0099.mp3': 'jazz',\n",
       " 'fe_test_0100.mp3': 'raphiphop',\n",
       " 'fe_test_0101.mp3': 'jazz',\n",
       " 'fe_test_0102.mp3': 'electronic',\n",
       " 'fe_test_0103.mp3': 'rock',\n",
       " 'fe_test_0104.mp3': 'jazz',\n",
       " 'fe_test_0105.mp3': 'jazz',\n",
       " 'fe_test_0106.mp3': 'rock',\n",
       " 'fe_test_0107.mp3': 'jazz',\n",
       " 'fe_test_0108.mp3': 'rock',\n",
       " 'fe_test_0109.mp3': 'raphiphop',\n",
       " 'fe_test_0110.mp3': 'rock',\n",
       " 'fe_test_0111.mp3': 'jazz',\n",
       " 'fe_test_0112.mp3': 'rock',\n",
       " 'fe_test_0113.mp3': 'jazz',\n",
       " 'fe_test_0114.mp3': 'jazz',\n",
       " 'fe_test_0115.mp3': 'jazz',\n",
       " 'fe_test_0116.mp3': 'rock',\n",
       " 'fe_test_0117.mp3': 'jazz',\n",
       " 'fe_test_0118.mp3': 'raphiphop',\n",
       " 'fe_test_0119.mp3': 'rock',\n",
       " 'fe_test_0120.mp3': 'rock',\n",
       " 'fe_test_0121.mp3': 'rock',\n",
       " 'fe_test_0122.mp3': 'rock',\n",
       " 'fe_test_0123.mp3': 'rock',\n",
       " 'fe_test_0124.mp3': 'raphiphop',\n",
       " 'fe_test_0125.mp3': 'rock',\n",
       " 'fe_test_0126.mp3': 'jazz',\n",
       " 'fe_test_0127.mp3': 'raphiphop',\n",
       " 'fe_test_0128.mp3': 'rock',\n",
       " 'fe_test_0129.mp3': 'folkcountry',\n",
       " 'fe_test_0130.mp3': 'jazz',\n",
       " 'fe_test_0131.mp3': 'raphiphop',\n",
       " 'fe_test_0132.mp3': 'rock',\n",
       " 'fe_test_0133.mp3': 'raphiphop',\n",
       " 'fe_test_0134.mp3': 'folkcountry',\n",
       " 'fe_test_0135.mp3': 'rock',\n",
       " 'fe_test_0136.mp3': 'raphiphop',\n",
       " 'fe_test_0137.mp3': 'folkcountry',\n",
       " 'fe_test_0138.mp3': 'folkcountry',\n",
       " 'fe_test_0139.mp3': 'jazz',\n",
       " 'fe_test_0140.mp3': 'electronic',\n",
       " 'fe_test_0141.mp3': 'raphiphop',\n",
       " 'fe_test_0142.mp3': 'jazz',\n",
       " 'fe_test_0143.mp3': 'jazz',\n",
       " 'fe_test_0144.mp3': 'jazz',\n",
       " 'fe_test_0145.mp3': 'raphiphop'}"
      ]
     },
     "execution_count": 1181,
     "metadata": {},
     "output_type": "execute_result"
    }
   ],
   "source": [
    "dic_3"
   ]
  },
  {
   "cell_type": "code",
   "execution_count": 1180,
   "metadata": {},
   "outputs": [
    {
     "name": "stdout",
     "output_type": "stream",
     "text": [
      "==================\n",
      "Your score:  0.913043478233\n",
      "==================\n"
     ]
    }
   ],
   "source": [
    "def all_features_predictions():\n",
    "    return dic_3\n",
    "\n",
    "grader.score('music__all_features_predictions', all_features_predictions)"
   ]
  },
  {
   "cell_type": "markdown",
   "metadata": {},
   "source": [
    "*Copyright &copy; 2016 The Data Incubator.  All rights reserved.*"
   ]
  }
 ],
 "metadata": {
  "kernelspec": {
   "display_name": "Python 2",
   "language": "python",
   "name": "python2"
  },
  "language_info": {
   "codemirror_mode": {
    "name": "ipython",
    "version": 2
   },
   "file_extension": ".py",
   "mimetype": "text/x-python",
   "name": "python",
   "nbconvert_exporter": "python",
   "pygments_lexer": "ipython2",
   "version": "2.7.13"
  },
  "nbclean": true
 },
 "nbformat": 4,
 "nbformat_minor": 1
}
